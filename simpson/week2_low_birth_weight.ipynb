{
 "cells": [
  {
   "cell_type": "markdown",
   "metadata": {},
   "source": [
    "# Week 2 case studies"
   ]
  },
  {
   "cell_type": "markdown",
   "metadata": {},
   "source": [
    "## Low birth weight\n",
    "\n",
    "One of the examples we looked at of causal reasoning was the [low birth weight paradox](https://academic.oup.com/aje/article/164/11/1115/61454). Here we go through the article above at a high level."
   ]
  },
  {
   "cell_type": "code",
   "execution_count": 1,
   "metadata": {
    "ExecuteTime": {
     "end_time": "2020-04-25T01:00:28.350694Z",
     "start_time": "2020-04-25T01:00:28.344007Z"
    }
   },
   "outputs": [
    {
     "data": {
      "application/javascript": [
       "require.config({\n",
       "    paths: { \n",
       "        d3: 'https://d3js.org/d3.v5.min'\n",
       "    }\n",
       "});\n"
      ],
      "text/plain": [
       "<IPython.core.display.Javascript object>"
      ]
     },
     "metadata": {},
     "output_type": "display_data"
    }
   ],
   "source": [
    "%%javascript\n",
    "require.config({\n",
    "    paths: { \n",
    "        d3: 'https://d3js.org/d3.v5.min'\n",
    "    }\n",
    "});"
   ]
  },
  {
   "cell_type": "code",
   "execution_count": 2,
   "metadata": {
    "ExecuteTime": {
     "end_time": "2020-04-25T01:00:29.504324Z",
     "start_time": "2020-04-25T01:00:28.351849Z"
    }
   },
   "outputs": [
    {
     "data": {
      "text/html": [
       "<style>\n",
       "\n",
       "svg {\n",
       "    width: 100vw;\n",
       "    height: 100vh;\n",
       "}\n",
       "\n",
       ".edge {\n",
       "    stroke: #555;\n",
       "}\n",
       "\n",
       ".node>text {\n",
       "    stroke: #333;\n",
       "}\n",
       "\n",
       ".node>circle {\n",
       "    stroke: #555;\n",
       "    stroke-width: 3px;\n",
       "    fill: white;\n",
       "    cursor: pointer;\n",
       "}\n",
       "</style>\n"
      ],
      "text/plain": [
       "<IPython.core.display.HTML object>"
      ]
     },
     "metadata": {},
     "output_type": "display_data"
    },
    {
     "data": {
      "application/javascript": [
       "require.undef('tree');\n",
       "\n",
       "define('tree', ['d3'], (d3) => {\n",
       "    const draw = (container, data, positions, width, height) => {\n",
       "        width = width || 600;\n",
       "        height = height || 200;\n",
       "        const svg = d3.select(container)\n",
       "                      .append('svg')\n",
       "                      .attr('width', width)\n",
       "                      .attr('height', height)\n",
       "                      .append('g');\n",
       "        \n",
       "        /*\n",
       "         * Script here taken and modified from\n",
       "         * https://gist.github.com/strawstack/bd339d1b304a6bf02d68bfdc80e1f2d1\n",
       "         * \n",
       "         * Accompying blog post:\n",
       "         * https://regularmemory.blog/post/draggable-network-graph-with-d3js/\n",
       "         */\n",
       "        const RADIUS = 20;\n",
       "        const randomLoc = () => RADIUS + (width - 2*RADIUS) * Math.random();\n",
       "\n",
       "        // Object to hold nodes and edges\n",
       "        let graph = {\"nodes\": {}, \"edges\": []};\n",
       "\n",
       "        // For each edge from graph.json\n",
       "        // create an object with a source and target\n",
       "        graph.edges = data.map( edge => { \n",
       "            return {\n",
       "                source: edge[0],\n",
       "                target: edge[1]\n",
       "        }});\n",
       "\n",
       "        // Create flat (1-dimensional) array from the list of edges\n",
       "        let nodes = data.flat();\n",
       "        // Remove duplicates from the list of vertices\n",
       "        nodes = [...new Set(nodes)];\n",
       "\n",
       "        // Create dictionary where each node will map to its properties\n",
       "        for (node of nodes) {\n",
       "            // Assign random coordinates to each vertex if not given in\n",
       "            // positions object\n",
       "            const location = (positions && positions[node]) || [randomLoc(), randomLoc()];\n",
       "            graph.nodes[node] = {\n",
       "                label: node,\n",
       "                x: location[0],\n",
       "                y: location[1]\n",
       "            };\n",
       "        }\n",
       "\n",
       "        // Add node refs to each link\n",
       "        graph.edges.forEach(d => {\n",
       "            d.source = graph.nodes[d.source];\n",
       "            d.target = graph.nodes[d.target];\n",
       "        });\n",
       "        \n",
       "        svg.append('defs').append('marker')\n",
       "    .attr(\"id\",'arrowhead')\n",
       "    .attr('viewBox','-0 -5 10 10') //the bound of the SVG viewport for the current SVG fragment. defines a coordinate system 10 wide and 10 high starting on (0,-5)\n",
       "     .attr('refX',23) // x coordinate for the reference point of the marker. If circle is bigger, this need to be bigger.\n",
       "     .attr('refY',0)\n",
       "     .attr('orient','auto')\n",
       "        .attr('markerWidth',13)\n",
       "        .attr('markerHeight',13)\n",
       "        .attr('xoverflow','visible')\n",
       "    .append('svg:path')\n",
       "    .attr('d', 'M 0,-5 L 10 ,0 L 0,5')\n",
       "    .attr('fill', '#999')\n",
       "    .style('stroke','none');\n",
       "\n",
       "        //console.log(graph);\n",
       "\n",
       "        var edge = svg.selectAll(\".edge\")\n",
       "            .data(graph.edges)\n",
       "            .enter().append(\"line\")\n",
       "            .attr(\"class\", \"edge\")\n",
       "            .attr(\"x1\", d => d.source.x)\n",
       "            .attr(\"y1\", d => d.source.y)\n",
       "            .attr(\"x2\", d => d.target.x)\n",
       "            .attr(\"y2\", d => d.target.y)\n",
       "            .attr('marker-end','url(#arrowhead)');\n",
       "\n",
       "        var node = svg.selectAll(\"node\")\n",
       "            .data(Object.values(graph.nodes))\n",
       "            .enter().append(\"g\")\n",
       "            .attr(\"class\", \"node\");\n",
       "\n",
       "        node.append(\"circle\")\n",
       "            .attr(\"r\", 20)\n",
       "            .attr(\"cx\", d => d.x)\n",
       "            .attr(\"cy\", d => d.y)\n",
       "            .call(d3.drag().on(\"drag\", dragged));\n",
       "\n",
       "        node.append(\"text\")\n",
       "            .attr(\"dx\", d => d.x)\n",
       "            .attr(\"dy\", d => d.y)\n",
       "            .attr(\"text-anchor\", \"middle\")\n",
       "            .attr(\"dominant-baseline\", \"central\")\n",
       "            .attr(\"pointer-events\", \"none\")\n",
       "            .text(d => d.label);\n",
       "\n",
       "        function dragged(d) {\n",
       "            d.x = d3.event.x, d.y = d3.event.y;\n",
       "            d3.select(this).attr(\"cx\", d.x).attr(\"cy\", d.y);\n",
       "            d3.select(this.parentNode).select(\"text\").attr(\"dx\", d.x).attr(\"dy\", d.y);\n",
       "            edge.filter(function(l) { return l.source === d; }).attr(\"x1\", d.x).attr(\"y1\", d.y);\n",
       "            edge.filter(function(l) { return l.target === d; }).attr(\"x2\", d.x).attr(\"y2\", d.y);\n",
       "        }\n",
       "\n",
       "\n",
       "    }\n",
       "    return draw;\n",
       "});\n",
       "\n",
       "element.append('<small>&#x25C9; &#x25CB; &#x25EF; Loaded tree.js &#x25CC; &#x25CE; &#x25CF;</small>');"
      ],
      "text/plain": [
       "<IPython.core.display.Javascript object>"
      ]
     },
     "metadata": {},
     "output_type": "display_data"
    }
   ],
   "source": [
    "import pandas as pd\n",
    "import numpy as np\n",
    "import matplotlib.pyplot as plt\n",
    "import seaborn as sns\n",
    "from scipy.stats import norm\n",
    "\n",
    "from dag import draw_dag\n",
    "\n",
    "%matplotlib inline"
   ]
  },
  {
   "cell_type": "markdown",
   "metadata": {},
   "source": [
    "## 1. Estimate raw data\n",
    "\n",
    "From Figure 1 in the paper, distributions of birth weights look approximately normal. We have\n",
    "\n",
    "- LBW: 2500 grams or less\n",
    "- $\\mu_{\\text{smoker}}$ = 3145g, $P(\\text{LBW}|\\text{smoker}) = 0.114$\n",
    "- $\\mu_{\\text{non-smoker}}$ = 3370g, $P(\\text{LBW}|\\text{non-smoker}) = 0.064$\n",
    "- $P(\\text{infant death}|\\text{smoker}) = 1235/100,000$\n",
    "- $P(\\text{infant death}|\\text{non-smoker}) = 805/100,000$ \n",
    "\n",
    "Let's estimate the standard deviation for each population and recreate figure 1:"
   ]
  },
  {
   "cell_type": "code",
   "execution_count": 3,
   "metadata": {
    "ExecuteTime": {
     "end_time": "2020-04-25T01:00:29.509756Z",
     "start_time": "2020-04-25T01:00:29.505825Z"
    }
   },
   "outputs": [],
   "source": [
    "LOW_BIRTH_WEIGHT = 2500\n",
    "\n",
    "def estimate_std_dev(prob_lbw, pop_mean):\n",
    "    z_score_from_cdf = norm.ppf(prob_lbw)\n",
    "    # z_lbw = (2500 - mean)/sigma\n",
    "    stddev = (LOW_BIRTH_WEIGHT - pop_mean) / z_score_from_cdf \n",
    "    return stddev\n",
    "\n",
    "mu_smoker, mu_nonsmoker = 3145, 3370\n",
    "std_smoker = estimate_std_dev(0.114, mu_smoker)\n",
    "std_nonsmoker = estimate_std_dev(0.064, mu_nonsmoker)"
   ]
  },
  {
   "cell_type": "code",
   "execution_count": 4,
   "metadata": {
    "ExecuteTime": {
     "end_time": "2020-04-25T01:00:29.513709Z",
     "start_time": "2020-04-25T01:00:29.510944Z"
    }
   },
   "outputs": [
    {
     "data": {
      "text/plain": [
       "535.0358052221212"
      ]
     },
     "execution_count": 4,
     "metadata": {},
     "output_type": "execute_result"
    }
   ],
   "source": [
    "std_smoker"
   ]
  },
  {
   "cell_type": "code",
   "execution_count": 5,
   "metadata": {
    "ExecuteTime": {
     "end_time": "2020-04-25T01:00:29.701317Z",
     "start_time": "2020-04-25T01:00:29.514865Z"
    }
   },
   "outputs": [
    {
     "data": {
      "image/png": "[encoded data removed]",
      "text/plain": [
       "<Figure size 864x720 with 1 Axes>"
      ]
     },
     "metadata": {
      "needs_background": "light"
     },
     "output_type": "display_data"
    }
   ],
   "source": [
    "plt.figure(figsize=(12,10))\n",
    "W = np.linspace(1000, 6000, 100)\n",
    "plt.plot(W, norm(loc=mu_smoker, scale=std_smoker).pdf(W), label='smoker')\n",
    "plt.plot(W, norm(loc=mu_nonsmoker, scale=std_smoker).pdf(W), label='non-smoker')\n",
    "plt.axvline(LOW_BIRTH_WEIGHT, ls='--')\n",
    "plt.legend()\n",
    "plt.ylim(0,)\n",
    "plt.xlabel('Birth weight (g)');"
   ]
  },
  {
   "cell_type": "markdown",
   "metadata": {
    "ExecuteTime": {
     "end_time": "2020-04-24T23:26:23.577480Z",
     "start_time": "2020-04-24T23:26:23.572145Z"
    }
   },
   "source": [
    "**Random trivia:**\n",
    "- California was excluded (lack of smoking data!)\n",
    "- There were 4.1 million births (prior to exclusions)\n",
    "\n"
   ]
  },
  {
   "cell_type": "markdown",
   "metadata": {
    "ExecuteTime": {
     "end_time": "2020-04-24T23:41:45.433143Z",
     "start_time": "2020-04-24T23:41:44.677764Z"
    }
   },
   "source": [
    "![Birth weight graph](birth_weight.jpg)"
   ]
  },
  {
   "cell_type": "markdown",
   "metadata": {
    "ExecuteTime": {
     "end_time": "2020-04-24T23:47:57.637774Z",
     "start_time": "2020-04-24T23:47:57.506794Z"
    }
   },
   "source": [
    "This figure is a little harder to reconstruct, but a [separate paper](https://academic.oup.com/aje/article/164/11/1121/61509) by the same author has an example to illustrate (note this is different from the real example)\n",
    "\n",
    "Even though smokers saw a higher rate of infant mortality (1.235% vs 0.805%), pretty much at any given birth weight, babies born to smoking women have a higher (or same) survival rate.\n",
    "\n",
    "The numerical reason for this paradox is clear: the death rate is a lot higher for all populations at low birth weight (and looks indistinguishable, at least graphically). Smokers tend to have lower birth weight babies, so the overall death rate is higher.\n",
    "\n",
    "The question is whether we should (or should not) stratify on weight. \n",
    "- Argument for not stratifying on weight: smoking is the thing that _causes_ LBW, so we shouldn't ignore it.\n",
    "  Consequence: Mother's should not smoke.\n",
    "- Argument for stratifying on weight: smoking and LBW may have a common cause (e.g. poor diet, socio-economic class, etc), and have no causal effect on one another. We can then stratify on birth weight and show smoking has almost no effect (for babies < 2000g) and a mild beneficial effect (for babies > 2000g)\n",
    "\n",
    "Since the health recommendation is different, it makes a real difference whether we choose to stratify / regress on weight or not."
   ]
  },
  {
   "cell_type": "markdown",
   "metadata": {},
   "source": [
    "### DAG1: Smoking's effects are mediated by birth weight\n",
    "\n",
    "Assumption:\n",
    "- Smoking has no (direct) effect on infant mortality\n",
    "- Smoking does cause LBW, and LBW babies have higher mortality\n",
    "- We should not regress on smoking, and conclude 'don't smoke'"
   ]
  },
  {
   "cell_type": "code",
   "execution_count": 6,
   "metadata": {
    "ExecuteTime": {
     "end_time": "2020-04-25T01:00:29.706761Z",
     "start_time": "2020-04-25T01:00:29.702604Z"
    }
   },
   "outputs": [
    {
     "data": {
      "application/javascript": [
       "\n",
       "        (function(element){\n",
       "            require(['tree'], function(tree) {\n",
       "                tree(element.get(0), [[\"smoking\", \"LBW\"], [\"LBW\", \"Mortality\"]], {\"smoking\": [50, 100], \"LBW\": [200, 100], \"Mortality\": [350, 100]}, 600, 400);\n",
       "            });\n",
       "        })(element);\n",
       "    "
      ],
      "text/plain": [
       "<IPython.core.display.Javascript object>"
      ]
     },
     "metadata": {},
     "output_type": "display_data"
    }
   ],
   "source": [
    "positions = {'smoking': [50, 100], 'LBW': [200, 100], 'Mortality': [350, 100]}\n",
    "draw_dag({'smoking': ['LBW'], 'LBW': ['Mortality']}, positions=positions)"
   ]
  },
  {
   "cell_type": "markdown",
   "metadata": {},
   "source": [
    "We can reject this DAG: If the only effect was via LBW, then figure 2 should show 2 curves lying on top of one another."
   ]
  },
  {
   "cell_type": "markdown",
   "metadata": {},
   "source": [
    "## DAG2: Smoking is a confounder between LBW and mortality"
   ]
  },
  {
   "cell_type": "code",
   "execution_count": 7,
   "metadata": {
    "ExecuteTime": {
     "end_time": "2020-04-25T01:00:29.710850Z",
     "start_time": "2020-04-25T01:00:29.707770Z"
    }
   },
   "outputs": [
    {
     "data": {
      "application/javascript": [
       "\n",
       "        (function(element){\n",
       "            require(['tree'], function(tree) {\n",
       "                tree(element.get(0), [[\"smoking\", \"LBW\"], [\"smoking\", \"Mortality\"]], {\"smoking\": [300, 100], \"LBW\": [100, 300], \"Mortality\": [500, 300]}, 600, 400);\n",
       "            });\n",
       "        })(element);\n",
       "    "
      ],
      "text/plain": [
       "<IPython.core.display.Javascript object>"
      ]
     },
     "metadata": {},
     "output_type": "display_data"
    }
   ],
   "source": [
    "draw_dag({'smoking': ['LBW', 'Mortality']}, \n",
    "         positions={'smoking': [300, 100], 'LBW':[100, 300], 'Mortality': [500,300]})"
   ]
  },
  {
   "cell_type": "markdown",
   "metadata": {},
   "source": [
    "If this were the case, we would expect in each strata of `smoking` to have a mortality rate that was independent of birth weight (i.e. a horizontal line for smoking, and a horizontal line for non-smoking). This is at odds with the data.\n",
    "\n",
    "i.e. In this DAG, the paradox simply would not arise (and it wouldn't matter if you include weight in the regression or not)\n",
    "\n",
    "**Note** I am being a little sloppy here. Technically there can still be variation of mortality that depends on weight, just not whether you are \"low weight\" or not. There are (contrived) distributions where there is variation between <2500g and >2500g, but the only information you had is which side of that line you were on, it would be flat."
   ]
  },
  {
   "cell_type": "markdown",
   "metadata": {},
   "source": [
    "### DAG 3: Mediation and direct effect"
   ]
  },
  {
   "cell_type": "markdown",
   "metadata": {},
   "source": [
    "This is the \"drug with blood pressure\" example we have seen from chapter 1"
   ]
  },
  {
   "cell_type": "code",
   "execution_count": 8,
   "metadata": {
    "ExecuteTime": {
     "end_time": "2020-04-25T01:00:29.715786Z",
     "start_time": "2020-04-25T01:00:29.712522Z"
    }
   },
   "outputs": [
    {
     "data": {
      "application/javascript": [
       "\n",
       "        (function(element){\n",
       "            require(['tree'], function(tree) {\n",
       "                tree(element.get(0), [[\"smoking\", \"LBW\"], [\"smoking\", \"mortality\"], [\"LBW\", \"mortality\"]], {\"LBW\": [300, 100], \"smoking\": [100, 300], \"mortality\": [500, 300]}, 600, 400);\n",
       "            });\n",
       "        })(element);\n",
       "    "
      ],
      "text/plain": [
       "<IPython.core.display.Javascript object>"
      ]
     },
     "metadata": {},
     "output_type": "display_data"
    }
   ],
   "source": [
    "draw_dag({'smoking': ['LBW', 'mortality'], 'LBW': ['mortality']},\n",
    "         positions={'LBW': [300, 100], 'smoking':[100, 300], 'mortality': [500,300]})"
   ]
  },
  {
   "cell_type": "markdown",
   "metadata": {},
   "source": [
    "This DAG is consistent with the data (but would be consistent with any data). If this were true, we would decide smoking is harmful via it's influence on birth weight, but confers other beneficial effects.\n",
    "\n",
    "- To isolate the beneficial effects, we should control for birth weight.\n",
    "- To see the overall effect smoking has, we should not control for birth weight."
   ]
  },
  {
   "cell_type": "markdown",
   "metadata": {},
   "source": [
    "### DAG 6: Enter the unknown\n",
    "\n",
    "This is very similar to DAG 2, except there are unknown or unmeasured factors that contribute to both LBW and to mortality (e.g. socio-ecnomic status). This would induce a relationship between LBW and mortality, even if birth weight had nothing to do with mortality:"
   ]
  },
  {
   "cell_type": "code",
   "execution_count": 9,
   "metadata": {
    "ExecuteTime": {
     "end_time": "2020-04-25T01:00:29.720393Z",
     "start_time": "2020-04-25T01:00:29.717098Z"
    }
   },
   "outputs": [
    {
     "data": {
      "application/javascript": [
       "\n",
       "        (function(element){\n",
       "            require(['tree'], function(tree) {\n",
       "                tree(element.get(0), [[\"U\", \"LBW\"], [\"U\", \"Mortality\"], [\"Smoking\", \"LBW\"], [\"Smoking\", \"Mortality\"]], {\"Smoking\": [300, 100], \"LBW\": [200, 200], \"Mortality\": [200, 400], \"U\": [100, 100]}, 600, 400);\n",
       "            });\n",
       "        })(element);\n",
       "    "
      ],
      "text/plain": [
       "<IPython.core.display.Javascript object>"
      ]
     },
     "metadata": {},
     "output_type": "display_data"
    }
   ],
   "source": [
    "draw_dag({'U': ['LBW', 'Mortality'], 'Smoking': ['LBW', 'Mortality']},\n",
    "        positions={'Smoking': [300, 100], 'LBW':[200, 200], 'Mortality': [200,400], 'U': [100, 100]})"
   ]
  },
  {
   "cell_type": "markdown",
   "metadata": {},
   "source": [
    "If we _don't_ regress on weight, then weight acts as a collider - it blocks information from flowing from $U$ to smoking, and the coefficient of the line from smoking to mortality tells us about the effect.\n",
    "\n",
    "If we _do_ regress on weight, then the collider is unblocked, the information from the unknown factors leak into the estimate of smoking's effect on mortality.\n",
    "\n",
    "The way to think about this is:\n",
    "- a LBW baby to a non-smoker would have been \"unlucky\" with it's draw from other factors, which increases its chance of death.\n",
    "- a baby of the same weight to a smoker would have been luck(ier) with its draw from $U$, because $U$ has undone some of the effect of smoking of lowering the birth weight. i.e. If this person had not smoked, the baby would be even heavier. From the point of view of mortality, the baby \"pays\" the smoking penalty, but recieved a larger boon from other factors, making the comparison different than the baby with the same factors born to a non-smoking parent.\n",
    "\n",
    "Let's see if we can simulate this:"
   ]
  },
  {
   "cell_type": "code",
   "execution_count": 10,
   "metadata": {
    "ExecuteTime": {
     "end_time": "2020-04-25T01:00:29.737473Z",
     "start_time": "2020-04-25T01:00:29.721468Z"
    }
   },
   "outputs": [],
   "source": [
    "N = 100_000\n",
    "\n",
    "U = np.random.normal(size=N, scale=255)\n",
    "Smoking = (np.random.random(size=N)<0.33)  # say 33% of population smoke\n",
    "Smoking_effect = np.random.normal(size=N, loc=-200, scale=50) * Smoking\n",
    "weight = np.random.normal(size=N, loc=3100, scale=35) + U + Smoking_effect\n",
    "\n",
    "LBW = weight < 2500\n",
    "\n",
    "logit = (U + Smoking_effect)/500 - 3.5\n",
    "\n",
    "probs = 1/(1 + np.exp(-logit))\n",
    "mortality = (np.random.random(size=N) < probs)"
   ]
  },
  {
   "cell_type": "code",
   "execution_count": 11,
   "metadata": {
    "ExecuteTime": {
     "end_time": "2020-04-25T01:00:29.742201Z",
     "start_time": "2020-04-25T01:00:29.738955Z"
    }
   },
   "outputs": [
    {
     "data": {
      "text/plain": [
       "array([-2.90089735, -3.09596459, -2.49793403, ..., -3.81990273,\n",
       "       -3.46344816, -3.99801617])"
      ]
     },
     "execution_count": 11,
     "metadata": {},
     "output_type": "execute_result"
    }
   ],
   "source": [
    "logit"
   ]
  },
  {
   "cell_type": "code",
   "execution_count": 12,
   "metadata": {
    "ExecuteTime": {
     "end_time": "2020-04-25T01:00:29.747001Z",
     "start_time": "2020-04-25T01:00:29.743298Z"
    }
   },
   "outputs": [],
   "source": [
    "df = pd.DataFrame({'smoking': Smoking, 'weight': weight, 'LBW': LBW, 'mortality': mortality})"
   ]
  },
  {
   "cell_type": "code",
   "execution_count": 13,
   "metadata": {
    "ExecuteTime": {
     "end_time": "2020-04-25T01:00:29.763773Z",
     "start_time": "2020-04-25T01:00:29.748193Z"
    }
   },
   "outputs": [
    {
     "data": {
      "text/html": [
       "<div>\n",
       "<style scoped>\n",
       "    .dataframe tbody tr th:only-of-type {\n",
       "        vertical-align: middle;\n",
       "    }\n",
       "\n",
       "    .dataframe tbody tr th {\n",
       "        vertical-align: top;\n",
       "    }\n",
       "\n",
       "    .dataframe thead th {\n",
       "        text-align: right;\n",
       "    }\n",
       "</style>\n",
       "<table border=\"1\" class=\"dataframe\">\n",
       "  <thead>\n",
       "    <tr style=\"text-align: right;\">\n",
       "      <th></th>\n",
       "      <th>smoking</th>\n",
       "      <th>LBW</th>\n",
       "      <th>mortality</th>\n",
       "    </tr>\n",
       "  </thead>\n",
       "  <tbody>\n",
       "    <tr>\n",
       "      <th>0</th>\n",
       "      <td>False</td>\n",
       "      <td>False</td>\n",
       "      <td>0.031681</td>\n",
       "    </tr>\n",
       "    <tr>\n",
       "      <th>1</th>\n",
       "      <td>False</td>\n",
       "      <td>True</td>\n",
       "      <td>0.013043</td>\n",
       "    </tr>\n",
       "    <tr>\n",
       "      <th>2</th>\n",
       "      <td>True</td>\n",
       "      <td>False</td>\n",
       "      <td>0.023704</td>\n",
       "    </tr>\n",
       "    <tr>\n",
       "      <th>3</th>\n",
       "      <td>True</td>\n",
       "      <td>True</td>\n",
       "      <td>0.008950</td>\n",
       "    </tr>\n",
       "  </tbody>\n",
       "</table>\n",
       "</div>"
      ],
      "text/plain": [
       "   smoking    LBW  mortality\n",
       "0    False  False   0.031681\n",
       "1    False   True   0.013043\n",
       "2     True  False   0.023704\n",
       "3     True   True   0.008950"
      ]
     },
     "execution_count": 13,
     "metadata": {},
     "output_type": "execute_result"
    }
   ],
   "source": [
    "df.groupby(['smoking', 'LBW'], as_index=False).mortality.mean()"
   ]
  },
  {
   "cell_type": "code",
   "execution_count": 14,
   "metadata": {
    "ExecuteTime": {
     "end_time": "2020-04-25T01:00:29.782852Z",
     "start_time": "2020-04-25T01:00:29.765332Z"
    }
   },
   "outputs": [
    {
     "data": {
      "text/html": [
       "<div>\n",
       "<style scoped>\n",
       "    .dataframe tbody tr th:only-of-type {\n",
       "        vertical-align: middle;\n",
       "    }\n",
       "\n",
       "    .dataframe tbody tr th {\n",
       "        vertical-align: top;\n",
       "    }\n",
       "\n",
       "    .dataframe thead tr th {\n",
       "        text-align: left;\n",
       "    }\n",
       "\n",
       "    .dataframe thead tr:last-of-type th {\n",
       "        text-align: right;\n",
       "    }\n",
       "</style>\n",
       "<table border=\"1\" class=\"dataframe\">\n",
       "  <thead>\n",
       "    <tr>\n",
       "      <th></th>\n",
       "      <th colspan=\"2\" halign=\"left\">mortality</th>\n",
       "    </tr>\n",
       "    <tr>\n",
       "      <th>LBW</th>\n",
       "      <th>False</th>\n",
       "      <th>True</th>\n",
       "    </tr>\n",
       "    <tr>\n",
       "      <th>smoking</th>\n",
       "      <th></th>\n",
       "      <th></th>\n",
       "    </tr>\n",
       "  </thead>\n",
       "  <tbody>\n",
       "    <tr>\n",
       "      <th>False</th>\n",
       "      <td>0.031681</td>\n",
       "      <td>0.013043</td>\n",
       "    </tr>\n",
       "    <tr>\n",
       "      <th>True</th>\n",
       "      <td>0.023704</td>\n",
       "      <td>0.008950</td>\n",
       "    </tr>\n",
       "  </tbody>\n",
       "</table>\n",
       "</div>"
      ],
      "text/plain": [
       "        mortality          \n",
       "LBW         False     True \n",
       "smoking                    \n",
       "False    0.031681  0.013043\n",
       "True     0.023704  0.008950"
      ]
     },
     "execution_count": 14,
     "metadata": {},
     "output_type": "execute_result"
    }
   ],
   "source": [
    "df.drop('weight', axis=1).pivot_table(index='smoking', columns=['LBW'], aggfunc='mean')"
   ]
  },
  {
   "cell_type": "code",
   "execution_count": null,
   "metadata": {},
   "outputs": [],
   "source": []
  }
 ],
 "metadata": {
  "kernelspec": {
   "display_name": "causal",
   "language": "python",
   "name": "causal"
  },
  "language_info": {
   "codemirror_mode": {
    "name": "ipython",
    "version": 3
   },
   "file_extension": ".py",
   "mimetype": "text/x-python",
   "name": "python",
   "nbconvert_exporter": "python",
   "pygments_lexer": "ipython3",
   "version": "3.8.2"
  },
  "varInspector": {
   "cols": {
    "lenName": 16,
    "lenType": 16,
    "lenVar": 40
   },
   "kernels_config": {
    "python": {
     "delete_cmd_postfix": "",
     "delete_cmd_prefix": "del ",
     "library": "var_list.py",
     "varRefreshCmd": "print(var_dic_list())"
    },
    "r": {
     "delete_cmd_postfix": ") ",
     "delete_cmd_prefix": "rm(",
     "library": "var_list.r",
     "varRefreshCmd": "cat(var_dic_list()) "
    }
   },
   "types_to_exclude": [
    "module",
    "function",
    "builtin_function_or_method",
    "instance",
    "_Feature"
   ],
   "window_display": false
  }
 },
 "nbformat": 4,
 "nbformat_minor": 2
}
