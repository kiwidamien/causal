{
 "cells": [
  {
   "cell_type": "markdown",
   "metadata": {},
   "source": [
    "## Chapter 3 Homework problem"
   ]
  },
  {
   "cell_type": "code",
   "execution_count": 1,
   "metadata": {
    "ExecuteTime": {
     "end_time": "2020-05-11T05:23:56.602938Z",
     "start_time": "2020-05-11T05:23:56.593498Z"
    }
   },
   "outputs": [
    {
     "data": {
      "application/javascript": [
       "require.config({\n",
       "    paths: { \n",
       "        d3: 'https://d3js.org/d3.v5.min'\n",
       "    }\n",
       "});\n"
      ],
      "text/plain": [
       "<IPython.core.display.Javascript object>"
      ]
     },
     "metadata": {},
     "output_type": "display_data"
    }
   ],
   "source": [
    "%%javascript\n",
    "require.config({\n",
    "    paths: { \n",
    "        d3: 'https://d3js.org/d3.v5.min'\n",
    "    }\n",
    "});"
   ]
  },
  {
   "cell_type": "code",
   "execution_count": 2,
   "metadata": {
    "ExecuteTime": {
     "end_time": "2020-05-11T05:23:56.610404Z",
     "start_time": "2020-05-11T05:23:56.604700Z"
    }
   },
   "outputs": [
    {
     "data": {
      "text/html": [
       "<style>\n",
       "\n",
       "svg {\n",
       "    width: 100vw;\n",
       "    height: 100vh;\n",
       "}\n",
       "\n",
       ".edge {\n",
       "    stroke: #555;\n",
       "}\n",
       "\n",
       ".node>text {\n",
       "    stroke: #333;\n",
       "}\n",
       "\n",
       ".node>circle {\n",
       "    stroke: #555;\n",
       "    stroke-width: 3px;\n",
       "    fill: white;\n",
       "    cursor: pointer;\n",
       "}\n",
       "</style>\n"
      ],
      "text/plain": [
       "<IPython.core.display.HTML object>"
      ]
     },
     "metadata": {},
     "output_type": "display_data"
    },
    {
     "data": {
      "application/javascript": [
       "require.undef('tree');\n",
       "\n",
       "define('tree', ['d3'], (d3) => {\n",
       "    const draw = (container, data, positions, width, height) => {\n",
       "        width = width || 600;\n",
       "        height = height || 200;\n",
       "        const svg = d3.select(container)\n",
       "                      .append('svg')\n",
       "                      .attr('width', width)\n",
       "                      .attr('height', height)\n",
       "                      .append('g');\n",
       "        \n",
       "        /*\n",
       "         * Script here taken and modified from\n",
       "         * https://gist.github.com/strawstack/bd339d1b304a6bf02d68bfdc80e1f2d1\n",
       "         * \n",
       "         * Accompying blog post:\n",
       "         * https://regularmemory.blog/post/draggable-network-graph-with-d3js/\n",
       "         */\n",
       "        const RADIUS = 20;\n",
       "        const randomLoc = () => RADIUS + (width - 2*RADIUS) * Math.random();\n",
       "\n",
       "        // Object to hold nodes and edges\n",
       "        let graph = {\"nodes\": {}, \"edges\": []};\n",
       "\n",
       "        // For each edge from graph.json\n",
       "        // create an object with a source and target\n",
       "        graph.edges = data.map( edge => { \n",
       "            return {\n",
       "                source: edge[0],\n",
       "                target: edge[1]\n",
       "        }});\n",
       "\n",
       "        // Create flat (1-dimensional) array from the list of edges\n",
       "        let nodes = data.flat();\n",
       "        // Remove duplicates from the list of vertices\n",
       "        nodes = [...new Set(nodes)];\n",
       "\n",
       "        // Create dictionary where each node will map to its properties\n",
       "        for (node of nodes) {\n",
       "            // Assign random coordinates to each vertex if not given in\n",
       "            // positions object\n",
       "            const location = (positions && positions[node]) || [randomLoc(), randomLoc()];\n",
       "            graph.nodes[node] = {\n",
       "                label: node,\n",
       "                x: location[0],\n",
       "                y: location[1]\n",
       "            };\n",
       "        }\n",
       "\n",
       "        // Add node refs to each link\n",
       "        graph.edges.forEach(d => {\n",
       "            d.source = graph.nodes[d.source];\n",
       "            d.target = graph.nodes[d.target];\n",
       "        });\n",
       "        \n",
       "        svg.append('defs').append('marker')\n",
       "    .attr(\"id\",'arrowhead')\n",
       "    .attr('viewBox','-0 -5 10 10') //the bound of the SVG viewport for the current SVG fragment. defines a coordinate system 10 wide and 10 high starting on (0,-5)\n",
       "     .attr('refX',23) // x coordinate for the reference point of the marker. If circle is bigger, this need to be bigger.\n",
       "     .attr('refY',0)\n",
       "     .attr('orient','auto')\n",
       "        .attr('markerWidth',13)\n",
       "        .attr('markerHeight',13)\n",
       "        .attr('xoverflow','visible')\n",
       "    .append('svg:path')\n",
       "    .attr('d', 'M 0,-5 L 10 ,0 L 0,5')\n",
       "    .attr('fill', '#999')\n",
       "    .style('stroke','none');\n",
       "\n",
       "        //console.log(graph);\n",
       "\n",
       "        var edge = svg.selectAll(\".edge\")\n",
       "            .data(graph.edges)\n",
       "            .enter().append(\"line\")\n",
       "            .attr(\"class\", \"edge\")\n",
       "            .attr(\"x1\", d => d.source.x)\n",
       "            .attr(\"y1\", d => d.source.y)\n",
       "            .attr(\"x2\", d => d.target.x)\n",
       "            .attr(\"y2\", d => d.target.y)\n",
       "            .attr('marker-end','url(#arrowhead)');\n",
       "\n",
       "        var node = svg.selectAll(\"node\")\n",
       "            .data(Object.values(graph.nodes))\n",
       "            .enter().append(\"g\")\n",
       "            .attr(\"class\", \"node\");\n",
       "\n",
       "        node.append(\"circle\")\n",
       "            .attr(\"r\", 20)\n",
       "            .attr(\"cx\", d => d.x)\n",
       "            .attr(\"cy\", d => d.y)\n",
       "            .call(d3.drag().on(\"drag\", dragged));\n",
       "\n",
       "        node.append(\"text\")\n",
       "            .attr(\"dx\", d => d.x)\n",
       "            .attr(\"dy\", d => d.y)\n",
       "            .attr(\"text-anchor\", \"middle\")\n",
       "            .attr(\"dominant-baseline\", \"central\")\n",
       "            .attr(\"pointer-events\", \"none\")\n",
       "            .text(d => d.label);\n",
       "\n",
       "        function dragged(d) {\n",
       "            d.x = d3.event.x, d.y = d3.event.y;\n",
       "            d3.select(this).attr(\"cx\", d.x).attr(\"cy\", d.y);\n",
       "            d3.select(this.parentNode).select(\"text\").attr(\"dx\", d.x).attr(\"dy\", d.y);\n",
       "            edge.filter(function(l) { return l.source === d; }).attr(\"x1\", d.x).attr(\"y1\", d.y);\n",
       "            edge.filter(function(l) { return l.target === d; }).attr(\"x2\", d.x).attr(\"y2\", d.y);\n",
       "        }\n",
       "\n",
       "\n",
       "    }\n",
       "    return draw;\n",
       "});\n",
       "\n",
       "element.append('<small>&#x25C9; &#x25CB; &#x25EF; Loaded tree.js &#x25CC; &#x25CE; &#x25CF;</small>');"
      ],
      "text/plain": [
       "<IPython.core.display.Javascript object>"
      ]
     },
     "metadata": {},
     "output_type": "display_data"
    }
   ],
   "source": [
    "from dag import draw_dag"
   ]
  },
  {
   "cell_type": "code",
   "execution_count": 3,
   "metadata": {
    "ExecuteTime": {
     "end_time": "2020-05-11T05:23:57.473397Z",
     "start_time": "2020-05-11T05:23:56.611977Z"
    }
   },
   "outputs": [],
   "source": [
    "import numpy as np\n",
    "import pandas as pd\n",
    "import random\n",
    "\n",
    "import matplotlib.pyplot as plt\n",
    "%matplotlib inline"
   ]
  },
  {
   "cell_type": "markdown",
   "metadata": {},
   "source": [
    "## Problem 3.2.1\n",
    "\n",
    "This problem had a lot of variables, and was kind of obnoxious, in my opinion. I am going to simplify the set of variables to actual numbers.\n",
    "\n",
    "The problem was to look at the overall treatment effect, both by comparing the observed difference in taking drug vs not, and the _causal_ difference between taking the drug vs not.\n",
    "\n",
    "We have the following DAG"
   ]
  },
  {
   "cell_type": "code",
   "execution_count": 4,
   "metadata": {
    "ExecuteTime": {
     "end_time": "2020-05-11T05:23:57.479580Z",
     "start_time": "2020-05-11T05:23:57.475169Z"
    }
   },
   "outputs": [
    {
     "data": {
      "application/javascript": [
       "\n",
       "        (function(element){\n",
       "            require(['tree'], function(tree) {\n",
       "                tree(element.get(0), [[\"syndrome\", \"treatment\"], [\"syndrome\", \"outcome\"], [\"treatment\", \"outcome\"]], {\"syndrome\": [200, 50], \"treatment\": [80, 150], \"outcome\": [320, 150]}, 600, 400);\n",
       "            });\n",
       "        })(element);\n",
       "    "
      ],
      "text/plain": [
       "<IPython.core.display.Javascript object>"
      ]
     },
     "metadata": {},
     "output_type": "display_data"
    }
   ],
   "source": [
    "draw_dag({'syndrome': ['treatment', 'outcome'], 'treatment': ['outcome']}, \n",
    "        positions = {'syndrome': [200, 50], 'treatment': [80, 150], 'outcome': [320, 150]})"
   ]
  },
  {
   "cell_type": "markdown",
   "metadata": {},
   "source": [
    "Lets assign some probabilities.\n",
    "\n",
    "We are going to try and generate a \"Simpson's paradox\", so that people more unlikely to recover will try and take the drug more, as there condition is more dire. We are going to be calculating the observed probability $P(\\text{recovery}|\\text{drug})$ and $P(\\text{recovery}|\\text{no drug})$, which are the probability _someone selected from the population at random recovers given that they did (or did not) take the drug, respectively_.\n",
    "\n",
    "It is **not** the probability that someone selected at random and forced to take the drug (or not) would recover."
   ]
  },
  {
   "cell_type": "code",
   "execution_count": 5,
   "metadata": {
    "ExecuteTime": {
     "end_time": "2020-05-11T05:23:57.484065Z",
     "start_time": "2020-05-11T05:23:57.481155Z"
    }
   },
   "outputs": [],
   "source": [
    "prob = {'syndrome': 0.4, \n",
    "        'drug_given_syndrome': 0.86, \n",
    "        'drug_given_no_syndrome': 0.1,\n",
    "        'recover_given_drug_and_syndrome': 0.42,\n",
    "        'recover_given_no_drug_and_syndrome': 0.05,\n",
    "        'recover_given_drug_and_no_syndrome': 0.75,\n",
    "        'recover_given_no_drug_and_no_syndrome': 0.56\n",
    "       }"
   ]
  },
  {
   "cell_type": "markdown",
   "metadata": {},
   "source": [
    "### Analytic approach (observed data)\n",
    "\n",
    "This uses the fact that the DAG is telling us how the probability factorizes. Specifically\n",
    "\n",
    "$$P(\\text{syndrome, drug, outcome}) = P(\\text{outcome} | \\text{drug, syndrome})P(\\text{drug} | \\text{syndrome})P(\\text{syndrome})$$\n",
    "\n",
    "It may be easier to read this right to left (I write it this way to match Pearl): If we were simulating this, we would start with the syndrome, then determine the treatment (drug) as we need syndrome for input, and finally determine the outcome with the two inputs.\n",
    "\n",
    "To put it another way, we can think of this as a probability tree:\n",
    "\n",
    "1. Split on syndrome, P(syndrome)\n",
    "2. Then split on drug, which is P(syndrome|drug) on the edges\n",
    "3. Then split on recovery, which is P(recovery|drug, syndrome)\n",
    "\n",
    "To find the total probability of the node P(syndrome, drug, outcome), multiply along the edges.\n",
    "\n",
    "\n",
    "##### P(drug) [observed]\n",
    "The probability of needing the drug is just conditional probability: P(A) = $\\sum_{b\\in B} P(A|B=b)P(B=b)$"
   ]
  },
  {
   "cell_type": "code",
   "execution_count": 6,
   "metadata": {
    "ExecuteTime": {
     "end_time": "2020-05-11T05:23:57.491192Z",
     "start_time": "2020-05-11T05:23:57.485696Z"
    }
   },
   "outputs": [
    {
     "data": {
      "text/plain": [
       "0.404"
      ]
     },
     "execution_count": 6,
     "metadata": {},
     "output_type": "execute_result"
    }
   ],
   "source": [
    "prob_drug = (prob['drug_given_syndrome']*prob['syndrome'] +\n",
    "             prob['drug_given_no_syndrome']*(1-prob['syndrome']))\n",
    "prob_drug"
   ]
  },
  {
   "cell_type": "code",
   "execution_count": 7,
   "metadata": {
    "ExecuteTime": {
     "end_time": "2020-05-11T05:23:57.496468Z",
     "start_time": "2020-05-11T05:23:57.493334Z"
    }
   },
   "outputs": [],
   "source": [
    "prob_recover_given_drug = (\n",
    "    prob['recover_given_drug_and_syndrome']*prob['drug_given_syndrome']*prob['syndrome'] +\n",
    "    prob['recover_given_drug_and_no_syndrome']*prob['drug_given_no_syndrome']*(1-prob['syndrome']) \n",
    "                          )/prob_drug"
   ]
  },
  {
   "cell_type": "code",
   "execution_count": 8,
   "metadata": {
    "ExecuteTime": {
     "end_time": "2020-05-11T05:23:57.502871Z",
     "start_time": "2020-05-11T05:23:57.498523Z"
    }
   },
   "outputs": [
    {
     "data": {
      "text/plain": [
       "0.469009900990099"
      ]
     },
     "execution_count": 8,
     "metadata": {},
     "output_type": "execute_result"
    }
   ],
   "source": [
    "prob_recover_given_drug"
   ]
  },
  {
   "cell_type": "markdown",
   "metadata": {},
   "source": [
    "Carrying out the analogous calculation for not taking the drug:"
   ]
  },
  {
   "cell_type": "code",
   "execution_count": 9,
   "metadata": {
    "ExecuteTime": {
     "end_time": "2020-05-11T05:23:57.507326Z",
     "start_time": "2020-05-11T05:23:57.504117Z"
    }
   },
   "outputs": [],
   "source": [
    "prob_no_drug = 1 - prob_drug\n",
    "\n",
    "prob_recover_given_no_drug = (\n",
    "        prob['recover_given_no_drug_and_syndrome']*(1-prob['drug_given_syndrome'])*prob['syndrome'] +\n",
    "        prob['recover_given_no_drug_and_no_syndrome']*(1-prob['drug_given_no_syndrome'])*(1-prob['syndrome'])\n",
    "    ) / prob_no_drug"
   ]
  },
  {
   "cell_type": "code",
   "execution_count": 10,
   "metadata": {
    "ExecuteTime": {
     "end_time": "2020-05-11T05:23:57.511477Z",
     "start_time": "2020-05-11T05:23:57.508454Z"
    }
   },
   "outputs": [
    {
     "data": {
      "text/plain": [
       "0.5120805369127518"
      ]
     },
     "execution_count": 10,
     "metadata": {},
     "output_type": "execute_result"
    }
   ],
   "source": [
    "prob_recover_given_no_drug"
   ]
  },
  {
   "cell_type": "code",
   "execution_count": 11,
   "metadata": {
    "ExecuteTime": {
     "end_time": "2020-05-11T05:23:57.516617Z",
     "start_time": "2020-05-11T05:23:57.513041Z"
    }
   },
   "outputs": [
    {
     "name": "stdout",
     "output_type": "stream",
     "text": [
      "\n",
      "i.e. we see that if we aggregate:\n",
      "* 47% recover given the drug, vs 51% recover without a drug\n",
      "\n"
     ]
    }
   ],
   "source": [
    "msg = f\"\"\"\n",
    "i.e. we see that if we aggregate:\n",
    "* {prob_recover_given_drug:.0%} recover given the drug, vs {prob_recover_given_no_drug:.0%} recover without a drug\n",
    "\"\"\"\n",
    "print(msg)"
   ]
  },
  {
   "cell_type": "code",
   "execution_count": 12,
   "metadata": {
    "ExecuteTime": {
     "end_time": "2020-05-11T05:23:57.520864Z",
     "start_time": "2020-05-11T05:23:57.518055Z"
    }
   },
   "outputs": [
    {
     "name": "stdout",
     "output_type": "stream",
     "text": [
      "\n",
      "If we condition on drug and syndrome, we have:\n",
      "* Syndrome: 42% recover with drug, vs 5% without\n",
      "* No syndrome: 75% recover with drug, vs 56% without\n",
      "    \n"
     ]
    }
   ],
   "source": [
    "msg = f\"\"\"\n",
    "If we condition on drug and syndrome, we have:\n",
    "* Syndrome: {prob['recover_given_drug_and_syndrome']:.0%} recover with drug, vs {prob['recover_given_no_drug_and_syndrome']:.0%} without\n",
    "* No syndrome: {prob['recover_given_drug_and_no_syndrome']:.0%} recover with drug, vs {prob['recover_given_no_drug_and_no_syndrome']:.0%} without\n",
    "    \"\"\"\n",
    "print(msg)"
   ]
  },
  {
   "cell_type": "markdown",
   "metadata": {},
   "source": [
    "This is our simpson's reversal."
   ]
  },
  {
   "cell_type": "markdown",
   "metadata": {},
   "source": [
    "### Via simulation\n",
    "\n",
    "What if I made an algebra error earlier in the calculation? A simulation is easier to reason about, and sets us up for simulating an intervention in the next section."
   ]
  },
  {
   "cell_type": "code",
   "execution_count": 13,
   "metadata": {
    "ExecuteTime": {
     "end_time": "2020-05-11T05:23:57.528598Z",
     "start_time": "2020-05-11T05:23:57.522414Z"
    }
   },
   "outputs": [
    {
     "data": {
      "text/plain": [
       "{'has_syndrome': True, 'takes_drug': True, 'recovers': True}"
      ]
     },
     "execution_count": 13,
     "metadata": {},
     "output_type": "execute_result"
    }
   ],
   "source": [
    "def simulate_outcome_single_person(prob):\n",
    "    \"\"\"Given the dictionary of probabilities, determines if this person\n",
    "       recovers or not\"\"\"\n",
    "    def returns_true_with_prob_p(p):\n",
    "        return random.random() < p\n",
    "    \n",
    "    has_syndrome = returns_true_with_prob_p(prob['syndrome'])\n",
    "    if has_syndrome:\n",
    "        syndrome_string = 'syndrome'\n",
    "        takes_drug = returns_true_with_prob_p(prob['drug_given_syndrome'])\n",
    "    else:\n",
    "        syndrome_string = 'no_syndrome'\n",
    "        takes_drug = returns_true_with_prob_p(prob['drug_given_no_syndrome'])\n",
    "    \n",
    "    if takes_drug:\n",
    "        drug_string='drug'\n",
    "    else:\n",
    "        drug_string = 'no_drug'\n",
    "\n",
    "    recovers = returns_true_with_prob_p(prob[f'recover_given_{drug_string}_and_{syndrome_string}'])\n",
    "    return dict(has_syndrome=has_syndrome, takes_drug=takes_drug, recovers=recovers)\n",
    "\n",
    "simulate_outcome_single_person(prob)"
   ]
  },
  {
   "cell_type": "code",
   "execution_count": 14,
   "metadata": {
    "ExecuteTime": {
     "end_time": "2020-05-11T05:23:57.561022Z",
     "start_time": "2020-05-11T05:23:57.529888Z"
    }
   },
   "outputs": [
    {
     "data": {
      "text/html": [
       "<div>\n",
       "<style scoped>\n",
       "    .dataframe tbody tr th:only-of-type {\n",
       "        vertical-align: middle;\n",
       "    }\n",
       "\n",
       "    .dataframe tbody tr th {\n",
       "        vertical-align: top;\n",
       "    }\n",
       "\n",
       "    .dataframe thead th {\n",
       "        text-align: right;\n",
       "    }\n",
       "</style>\n",
       "<table border=\"1\" class=\"dataframe\">\n",
       "  <thead>\n",
       "    <tr style=\"text-align: right;\">\n",
       "      <th></th>\n",
       "      <th>has_syndrome</th>\n",
       "      <th>takes_drug</th>\n",
       "      <th>recovers</th>\n",
       "    </tr>\n",
       "  </thead>\n",
       "  <tbody>\n",
       "    <tr>\n",
       "      <th>0</th>\n",
       "      <td>False</td>\n",
       "      <td>False</td>\n",
       "      <td>True</td>\n",
       "    </tr>\n",
       "    <tr>\n",
       "      <th>1</th>\n",
       "      <td>False</td>\n",
       "      <td>False</td>\n",
       "      <td>False</td>\n",
       "    </tr>\n",
       "    <tr>\n",
       "      <th>2</th>\n",
       "      <td>True</td>\n",
       "      <td>True</td>\n",
       "      <td>True</td>\n",
       "    </tr>\n",
       "    <tr>\n",
       "      <th>3</th>\n",
       "      <td>False</td>\n",
       "      <td>False</td>\n",
       "      <td>False</td>\n",
       "    </tr>\n",
       "    <tr>\n",
       "      <th>4</th>\n",
       "      <td>True</td>\n",
       "      <td>True</td>\n",
       "      <td>False</td>\n",
       "    </tr>\n",
       "    <tr>\n",
       "      <th>...</th>\n",
       "      <td>...</td>\n",
       "      <td>...</td>\n",
       "      <td>...</td>\n",
       "    </tr>\n",
       "    <tr>\n",
       "      <th>9995</th>\n",
       "      <td>False</td>\n",
       "      <td>False</td>\n",
       "      <td>True</td>\n",
       "    </tr>\n",
       "    <tr>\n",
       "      <th>9996</th>\n",
       "      <td>True</td>\n",
       "      <td>True</td>\n",
       "      <td>False</td>\n",
       "    </tr>\n",
       "    <tr>\n",
       "      <th>9997</th>\n",
       "      <td>True</td>\n",
       "      <td>True</td>\n",
       "      <td>False</td>\n",
       "    </tr>\n",
       "    <tr>\n",
       "      <th>9998</th>\n",
       "      <td>False</td>\n",
       "      <td>False</td>\n",
       "      <td>False</td>\n",
       "    </tr>\n",
       "    <tr>\n",
       "      <th>9999</th>\n",
       "      <td>False</td>\n",
       "      <td>False</td>\n",
       "      <td>True</td>\n",
       "    </tr>\n",
       "  </tbody>\n",
       "</table>\n",
       "<p>10000 rows × 3 columns</p>\n",
       "</div>"
      ],
      "text/plain": [
       "      has_syndrome  takes_drug  recovers\n",
       "0            False       False      True\n",
       "1            False       False     False\n",
       "2             True        True      True\n",
       "3            False       False     False\n",
       "4             True        True     False\n",
       "...            ...         ...       ...\n",
       "9995         False       False      True\n",
       "9996          True        True     False\n",
       "9997          True        True     False\n",
       "9998         False       False     False\n",
       "9999         False       False      True\n",
       "\n",
       "[10000 rows x 3 columns]"
      ]
     },
     "execution_count": 14,
     "metadata": {},
     "output_type": "execute_result"
    }
   ],
   "source": [
    "def simulate_many_people(prob, N=10000):\n",
    "    return pd.DataFrame([simulate_outcome_single_person(prob) for _ in range(N)])\n",
    "\n",
    "experiment = simulate_many_people(prob)\n",
    "experiment"
   ]
  },
  {
   "cell_type": "markdown",
   "metadata": {},
   "source": [
    "Let's do our different groupby. First, only looking at the drug (not splitting by syndrome):"
   ]
  },
  {
   "cell_type": "code",
   "execution_count": 15,
   "metadata": {
    "ExecuteTime": {
     "end_time": "2020-05-11T05:23:57.571646Z",
     "start_time": "2020-05-11T05:23:57.562098Z"
    }
   },
   "outputs": [
    {
     "data": {
      "text/html": [
       "<div>\n",
       "<style scoped>\n",
       "    .dataframe tbody tr th:only-of-type {\n",
       "        vertical-align: middle;\n",
       "    }\n",
       "\n",
       "    .dataframe tbody tr th {\n",
       "        vertical-align: top;\n",
       "    }\n",
       "\n",
       "    .dataframe thead th {\n",
       "        text-align: right;\n",
       "    }\n",
       "</style>\n",
       "<table border=\"1\" class=\"dataframe\">\n",
       "  <thead>\n",
       "    <tr style=\"text-align: right;\">\n",
       "      <th></th>\n",
       "      <th>takes_drug</th>\n",
       "      <th>recovers</th>\n",
       "    </tr>\n",
       "  </thead>\n",
       "  <tbody>\n",
       "    <tr>\n",
       "      <th>0</th>\n",
       "      <td>False</td>\n",
       "      <td>0.517566</td>\n",
       "    </tr>\n",
       "    <tr>\n",
       "      <th>1</th>\n",
       "      <td>True</td>\n",
       "      <td>0.459741</td>\n",
       "    </tr>\n",
       "  </tbody>\n",
       "</table>\n",
       "</div>"
      ],
      "text/plain": [
       "   takes_drug  recovers\n",
       "0       False  0.517566\n",
       "1        True  0.459741"
      ]
     },
     "execution_count": 15,
     "metadata": {},
     "output_type": "execute_result"
    }
   ],
   "source": [
    "experiment.groupby('takes_drug').recovers.mean().reset_index()"
   ]
  },
  {
   "cell_type": "markdown",
   "metadata": {},
   "source": [
    "This is pretty close to the answers we saw above in the analytic section.\n",
    "\n",
    "Now separating by syndrome:"
   ]
  },
  {
   "cell_type": "code",
   "execution_count": 16,
   "metadata": {
    "ExecuteTime": {
     "end_time": "2020-05-11T05:23:57.588504Z",
     "start_time": "2020-05-11T05:23:57.572896Z"
    }
   },
   "outputs": [
    {
     "data": {
      "text/html": [
       "<div>\n",
       "<style scoped>\n",
       "    .dataframe tbody tr th:only-of-type {\n",
       "        vertical-align: middle;\n",
       "    }\n",
       "\n",
       "    .dataframe tbody tr th {\n",
       "        vertical-align: top;\n",
       "    }\n",
       "\n",
       "    .dataframe thead tr th {\n",
       "        text-align: left;\n",
       "    }\n",
       "\n",
       "    .dataframe thead tr:last-of-type th {\n",
       "        text-align: right;\n",
       "    }\n",
       "</style>\n",
       "<table border=\"1\" class=\"dataframe\">\n",
       "  <thead>\n",
       "    <tr>\n",
       "      <th></th>\n",
       "      <th colspan=\"2\" halign=\"left\">recovers</th>\n",
       "    </tr>\n",
       "    <tr>\n",
       "      <th>takes_drug</th>\n",
       "      <th>False</th>\n",
       "      <th>True</th>\n",
       "    </tr>\n",
       "    <tr>\n",
       "      <th>has_syndrome</th>\n",
       "      <th></th>\n",
       "      <th></th>\n",
       "    </tr>\n",
       "  </thead>\n",
       "  <tbody>\n",
       "    <tr>\n",
       "      <th>False</th>\n",
       "      <td>0.564838</td>\n",
       "      <td>0.763573</td>\n",
       "    </tr>\n",
       "    <tr>\n",
       "      <th>True</th>\n",
       "      <td>0.050269</td>\n",
       "      <td>0.408200</td>\n",
       "    </tr>\n",
       "  </tbody>\n",
       "</table>\n",
       "</div>"
      ],
      "text/plain": [
       "              recovers          \n",
       "takes_drug       False     True \n",
       "has_syndrome                    \n",
       "False         0.564838  0.763573\n",
       "True          0.050269  0.408200"
      ]
     },
     "execution_count": 16,
     "metadata": {},
     "output_type": "execute_result"
    }
   ],
   "source": [
    "experiment.groupby(['has_syndrome', 'takes_drug']).recovers.mean().reset_index().pivot(index='has_syndrome', columns='takes_drug')"
   ]
  },
  {
   "cell_type": "markdown",
   "metadata": {},
   "source": [
    "This also matches what we saw earlier."
   ]
  },
  {
   "cell_type": "markdown",
   "metadata": {},
   "source": [
    "## Simulation of \"do\" calculus\n",
    "\n",
    "Let's calculate \n",
    "$$P(\\text{recovery} | \\text{do(drug)})$$\n",
    "first. That is, what would it look like if everyone took the drug? In our simulation, we can just make `prob['drug_given_syndrome']` and `prob['drug_given_no_syndrome']` both equal to 1 (as we are trying to see what the effect of giving the drug would be)"
   ]
  },
  {
   "cell_type": "code",
   "execution_count": 17,
   "metadata": {
    "ExecuteTime": {
     "end_time": "2020-05-11T05:23:57.593561Z",
     "start_time": "2020-05-11T05:23:57.590556Z"
    }
   },
   "outputs": [],
   "source": [
    "prob_do_drug = {**prob,\n",
    "                'drug_given_syndrome': 1,\n",
    "                'drug_given_no_syndrome': 1}"
   ]
  },
  {
   "cell_type": "code",
   "execution_count": 18,
   "metadata": {
    "ExecuteTime": {
     "end_time": "2020-05-11T05:23:57.644593Z",
     "start_time": "2020-05-11T05:23:57.599589Z"
    }
   },
   "outputs": [
    {
     "data": {
      "text/html": [
       "<div>\n",
       "<style scoped>\n",
       "    .dataframe tbody tr th:only-of-type {\n",
       "        vertical-align: middle;\n",
       "    }\n",
       "\n",
       "    .dataframe tbody tr th {\n",
       "        vertical-align: top;\n",
       "    }\n",
       "\n",
       "    .dataframe thead th {\n",
       "        text-align: right;\n",
       "    }\n",
       "</style>\n",
       "<table border=\"1\" class=\"dataframe\">\n",
       "  <thead>\n",
       "    <tr style=\"text-align: right;\">\n",
       "      <th></th>\n",
       "      <th>has_syndrome</th>\n",
       "      <th>takes_drug</th>\n",
       "      <th>recovers</th>\n",
       "    </tr>\n",
       "  </thead>\n",
       "  <tbody>\n",
       "    <tr>\n",
       "      <th>0</th>\n",
       "      <td>False</td>\n",
       "      <td>True</td>\n",
       "      <td>False</td>\n",
       "    </tr>\n",
       "    <tr>\n",
       "      <th>1</th>\n",
       "      <td>False</td>\n",
       "      <td>True</td>\n",
       "      <td>True</td>\n",
       "    </tr>\n",
       "    <tr>\n",
       "      <th>2</th>\n",
       "      <td>True</td>\n",
       "      <td>True</td>\n",
       "      <td>False</td>\n",
       "    </tr>\n",
       "    <tr>\n",
       "      <th>3</th>\n",
       "      <td>False</td>\n",
       "      <td>True</td>\n",
       "      <td>False</td>\n",
       "    </tr>\n",
       "    <tr>\n",
       "      <th>4</th>\n",
       "      <td>True</td>\n",
       "      <td>True</td>\n",
       "      <td>False</td>\n",
       "    </tr>\n",
       "    <tr>\n",
       "      <th>...</th>\n",
       "      <td>...</td>\n",
       "      <td>...</td>\n",
       "      <td>...</td>\n",
       "    </tr>\n",
       "    <tr>\n",
       "      <th>9995</th>\n",
       "      <td>True</td>\n",
       "      <td>True</td>\n",
       "      <td>False</td>\n",
       "    </tr>\n",
       "    <tr>\n",
       "      <th>9996</th>\n",
       "      <td>False</td>\n",
       "      <td>True</td>\n",
       "      <td>True</td>\n",
       "    </tr>\n",
       "    <tr>\n",
       "      <th>9997</th>\n",
       "      <td>False</td>\n",
       "      <td>True</td>\n",
       "      <td>True</td>\n",
       "    </tr>\n",
       "    <tr>\n",
       "      <th>9998</th>\n",
       "      <td>False</td>\n",
       "      <td>True</td>\n",
       "      <td>False</td>\n",
       "    </tr>\n",
       "    <tr>\n",
       "      <th>9999</th>\n",
       "      <td>False</td>\n",
       "      <td>True</td>\n",
       "      <td>True</td>\n",
       "    </tr>\n",
       "  </tbody>\n",
       "</table>\n",
       "<p>10000 rows × 3 columns</p>\n",
       "</div>"
      ],
      "text/plain": [
       "      has_syndrome  takes_drug  recovers\n",
       "0            False        True     False\n",
       "1            False        True      True\n",
       "2             True        True     False\n",
       "3            False        True     False\n",
       "4             True        True     False\n",
       "...            ...         ...       ...\n",
       "9995          True        True     False\n",
       "9996         False        True      True\n",
       "9997         False        True      True\n",
       "9998         False        True     False\n",
       "9999         False        True      True\n",
       "\n",
       "[10000 rows x 3 columns]"
      ]
     },
     "execution_count": 18,
     "metadata": {},
     "output_type": "execute_result"
    }
   ],
   "source": [
    "experiment = simulate_many_people(prob_do_drug)\n",
    "experiment"
   ]
  },
  {
   "cell_type": "markdown",
   "metadata": {
    "ExecuteTime": {
     "end_time": "2020-05-09T05:55:43.667102Z",
     "start_time": "2020-05-09T05:55:43.657933Z"
    }
   },
   "source": [
    "In this hypothetical world, how many people recover?"
   ]
  },
  {
   "cell_type": "code",
   "execution_count": 19,
   "metadata": {
    "ExecuteTime": {
     "end_time": "2020-05-11T05:23:57.652399Z",
     "start_time": "2020-05-11T05:23:57.647405Z"
    }
   },
   "outputs": [
    {
     "data": {
      "text/plain": [
       "0.6229"
      ]
     },
     "execution_count": 19,
     "metadata": {},
     "output_type": "execute_result"
    }
   ],
   "source": [
    "P_recover_DO_drug = experiment['recovers'].mean()\n",
    "P_recover_DO_drug"
   ]
  },
  {
   "cell_type": "markdown",
   "metadata": {},
   "source": [
    "Now let's do the same thing for world where no one took the drug:"
   ]
  },
  {
   "cell_type": "code",
   "execution_count": 20,
   "metadata": {
    "ExecuteTime": {
     "end_time": "2020-05-11T05:23:57.688066Z",
     "start_time": "2020-05-11T05:23:57.654231Z"
    }
   },
   "outputs": [
    {
     "data": {
      "text/html": [
       "<div>\n",
       "<style scoped>\n",
       "    .dataframe tbody tr th:only-of-type {\n",
       "        vertical-align: middle;\n",
       "    }\n",
       "\n",
       "    .dataframe tbody tr th {\n",
       "        vertical-align: top;\n",
       "    }\n",
       "\n",
       "    .dataframe thead th {\n",
       "        text-align: right;\n",
       "    }\n",
       "</style>\n",
       "<table border=\"1\" class=\"dataframe\">\n",
       "  <thead>\n",
       "    <tr style=\"text-align: right;\">\n",
       "      <th></th>\n",
       "      <th>has_syndrome</th>\n",
       "      <th>takes_drug</th>\n",
       "      <th>recovers</th>\n",
       "    </tr>\n",
       "  </thead>\n",
       "  <tbody>\n",
       "    <tr>\n",
       "      <th>0</th>\n",
       "      <td>False</td>\n",
       "      <td>False</td>\n",
       "      <td>False</td>\n",
       "    </tr>\n",
       "    <tr>\n",
       "      <th>1</th>\n",
       "      <td>False</td>\n",
       "      <td>False</td>\n",
       "      <td>True</td>\n",
       "    </tr>\n",
       "    <tr>\n",
       "      <th>2</th>\n",
       "      <td>True</td>\n",
       "      <td>False</td>\n",
       "      <td>False</td>\n",
       "    </tr>\n",
       "    <tr>\n",
       "      <th>3</th>\n",
       "      <td>True</td>\n",
       "      <td>False</td>\n",
       "      <td>False</td>\n",
       "    </tr>\n",
       "    <tr>\n",
       "      <th>4</th>\n",
       "      <td>True</td>\n",
       "      <td>False</td>\n",
       "      <td>False</td>\n",
       "    </tr>\n",
       "    <tr>\n",
       "      <th>...</th>\n",
       "      <td>...</td>\n",
       "      <td>...</td>\n",
       "      <td>...</td>\n",
       "    </tr>\n",
       "    <tr>\n",
       "      <th>9995</th>\n",
       "      <td>True</td>\n",
       "      <td>False</td>\n",
       "      <td>False</td>\n",
       "    </tr>\n",
       "    <tr>\n",
       "      <th>9996</th>\n",
       "      <td>True</td>\n",
       "      <td>False</td>\n",
       "      <td>False</td>\n",
       "    </tr>\n",
       "    <tr>\n",
       "      <th>9997</th>\n",
       "      <td>True</td>\n",
       "      <td>False</td>\n",
       "      <td>False</td>\n",
       "    </tr>\n",
       "    <tr>\n",
       "      <th>9998</th>\n",
       "      <td>False</td>\n",
       "      <td>False</td>\n",
       "      <td>False</td>\n",
       "    </tr>\n",
       "    <tr>\n",
       "      <th>9999</th>\n",
       "      <td>False</td>\n",
       "      <td>False</td>\n",
       "      <td>True</td>\n",
       "    </tr>\n",
       "  </tbody>\n",
       "</table>\n",
       "<p>10000 rows × 3 columns</p>\n",
       "</div>"
      ],
      "text/plain": [
       "      has_syndrome  takes_drug  recovers\n",
       "0            False       False     False\n",
       "1            False       False      True\n",
       "2             True       False     False\n",
       "3             True       False     False\n",
       "4             True       False     False\n",
       "...            ...         ...       ...\n",
       "9995          True       False     False\n",
       "9996          True       False     False\n",
       "9997          True       False     False\n",
       "9998         False       False     False\n",
       "9999         False       False      True\n",
       "\n",
       "[10000 rows x 3 columns]"
      ]
     },
     "execution_count": 20,
     "metadata": {},
     "output_type": "execute_result"
    }
   ],
   "source": [
    "prob_do_no_drug = {**prob,\n",
    "                'drug_given_syndrome': 0,\n",
    "                'drug_given_no_syndrome': 0}\n",
    "experiment = simulate_many_people(prob_do_no_drug)\n",
    "experiment"
   ]
  },
  {
   "cell_type": "code",
   "execution_count": 21,
   "metadata": {
    "ExecuteTime": {
     "end_time": "2020-05-11T05:23:57.693820Z",
     "start_time": "2020-05-11T05:23:57.689671Z"
    }
   },
   "outputs": [
    {
     "data": {
      "text/plain": [
       "0.36"
      ]
     },
     "execution_count": 21,
     "metadata": {},
     "output_type": "execute_result"
    }
   ],
   "source": [
    "P_recover_DO_no_drug = experiment['recovers'].mean()\n",
    "P_recover_DO_no_drug"
   ]
  },
  {
   "cell_type": "markdown",
   "metadata": {},
   "source": [
    "The averge causal effect of the drug is the difference between these two quantities:"
   ]
  },
  {
   "cell_type": "code",
   "execution_count": 22,
   "metadata": {
    "ExecuteTime": {
     "end_time": "2020-05-11T05:23:57.698953Z",
     "start_time": "2020-05-11T05:23:57.695497Z"
    }
   },
   "outputs": [
    {
     "data": {
      "text/plain": [
       "0.2629"
      ]
     },
     "execution_count": 22,
     "metadata": {},
     "output_type": "execute_result"
    }
   ],
   "source": [
    "P_recover_DO_drug - P_recover_DO_no_drug"
   ]
  },
  {
   "cell_type": "markdown",
   "metadata": {},
   "source": [
    "i.e. About 27pp"
   ]
  },
  {
   "cell_type": "markdown",
   "metadata": {},
   "source": [
    "### Using the Backdoor criterion to analytically get DO probabilities\n",
    "\n",
    "Let's first think about this as a tree. Given the factorizaton, we think of our probabilities in a tree as\n",
    "\n",
    "1. Split on syndrome, P(syndrome)\n",
    "2. Then split on drug, which is P(drug|syndrome) on the edges\n",
    "3. Then split on recovery, which is P(recovery|drug, syndrome)\n",
    "\n",
    "What we really want to do is alter the probabilities in step 2 to be 1 for drug (irrespective of syndrome) and 0 for no_drug (irrespective of syndrome). The probabilities in the tree are telling us _how_ to generate the observed probabilities, so we can in fact use them. This is what we did in the simulation.\n",
    "\n",
    "Let's do it that way, since we will observe all probabilites. Note this isn't using the BD formula directly, it is just using trees:"
   ]
  },
  {
   "cell_type": "code",
   "execution_count": 23,
   "metadata": {
    "ExecuteTime": {
     "end_time": "2020-05-11T05:23:57.707784Z",
     "start_time": "2020-05-11T05:23:57.700535Z"
    }
   },
   "outputs": [
    {
     "data": {
      "application/javascript": [
       "\n",
       "        (function(element){\n",
       "            require(['tree'], function(tree) {\n",
       "                tree(element.get(0), [[\".\", \"S\"], [\".\", \"NS\"], [\"S\", \"D1\"], [\"S\", \"ND1\"], [\"D1\", \"R11\"], [\"D1\", \"NR11\"], [\"ND1\", \"R10\"], [\"ND1\", \"NR10\"], [\"NS\", \"D0\"], [\"NS\", \"ND0\"], [\"D0\", \"R01\"], [\"D0\", \"NR01\"], [\"ND0\", \"R00\"], [\"ND0\", \"NR00\"]], {\".\": [50, 200], \"S\": [100, 100], \"NS\": [100, 300], \"D1\": [200, 50], \"ND1\": [200, 150], \"D0\": [200, 250], \"ND0\": [200, 350], \"R11\": [300, 25], \"NR11\": [300, 80], \"R10\": [300, 125], \"NR10\": [300, 180], \"R01\": [300, 225], \"NR01\": [300, 275], \"R00\": [300, 325], \"NR00\": [300, 375]}, 600, 400);\n",
       "            });\n",
       "        })(element);\n",
       "    "
      ],
      "text/plain": [
       "<IPython.core.display.Javascript object>"
      ]
     },
     "metadata": {},
     "output_type": "display_data"
    }
   ],
   "source": [
    "draw_dag({'.': ['S', 'NS'], 'S' :['D1', 'ND1'], 'D1': ['R11', 'NR11'], 'ND1':['R10', 'NR10'],\n",
    "                            'NS':['D0', 'ND0'], 'D0': ['R01', 'NR01'], 'ND0':['R00', 'NR00']},\n",
    "        positions = {'.': [50,200],\n",
    "                     'S': [100, 100], 'NS': [100,300],\n",
    "                     'D1': [200, 50], 'ND1': [200,150],\n",
    "                     'D0': [200, 250], 'ND0': [200, 350],\n",
    "                     'R11': [300, 25], 'NR11': [300, 80],\n",
    "                     'R10': [300, 125], 'NR10': [300, 180],\n",
    "                     'R01': [300, 225], 'NR01': [300, 275],\n",
    "                     'R00': [300, 325], 'NR00': [300, 375]\n",
    "                    })"
   ]
  },
  {
   "cell_type": "markdown",
   "metadata": {},
   "source": [
    "We have all the conditional probabilities along this tree, we just want to modify them so that we have the probability of no drug (`ND*`) being 0, and probability of drug being 1. Putting aside the BD criteron and just doing is this way, we get\n",
    "\n",
    "\\begin{align*}\n",
    "P(\\text{recovery} | \\text{do(drug)}) =& P(\\text{syndrome})\\times 1 \\times P(\\text{recovery} | \\text{drug, syndrome})  &\\\\\n",
    "& + 0 &\\text{(No drug branch)}\\\\\n",
    "& + P(\\text{no syndrome})\\times 1 \\times P(\\text{recovery} | \\text{drug, no syndrome})&\\\\\n",
    "& + 0 &\\text{(No drug branch)}\n",
    "\\end{align*}\n",
    "\n",
    "i.e. we replace $P(\\text{drug}|*) = 1$ and $P(\\text{no drug}|*) = 0$"
   ]
  },
  {
   "cell_type": "markdown",
   "metadata": {},
   "source": [
    "Looking at the backdoor formula: first we check it applies. Delete the arrow from treatment to outcome, and we need to block syndrome. Then it tells us\n",
    "\n",
    "$$P(\\text{recover} | \\text{do(drug)}) = \\sum_{s\\in\\text{syndrome}}P(\\text{recover}|\\text{drug, s})P(s)$$\n",
    "\n",
    "Writing this out in full:\n",
    "\n",
    "\\begin{align*}\n",
    "P(\\text{recover} | \\text{do(drug)})&=  \\sum_{s\\in\\text{syndrome}}P(\\text{recover}|\\text{drug, s})P(s)\\\\\n",
    "  &=  P(\\text{recover}|\\text{drug, syndrome})P(\\text{syndrome}) +  \n",
    "      P(\\text{recover}|\\text{drug, no syndrome})P(\\text{no syndrome})\n",
    "\\end{align*}\n",
    "\n",
    "This is the same as the probability given by the trees!"
   ]
  },
  {
   "cell_type": "code",
   "execution_count": 24,
   "metadata": {
    "ExecuteTime": {
     "end_time": "2020-05-11T05:23:57.712797Z",
     "start_time": "2020-05-11T05:23:57.709083Z"
    }
   },
   "outputs": [
    {
     "data": {
      "text/plain": [
       "0.618"
      ]
     },
     "execution_count": 24,
     "metadata": {},
     "output_type": "execute_result"
    }
   ],
   "source": [
    "P_recover_do_drug = (prob['recover_given_drug_and_syndrome']*prob['syndrome'] + \n",
    "                     prob['recover_given_drug_and_no_syndrome']*(1-prob['syndrome']))\n",
    "P_recover_do_drug"
   ]
  },
  {
   "cell_type": "markdown",
   "metadata": {},
   "source": [
    "Compare to the simulation result:\n"
   ]
  },
  {
   "cell_type": "code",
   "execution_count": 25,
   "metadata": {
    "ExecuteTime": {
     "end_time": "2020-05-11T05:23:57.717459Z",
     "start_time": "2020-05-11T05:23:57.714158Z"
    }
   },
   "outputs": [
    {
     "data": {
      "text/plain": [
       "0.6229"
      ]
     },
     "execution_count": 25,
     "metadata": {},
     "output_type": "execute_result"
    }
   ],
   "source": [
    "# from sim\n",
    "P_recover_DO_drug"
   ]
  },
  {
   "cell_type": "markdown",
   "metadata": {},
   "source": [
    "Let's look at analytic result for P_recover_do_no_drug"
   ]
  },
  {
   "cell_type": "code",
   "execution_count": 26,
   "metadata": {
    "ExecuteTime": {
     "end_time": "2020-05-11T05:23:57.722308Z",
     "start_time": "2020-05-11T05:23:57.718911Z"
    }
   },
   "outputs": [
    {
     "name": "stdout",
     "output_type": "stream",
     "text": [
      "\n",
      "Analytic result for DO no drug: 35.6%\n",
      "Simulation result for DO no drug: 36.0%\n",
      "\n"
     ]
    }
   ],
   "source": [
    "P_recover_do_no_drug = (prob['recover_given_no_drug_and_syndrome']*prob['syndrome'] + \n",
    "                        prob['recover_given_no_drug_and_no_syndrome']*(1-prob['syndrome']))\n",
    "\n",
    "\n",
    "msg=f\"\"\"\n",
    "Analytic result for DO no drug: {P_recover_do_no_drug:.1%}\n",
    "Simulation result for DO no drug: {P_recover_DO_no_drug:.1%}\n",
    "\"\"\"\n",
    "print(msg)"
   ]
  },
  {
   "cell_type": "markdown",
   "metadata": {},
   "source": [
    "#### Conclusions:\n",
    "\n",
    "* We saw a _risk difference_ P(recover|drug) - P(recover | no drug) = 0.47-0.51 = -0.04\n",
    "* We saw a _average causal effect_ P(recover|do(drug)) - P(recover|do(no drug)) = 0.618 - 0.356 = 0.262"
   ]
  },
  {
   "cell_type": "markdown",
   "metadata": {},
   "source": [
    "## 3.3.1: What to block?\n",
    "\n",
    "This question wasn't terribly applied, but it was relatively straightforward. Given the DAG below, what do we need to block to get the effect of X on Y?"
   ]
  },
  {
   "cell_type": "code",
   "execution_count": 27,
   "metadata": {
    "ExecuteTime": {
     "end_time": "2020-05-11T05:23:57.728722Z",
     "start_time": "2020-05-11T05:23:57.723813Z"
    }
   },
   "outputs": [
    {
     "data": {
      "application/javascript": [
       "\n",
       "        (function(element){\n",
       "            require(['tree'], function(tree) {\n",
       "                tree(element.get(0), [[\"B\", \"A\"], [\"B\", \"Z\"], [\"C\", \"Z\"], [\"C\", \"D\"], [\"A\", \"X\"], [\"Z\", \"X\"], [\"Z\", \"Y\"], [\"D\", \"Y\"], [\"X\", \"W\"], [\"W\", \"Y\"]], {\"B\": [100, 200], \"C\": [300, 200], \"A\": [100, 300], \"Z\": [200, 300], \"D\": [300, 300], \"X\": [100, 400], \"W\": [200, 400], \"Y\": [300, 400]}, 600, 400);\n",
       "            });\n",
       "        })(element);\n",
       "    "
      ],
      "text/plain": [
       "<IPython.core.display.Javascript object>"
      ]
     },
     "metadata": {},
     "output_type": "display_data"
    }
   ],
   "source": [
    "col0, col1, col2 = 100, 200, 300\n",
    "row0, row1, row2 = 200, 300 ,400 \n",
    "\n",
    "draw_dag({'B': ['A', 'Z'], 'C':['Z', 'D'],\n",
    "          'A': ['X'], 'Z':['X', 'Y'], 'D': ['Y'],\n",
    "          'X': ['W'], 'W': ['Y'], 'Y':[]},\n",
    "         positions = {'B': [col0, row0], 'C': [col2, row0],\n",
    "                      'A': [col0, row1], 'Z': [col1, row1], 'D': [col2, row1],\n",
    "                      'X': [col0, row2], 'W': [col1, row2], 'Y': [col2, row2]})"
   ]
  },
  {
   "cell_type": "markdown",
   "metadata": {},
   "source": [
    "a) What are all sets of variables that could be blocked?\n",
    "\n",
    "Okay, we cannot ever block W, otherwise we cannot measure the direct path. Let's list all paths except `X -> W -> Y`, which is the one we want to measure:\n",
    "\n",
    "1. `X <- A <- B -> Z <- C -> D -> Y`\n",
    "2. `X <- A <- B -> Z -> Y`\n",
    "3. `X <- Z <- C -> D -> Y`\n",
    "4. `X <- Z -> Y`\n",
    "\n",
    "\n",
    "* If we control for nothing, 1 is blocked (Z is a collider) but ....\n",
    "* The only way of blocking 4 is to control $Z$ (which unblocks path 1), but automatically blocks paths 2 and 3\n",
    "\n",
    "So we must control for $Z$, and then 3 and 4 are automatically blocked. So we just have to think about\n",
    "1. `X <- A <- B -> Z <- C -> D -> Y`\n",
    "\n",
    "We can block any non-empty subset of $\\{A, B, C, D\\}$ in addition to $Z$ to block this path. (This is sort of obnoxious, as there are 2^4 - 1 = 15 different subsets. \n",
    "\n",
    "I don't object to the problem, but I don't like just mindless enumeration at the end. The 15 possible sets to control are $\\{Z\\} \\bigcup \\{\\text{any non empty subset of }A, B, C, D\\}$"
   ]
  },
  {
   "cell_type": "markdown",
   "metadata": {},
   "source": [
    "b) What are the minimal sets that block (i.e. a removal of any controlled variable no longer satisfies the BDC)\n",
    "\n",
    "This is a much more reasonable question. We need Z and one of A, B, C, D. So the solutions are\n",
    "\n",
    "1. A and Z\n",
    "2. B and Z\n",
    "3. C and Z \n",
    "4. D and Z"
   ]
  },
  {
   "cell_type": "markdown",
   "metadata": {},
   "source": [
    "c) What are the minimal sets for measuring the effect of D on Y?\n",
    "\n",
    "This one is actually interesting. One minimal set is control for C only (that blocks any backdoor path from $D$, as they all start `D <- C -> Z .......`, so controlling `C` blocks them all).\n",
    "\n",
    "What if `C` cannot be controlled (e.g. it isn't measured)? The backdoor paths are\n",
    "1. `D <- C -> Z -> Y` (must control on Z if we cannot control C)\n",
    "2. `D <- C -> Z <- B -> A -> X -> W -> Y` (Z is a collider, but we control on it for path 1)\n",
    "3. `D <- C -> Z -> X -> W -> Y`\n",
    "\n",
    "To block path 1, we block Z, which automatically blocks path 3. So we only need to consider path 2:\n",
    "\n",
    "`D <- C -> Z <- B -> A -> X -> W -> Y`\n",
    "\n",
    "We can block this path by blocking A, B, X, or W.\n",
    "\n",
    "So our minimal sets are\n",
    "\n",
    "1. C only OR \n",
    "2. Z and one of A, B, X, or W\n",
    "\n",
    "(I claim this is interesting because they are all \"minimal sets\" even though they are not all the same size)"
   ]
  },
  {
   "cell_type": "markdown",
   "metadata": {},
   "source": [
    "## 3.3.2: Lord's paradox"
   ]
  },
  {
   "cell_type": "markdown",
   "metadata": {},
   "source": [
    "We measure weights before and after a diet for two different diet plans. We see that plan B was more likely to be given to people with higher starting weights.\n",
    "\n",
    "* Looking at weight changes of an individual, $\\Delta w = w_f - w_i$, gives a distribution with a mean of 0\n",
    "* Looking at fixed $w_i$, we can see on a plot of $w_f$ vs $w_i$ that the averages for plan B are higher\n"
   ]
  },
  {
   "cell_type": "code",
   "execution_count": 28,
   "metadata": {
    "ExecuteTime": {
     "end_time": "2020-05-11T05:23:57.963454Z",
     "start_time": "2020-05-11T05:23:57.729752Z"
    }
   },
   "outputs": [
    {
     "data": {
      "text/plain": [
       "<matplotlib.legend.Legend at 0x1080df3d0>"
      ]
     },
     "execution_count": 28,
     "metadata": {},
     "output_type": "execute_result"
    },
    {
     "data": {
      "image/png": "[encoded data removed]",
      "text/plain": [
       "<Figure size 720x720 with 1 Axes>"
      ]
     },
     "metadata": {
      "needs_background": "light"
     },
     "output_type": "display_data"
    }
   ],
   "source": [
    "N = 1000\n",
    "plt.figure(figsize=(10,10))\n",
    "weight_A = np.random.multivariate_normal(mean=[110, 110], cov=[[500, 200],[200, 500]], size=N)\n",
    "weight_A_i, weight_A_f = weight_A[:, 0], weight_A[:, 1]\n",
    "\n",
    "weight_B = np.random.multivariate_normal(mean=[150, 150], cov=[[500, 200],[200, 500]], size=N)\n",
    "weight_B_i, weight_B_f = weight_B[:, 0], weight_B[:, 1]\n",
    "\n",
    "plt.plot(weight_A_i, weight_A_f, 'o', label='A', alpha=0.3)\n",
    "plt.plot(weight_B_i, weight_B_f, 'o', label='B', alpha=0.2)\n",
    "plt.xlabel('Initial weight')\n",
    "plt.ylabel('Final weight')\n",
    "plt.plot([50, 200], [50, 200], '--')\n",
    "plt.legend()"
   ]
  },
  {
   "cell_type": "code",
   "execution_count": 29,
   "metadata": {
    "ExecuteTime": {
     "end_time": "2020-05-11T05:23:57.971457Z",
     "start_time": "2020-05-11T05:23:57.966689Z"
    }
   },
   "outputs": [
    {
     "data": {
      "text/plain": [
       "(109.46184130049961, 132.9331303772513)"
      ]
     },
     "execution_count": 29,
     "metadata": {},
     "output_type": "execute_result"
    }
   ],
   "source": [
    "weight_bin_A_mask = (weight_A_i >= 100) & (weight_A_i <= 115)\n",
    "weight_bin_B_mask = (weight_B_i >= 100) & (weight_B_i <= 115)\n",
    "\n",
    "\n",
    "# how do the mean final weights compare in a bin?\n",
    "weight_A_f[weight_bin_A_mask].mean(), weight_B_f[weight_bin_B_mask].mean() "
   ]
  },
  {
   "cell_type": "markdown",
   "metadata": {},
   "source": [
    "Note that weight B is significantly heavier. How about the weight gain of an individual?"
   ]
  },
  {
   "cell_type": "code",
   "execution_count": 30,
   "metadata": {
    "ExecuteTime": {
     "end_time": "2020-05-11T05:23:57.977320Z",
     "start_time": "2020-05-11T05:23:57.973076Z"
    }
   },
   "outputs": [
    {
     "data": {
      "text/plain": [
       "(1.1717909707365801, -0.9975514763407106)"
      ]
     },
     "execution_count": 30,
     "metadata": {},
     "output_type": "execute_result"
    }
   ],
   "source": [
    "(weight_A[:, 1] - weight_A[:, 0]).mean(), (weight_B[:, 1] - weight_B[:, 0]).mean(), "
   ]
  },
  {
   "cell_type": "markdown",
   "metadata": {},
   "source": [
    "Here the results are \"close\" to zero (and, depending on the run, it may even look like diet B made people lose weight). Should we bin by initial weight, or not?\n",
    "\n",
    "It seems we used initial weight to determine which plan to put people in. So we have"
   ]
  },
  {
   "cell_type": "code",
   "execution_count": 31,
   "metadata": {
    "ExecuteTime": {
     "end_time": "2020-05-11T05:23:57.982443Z",
     "start_time": "2020-05-11T05:23:57.978417Z"
    }
   },
   "outputs": [
    {
     "data": {
      "application/javascript": [
       "\n",
       "        (function(element){\n",
       "            require(['tree'], function(tree) {\n",
       "                tree(element.get(0), [[\"w_i\", \"diet\"], [\"w_i\", \"w_f\"], [\"diet\", \"w_f\"]], {\"w_i\": [200, 40], \"w_f\": [350, 200], \"diet\": [50, 200]}, 600, 400);\n",
       "            });\n",
       "        })(element);\n",
       "    "
      ],
      "text/plain": [
       "<IPython.core.display.Javascript object>"
      ]
     },
     "metadata": {},
     "output_type": "display_data"
    }
   ],
   "source": [
    "draw_dag({'w_i': ['diet' , 'w_f'], 'diet': ['w_f']}, \n",
    "         positions={'w_i':[200, 40], 'w_f': [350, 200], 'diet':[50,200]})"
   ]
  },
  {
   "cell_type": "markdown",
   "metadata": {},
   "source": [
    "This would tell us that we _should_ control for the initial weight, so the second statistician is correct, and looking at the differences in an individual without stratifying for initial weight is incorrect.\n",
    "\n",
    "This was a surprising (countintuitive) conclusion, at least for me, but I found [a reference](https://m-clark.github.io/docs/lord/index.html) that backs it up. It does not really provide an intuition, it is more or less a blanket application of Pearl's rules to this problem (i.e. you should condition on a confounder), which just verifies that I am not crazy when trying to apply this.\n",
    "\n",
    "A much nicer and more illuminating example occurs in the context of education in [this paper](http://www.ccsenet.org/journal/index.php/ijsp/article/view/75051), with a free download. It builds a much better intuition and toy model, and I think it might be worth us digging through more throughly."
   ]
  },
  {
   "cell_type": "markdown",
   "metadata": {},
   "source": [
    "## 3.3.3 Lollipop question\n",
    "\n",
    "This question had to do with a slightly strange experiment. Basically we wanted to introduce something that seemed irrelevant (a lollipop) to a clinical trial, to see how it might break the analysis. Specifically:\n",
    "\n",
    "- patients are randomly assigned a drug or placebo. Random tells us no incoming arrows to this.\n",
    "- a nurse hands out lollipops to those who show signs of depression, and mostly among those that have been assigned the drug (the round took the nurse through the treatment ward)\n",
    "\n",
    "The results of the experiment were:\n",
    "- over the entire population, the drug was beneficial (vs placebo)\n",
    "- among those that received lollipops, the drug group did worse\n",
    "- among those that did not receive lollipops, the drug group did wose\n",
    "\n",
    "a) If depression contributes to the disease, but lollipop consumption does not, draw a dag that describes this."
   ]
  },
  {
   "cell_type": "code",
   "execution_count": 32,
   "metadata": {
    "ExecuteTime": {
     "end_time": "2020-05-11T05:23:57.987691Z",
     "start_time": "2020-05-11T05:23:57.983859Z"
    }
   },
   "outputs": [
    {
     "data": {
      "application/javascript": [
       "\n",
       "        (function(element){\n",
       "            require(['tree'], function(tree) {\n",
       "                tree(element.get(0), [[\"treatment\", \"lollipop\"], [\"treatment\", \"recovery\"], [\"depression\", \"lollipop\"], [\"depression\", \"recovery\"]], {\"treatment\": [100, 50], \"lollipop\": [200, 50], \"depression\": [300, 50], \"recovery\": [200, 200]}, 600, 400);\n",
       "            });\n",
       "        })(element);\n",
       "    "
      ],
      "text/plain": [
       "<IPython.core.display.Javascript object>"
      ]
     },
     "metadata": {},
     "output_type": "display_data"
    }
   ],
   "source": [
    "draw_dag({'treatment': ['lollipop', 'recovery'],\n",
    "          'depression': ['lollipop', 'recovery']},\n",
    "        positions={'treatment': [100, 50], 'lollipop': [200, 50], 'depression': [300, 50], 'recovery': [200,200]})"
   ]
  },
  {
   "cell_type": "markdown",
   "metadata": {},
   "source": [
    "**b) What variables have to be controlled for?**\n",
    "\n",
    "None! The only backdoor path is `treatment -> lollipop <- depression -> recovery`, and `lollipop` is a collider.\n",
    "\n",
    "**c) The adjustment formula**\n",
    "\n",
    "The adjustment formula uses the parents of X (or at least the version in 3.7 does) and the parents are the empty set. So we have P(recovery|do(treatment)) = P(recovery|treatment).\n",
    "\n",
    "We can also get this from the backdoor criterion formula, where the set $Z$ of blocking variables is the empty set.\n",
    "\n",
    "The intuition here is that because of the random assignment, we expect the contribution of depression to be the same to both the treated and non-treated groups; measuring the average difference in observed effect of treatment should match the average causal effect."
   ]
  },
  {
   "cell_type": "markdown",
   "metadata": {},
   "source": [
    "**d) repeat if lollipops are given post-treatment, with a preference of still giving people lollipops that were treated**\n",
    "\n",
    "This question is actually ill-posed, it depends on how the drug works. I am also assuming that, like in the initial question, the nurse gives lollipops to those that are depressed at the time of distributing lollipops.\n",
    "\n",
    "_Scenario 1: The drug works to alleviate the disease, but does so in ways other than alliviating depression._\n",
    "\n",
    "The DAG is exactly the same as before, and the conclusions are the same.\n",
    "\n",
    "_Scenario 2: One of the methods the drug uses to alleviate the disease is to reduce depression (so being less depressed gives us information on the efficancy of the treatment)__\n",
    "\n",
    "The DAG looks very different. Let $d_i$ be depression at time of assignment, $d_f$ be depression post treatment. We have\n"
   ]
  },
  {
   "cell_type": "code",
   "execution_count": 33,
   "metadata": {
    "ExecuteTime": {
     "end_time": "2020-05-11T05:23:57.993363Z",
     "start_time": "2020-05-11T05:23:57.989181Z"
    }
   },
   "outputs": [
    {
     "data": {
      "application/javascript": [
       "\n",
       "        (function(element){\n",
       "            require(['tree'], function(tree) {\n",
       "                tree(element.get(0), [[\"treatment\", \"lollipop\"], [\"treatment\", \"recovery\"], [\"d_i\", \"recovery\"], [\"d_i\", \"d_f\"], [\"recovery\", \"d_f\"], [\"d_f\", \"lollipop\"]], {\"treatment\": [100, 50], \"lollipop\": [100, 400], \"d_i\": [300, 50], \"recovery\": [200, 200], \"d_f\": [300, 400]}, 600, 400);\n",
       "            });\n",
       "        })(element);\n",
       "    "
      ],
      "text/plain": [
       "<IPython.core.display.Javascript object>"
      ]
     },
     "metadata": {},
     "output_type": "display_data"
    }
   ],
   "source": [
    "draw_dag({'treatment': ['lollipop', 'recovery'],\n",
    "          'd_i': ['recovery', 'd_f'],\n",
    "          'recovery': ['d_f'],\n",
    "          'd_f': ['lollipop']\n",
    "         },\n",
    "        positions={'treatment': [100, 50], 'lollipop': [100, 400], 'd_i': [300, 50], 'recovery': [200,200],\n",
    "                   'd_f': [300, 400]})"
   ]
  },
  {
   "cell_type": "markdown",
   "metadata": {},
   "source": [
    "Even in this case, if we control for nothing, the lollipop is still a collider. We should not control for the lollipop, in fact we should ignore it. Which makes sense -- it has no effect on the experiment, so it is a relief that everyone in the treatment group experiencing something that has no effect on the outcome is not something the experimenter needs to know about. Otherwise, you'd be concerned about \"did a clown wander into the room of all the treated patients\", etc"
   ]
  },
  {
   "cell_type": "markdown",
   "metadata": {},
   "source": [
    "## 3.4.1 What to measure\n",
    "\n",
    "We are going to reuse the DAG from **3.3.1** and ask\n",
    "> If we want to identify the effect of X on Y, and could only measure X, Y, and one other variable, which should it be?"
   ]
  },
  {
   "cell_type": "code",
   "execution_count": 34,
   "metadata": {
    "ExecuteTime": {
     "end_time": "2020-05-11T05:23:57.999278Z",
     "start_time": "2020-05-11T05:23:57.994405Z"
    }
   },
   "outputs": [
    {
     "data": {
      "application/javascript": [
       "\n",
       "        (function(element){\n",
       "            require(['tree'], function(tree) {\n",
       "                tree(element.get(0), [[\"B\", \"A\"], [\"B\", \"Z\"], [\"C\", \"Z\"], [\"C\", \"D\"], [\"A\", \"X\"], [\"Z\", \"X\"], [\"Z\", \"Y\"], [\"D\", \"Y\"], [\"X\", \"W\"], [\"W\", \"Y\"]], {\"B\": [100, 200], \"C\": [300, 200], \"A\": [100, 300], \"Z\": [200, 300], \"D\": [300, 300], \"X\": [100, 400], \"W\": [200, 400], \"Y\": [300, 400]}, 600, 400);\n",
       "            });\n",
       "        })(element);\n",
       "    "
      ],
      "text/plain": [
       "<IPython.core.display.Javascript object>"
      ]
     },
     "metadata": {},
     "output_type": "display_data"
    }
   ],
   "source": [
    "col0, col1, col2 = 100, 200, 300\n",
    "row0, row1, row2 = 200, 300 ,400 \n",
    "\n",
    "draw_dag({'B': ['A', 'Z'], 'C':['Z', 'D'],\n",
    "          'A': ['X'], 'Z':['X', 'Y'], 'D': ['Y'],\n",
    "          'X': ['W'], 'W': ['Y'], 'Y':[]},\n",
    "         positions = {'B': [col0, row0], 'C': [col2, row0],\n",
    "                      'A': [col0, row1], 'Z': [col1, row1], 'D': [col2, row1],\n",
    "                      'X': [col0, row2], 'W': [col1, row2], 'Y': [col2, row2]})"
   ]
  },
  {
   "cell_type": "markdown",
   "metadata": {},
   "source": [
    "From 3.3.1, we know that all minimal sets for blocking _backdoor_ paths require controlling for _two_ variables (Z and one of A, B, C, and D). So we cannot eliminate backdoor paths.\n",
    "\n",
    "If we measure W, we can use the _frontdoor_ criterion identify the effect of X on Y."
   ]
  },
  {
   "cell_type": "markdown",
   "metadata": {},
   "source": [
    "## 3.4.2 Pharmacy problem\n",
    "\n",
    "I thought this problem was particularly poorly worded (more on that later). It was a pity, because it had the potential to be a really nice application of the principles.\n",
    "\n",
    "#### Problem text\n",
    "\n",
    "We are told\n",
    "\n",
    "- there are expensive bottles of medicine, and cheap bottles.\n",
    "- 95% of expensive bottles have \"active\" medicine (P(active|expensive) = 0.95)\n",
    "- 5% of cheap bottles have \"active\" medicine (P(active|cheap) = 0.05)\n",
    "- all old bottles are cheap, all fresh bottles are expensive\n",
    "\n",
    "(It is bad pedagogy to have these probabilities add to 1, as there is no reason in principle for them to add to 1)\n",
    "\n",
    "We are also told that the fraction that recover given the bad bottles (no active ingredient) do much better than those that get bottles with active ingredient.\n",
    "\n",
    "This suggests the type of problem where people who are more severely affected opt for the more expensive (and generally more effective) treatment, and this selection effect lowers the average relative to those that took the cheap drug. This is where the question really goes bad, as we are explicitly told to assume:\n",
    "\n",
    "> * Customers have no information about the chemical content of the specific drug they were buying; their choices are influenced by shelf price and age alone.\n",
    "\n",
    "Shelf and age are not separable/identifiable, which isn't a huge deal. But this statement specifically precludes the choice being made on severity (as customers would be basing their choice on price/age AND severity, and we are told that they are influenced by price/age ALONE). This assumption actually makes the problem unsolvable.\n",
    "\n",
    "In short, there is a huge difference between what a CUSTOMER uses to make their decision, and what information WE (as analyists) have \n",
    "\n",
    "Instead, we assume there is severity effect, and that customers do use it to make their decisions, but we have no access to it.\n",
    "\n",
    "We are told that we have a list of transactions, that include \n",
    "\n",
    "* type of drug purchased (cheap/expensive)\n",
    "* type of ingredient in bottle\n",
    "* whether or not the patient recovered\n",
    "\n",
    "From this information, we are able to determine the the expensive drug is actually more effective (i.e. the ACE for the action \"buy expensive bottles\" is much better than those that buy cheap bottles)\n",
    "\n",
    "a) Draw a DAG that identifies the variables in the story"
   ]
  },
  {
   "cell_type": "code",
   "execution_count": 35,
   "metadata": {
    "ExecuteTime": {
     "end_time": "2020-05-11T05:23:58.003734Z",
     "start_time": "2020-05-11T05:23:58.000343Z"
    }
   },
   "outputs": [
    {
     "data": {
      "application/javascript": [
       "\n",
       "        (function(element){\n",
       "            require(['tree'], function(tree) {\n",
       "                tree(element.get(0), [[\"severity\", \"purchase\"], [\"severity\", \"recovery\"], [\"purchase\", \"active\"], [\"active\", \"recovery\"]], {\"severity\": [200, 50], \"purchase\": [30, 200], \"active\": [200, 200], \"recovery\": [430, 200]}, 600, 400);\n",
       "            });\n",
       "        })(element);\n",
       "    "
      ],
      "text/plain": [
       "<IPython.core.display.Javascript object>"
      ]
     },
     "metadata": {},
     "output_type": "display_data"
    }
   ],
   "source": [
    "draw_dag({'severity': ['purchase', 'recovery'],\n",
    "              'purchase': ['active'],\n",
    "              'active': ['recovery']\n",
    "             }, positions = {'severity': [200, 50], 'purchase': [30,200], 'active': [200,200],\n",
    "                             'recovery': [430, 200]})"
   ]
  },
  {
   "cell_type": "markdown",
   "metadata": {},
   "source": [
    "b) Construct a data set which is compatible with the story and the claim that we should buy the more expensive drug\n",
    "\n",
    "Thanks go to Joyce Lee for generating this data:"
   ]
  },
  {
   "cell_type": "markdown",
   "metadata": {
    "ExecuteTime": {
     "end_time": "2020-05-09T02:02:35.719661Z",
     "start_time": "2020-05-09T02:02:35.716482Z"
    }
   },
   "source": [
    "P(recovery | severe, drug) = 0.6\n",
    "\n",
    "\n",
    "P(recovery | severe, no drug) = 0.5\n",
    "\n",
    "\n",
    "P(recovery | mild, drug) = 0.8\n",
    "\n",
    "\n",
    "P(recovery | mild, no drug) = 0.7"
   ]
  },
  {
   "cell_type": "code",
   "execution_count": 36,
   "metadata": {
    "ExecuteTime": {
     "end_time": "2020-05-11T05:23:58.011683Z",
     "start_time": "2020-05-11T05:23:58.004794Z"
    }
   },
   "outputs": [],
   "source": [
    "all_data = pd.DataFrame([\n",
    "    {'S': 'High', 'cost': 'High', 'activity': 'High', 'recovery': 'Y', 'pop': 228},\n",
    "    {'S': 'High', 'cost': 'High', 'activity': 'High', 'recovery': 'N', 'pop': 152},\n",
    "    {'S': 'High', 'cost': 'High', 'activity': 'Low', 'recovery': 'Y', 'pop': 10},\n",
    "    {'S': 'High', 'cost': 'High', 'activity': 'Low', 'recovery': 'N', 'pop': 10},\n",
    "    {'S': 'High', 'cost': 'Low', 'activity': 'High', 'recovery': 'Y', 'pop': 3},\n",
    "    {'S': 'High', 'cost': 'Low', 'activity': 'High', 'recovery': 'N', 'pop': 2},\n",
    "    {'S': 'High', 'cost': 'Low', 'activity': 'Low', 'recovery': 'Y', 'pop': 47.5},\n",
    "    {'S': 'High', 'cost': 'Low', 'activity': 'Low', 'recovery': 'N', 'pop': 47.5},\n",
    "    {'S': 'Low', 'cost': 'High', 'activity': 'High', 'recovery': 'Y', 'pop': 76},\n",
    "    {'S': 'Low', 'cost': 'High', 'activity': 'High', 'recovery': 'N', 'pop': 19},\n",
    "    {'S': 'Low', 'cost': 'High', 'activity': 'Low', 'recovery': 'Y', 'pop': 3.5},\n",
    "    {'S': 'Low', 'cost': 'High', 'activity': 'Low', 'recovery': 'N', 'pop': 1.5},\n",
    "    {'S': 'Low', 'cost': 'Low', 'activity': 'High', 'recovery': 'Y', 'pop': 16},\n",
    "    {'S': 'Low', 'cost': 'Low', 'activity': 'High', 'recovery': 'N', 'pop': 4},\n",
    "    {'S': 'Low', 'cost': 'Low', 'activity': 'Low', 'recovery': 'Y', 'pop': 266},\n",
    "    {'S': 'Low', 'cost': 'Low', 'activity': 'Low', 'recovery': 'N', 'pop': 114},\n",
    "])\n",
    "    \n",
    "    "
   ]
  },
  {
   "cell_type": "code",
   "execution_count": 37,
   "metadata": {
    "ExecuteTime": {
     "end_time": "2020-05-11T05:23:58.024090Z",
     "start_time": "2020-05-11T05:23:58.012728Z"
    }
   },
   "outputs": [
    {
     "data": {
      "text/html": [
       "<div>\n",
       "<style scoped>\n",
       "    .dataframe tbody tr th:only-of-type {\n",
       "        vertical-align: middle;\n",
       "    }\n",
       "\n",
       "    .dataframe tbody tr th {\n",
       "        vertical-align: top;\n",
       "    }\n",
       "\n",
       "    .dataframe thead th {\n",
       "        text-align: right;\n",
       "    }\n",
       "</style>\n",
       "<table border=\"1\" class=\"dataframe\">\n",
       "  <thead>\n",
       "    <tr style=\"text-align: right;\">\n",
       "      <th></th>\n",
       "      <th>cost</th>\n",
       "      <th>activity</th>\n",
       "      <th>recovery</th>\n",
       "      <th>pop</th>\n",
       "    </tr>\n",
       "  </thead>\n",
       "  <tbody>\n",
       "    <tr>\n",
       "      <th>0</th>\n",
       "      <td>High</td>\n",
       "      <td>High</td>\n",
       "      <td>N</td>\n",
       "      <td>171.0</td>\n",
       "    </tr>\n",
       "    <tr>\n",
       "      <th>1</th>\n",
       "      <td>High</td>\n",
       "      <td>High</td>\n",
       "      <td>Y</td>\n",
       "      <td>304.0</td>\n",
       "    </tr>\n",
       "    <tr>\n",
       "      <th>2</th>\n",
       "      <td>High</td>\n",
       "      <td>Low</td>\n",
       "      <td>N</td>\n",
       "      <td>11.5</td>\n",
       "    </tr>\n",
       "    <tr>\n",
       "      <th>3</th>\n",
       "      <td>High</td>\n",
       "      <td>Low</td>\n",
       "      <td>Y</td>\n",
       "      <td>13.5</td>\n",
       "    </tr>\n",
       "    <tr>\n",
       "      <th>4</th>\n",
       "      <td>Low</td>\n",
       "      <td>High</td>\n",
       "      <td>N</td>\n",
       "      <td>6.0</td>\n",
       "    </tr>\n",
       "    <tr>\n",
       "      <th>5</th>\n",
       "      <td>Low</td>\n",
       "      <td>High</td>\n",
       "      <td>Y</td>\n",
       "      <td>19.0</td>\n",
       "    </tr>\n",
       "    <tr>\n",
       "      <th>6</th>\n",
       "      <td>Low</td>\n",
       "      <td>Low</td>\n",
       "      <td>N</td>\n",
       "      <td>161.5</td>\n",
       "    </tr>\n",
       "    <tr>\n",
       "      <th>7</th>\n",
       "      <td>Low</td>\n",
       "      <td>Low</td>\n",
       "      <td>Y</td>\n",
       "      <td>313.5</td>\n",
       "    </tr>\n",
       "  </tbody>\n",
       "</table>\n",
       "</div>"
      ],
      "text/plain": [
       "   cost activity recovery    pop\n",
       "0  High     High        N  171.0\n",
       "1  High     High        Y  304.0\n",
       "2  High      Low        N   11.5\n",
       "3  High      Low        Y   13.5\n",
       "4   Low     High        N    6.0\n",
       "5   Low     High        Y   19.0\n",
       "6   Low      Low        N  161.5\n",
       "7   Low      Low        Y  313.5"
      ]
     },
     "execution_count": 37,
     "metadata": {},
     "output_type": "execute_result"
    }
   ],
   "source": [
    "# Restrict to the things we can measure\n",
    "our_data = all_data.groupby(['cost', 'activity', 'recovery'], as_index=False).pop.sum()\n",
    "\n",
    "our_data"
   ]
  },
  {
   "cell_type": "markdown",
   "metadata": {
    "ExecuteTime": {
     "end_time": "2020-05-09T08:28:28.321101Z",
     "start_time": "2020-05-09T08:28:28.314613Z"
    }
   },
   "source": [
    "Let's check the claim made by the story: \n",
    "> _the percentage of recovery [sic] amongst those that got bad bottles, with none of the active ingredient, is still much higher than among those that got good bottles, with the active ingredient._"
   ]
  },
  {
   "cell_type": "code",
   "execution_count": 38,
   "metadata": {
    "ExecuteTime": {
     "end_time": "2020-05-11T05:23:58.045242Z",
     "start_time": "2020-05-11T05:23:58.025147Z"
    }
   },
   "outputs": [
    {
     "data": {
      "text/html": [
       "<div>\n",
       "<style scoped>\n",
       "    .dataframe tbody tr th:only-of-type {\n",
       "        vertical-align: middle;\n",
       "    }\n",
       "\n",
       "    .dataframe tbody tr th {\n",
       "        vertical-align: top;\n",
       "    }\n",
       "\n",
       "    .dataframe thead th {\n",
       "        text-align: right;\n",
       "    }\n",
       "</style>\n",
       "<table border=\"1\" class=\"dataframe\">\n",
       "  <thead>\n",
       "    <tr style=\"text-align: right;\">\n",
       "      <th>recovery</th>\n",
       "      <th>N</th>\n",
       "      <th>Y</th>\n",
       "    </tr>\n",
       "    <tr>\n",
       "      <th>activity</th>\n",
       "      <th></th>\n",
       "      <th></th>\n",
       "    </tr>\n",
       "  </thead>\n",
       "  <tbody>\n",
       "    <tr>\n",
       "      <th>High</th>\n",
       "      <td>0.354</td>\n",
       "      <td>0.646</td>\n",
       "    </tr>\n",
       "    <tr>\n",
       "      <th>Low</th>\n",
       "      <td>0.346</td>\n",
       "      <td>0.654</td>\n",
       "    </tr>\n",
       "  </tbody>\n",
       "</table>\n",
       "</div>"
      ],
      "text/plain": [
       "recovery      N      Y\n",
       "activity              \n",
       "High      0.354  0.646\n",
       "Low       0.346  0.654"
      ]
     },
     "execution_count": 38,
     "metadata": {},
     "output_type": "execute_result"
    }
   ],
   "source": [
    "(our_data\n",
    " .groupby(['activity', 'recovery'], as_index=True)['pop'].sum()\n",
    " .reset_index()\n",
    " .pivot_table(index='activity', columns='recovery', values='pop')\n",
    " .apply(lambda x: x/x.sum(), axis=1)\n",
    ")\n",
    "\n",
    "#our_data"
   ]
  },
  {
   "cell_type": "markdown",
   "metadata": {},
   "source": [
    "We see there is a (small) increase in the recovery rate amongst those that take the inactive drug. \n",
    "\n",
    "\n",
    "Let's try to measure the counter-factual, using the observational data only by asking what would happen if we gave everyone -- irrespective of the severity -- the drug.\n",
    "\n",
    "\n",
    "$$P(\\text{recovery} | \\text{do(cost=high)}) = \\sum_{\\text{activity}} P(\\text{activity}|\\text{cost=high}) \\left(\\sum_{\\text{costs} x'} P(\\text{recovery}|\\text{x', activity})P(\\text{x'})\\right)$$"
   ]
  },
  {
   "cell_type": "markdown",
   "metadata": {},
   "source": [
    "                            = P(activity=High|cost=high) (P(recovery| cost=low, activity=High)P(cost=low) + \n",
    "                                                          P(recovery| cost=high, activity=High)P(cost=high)) +\n",
    "                              P(activity=Low|cost=high)  (P(recovery| cost=low, activity=Low)P(cost=low) + \n",
    "                                                          P(recovery| cost=high, activity=Low)P(cost=high))"
   ]
  },
  {
   "cell_type": "markdown",
   "metadata": {},
   "source": [
    "                            = (0.95) ((19/25) x 0.5 + \n",
    "                                      (304/475) x 0.5) +\n",
    "                              (0.05) ((313.5/475) x 0.5 + \n",
    "                                      (13.5/25) x 0.5)"
   ]
  },
  {
   "cell_type": "code",
   "execution_count": 39,
   "metadata": {
    "ExecuteTime": {
     "end_time": "2020-05-11T05:23:58.050066Z",
     "start_time": "2020-05-11T05:23:58.046261Z"
    }
   },
   "outputs": [
    {
     "data": {
      "text/plain": [
       "0.695"
      ]
     },
     "execution_count": 39,
     "metadata": {},
     "output_type": "execute_result"
    }
   ],
   "source": [
    "(0.95)*((19/25) + (304/475))*0.5 + (0.05)*0.5*((313.5/475) + 13.5/25)"
   ]
  },
  {
   "cell_type": "markdown",
   "metadata": {},
   "source": [
    "P(recovery | do(cost=low)) = \\sum_activity P(activity|cost=low) (\\sum_{costs x'} P(recovery|x', activity)P(x'))"
   ]
  },
  {
   "cell_type": "markdown",
   "metadata": {},
   "source": [
    "                            = P(activity=High|cost=low) (P(recovery| cost=low, activity=High)P(cost=low) + \n",
    "                                                          P(recovery| cost=high, activity=High)P(cost=high)) +\n",
    "                              P(activity=Low|cost=low)  (P(recovery| cost=low, activity=Low)P(cost=low) + \n",
    "                                                          P(recovery| cost=high, activity=Low)P(cost=high))"
   ]
  },
  {
   "cell_type": "code",
   "execution_count": 40,
   "metadata": {
    "ExecuteTime": {
     "end_time": "2020-05-11T05:23:58.054385Z",
     "start_time": "2020-05-11T05:23:58.051167Z"
    }
   },
   "outputs": [
    {
     "data": {
      "text/plain": [
       "0.6050000000000001"
      ]
     },
     "execution_count": 40,
     "metadata": {},
     "output_type": "execute_result"
    }
   ],
   "source": [
    "(0.05)*((19/25) + (304/475))*0.5 + (0.95)*0.5*((313.5/475) + 13.5/25)"
   ]
  },
  {
   "cell_type": "markdown",
   "metadata": {},
   "source": [
    "## 3.5.1 Covariate specific effects\n",
    "\n",
    "This question looks at covariate specific effects under intervention. It is basically the same as applying the backdoor formula, with the following exceptions:\n",
    "\n",
    "1. The variable you are looking at covariate specific effects must be in the \"controlling\" set when determining backdoor paths (as we are setting it to a specific level)\n",
    "2. When summing over the set we are controlling over, we sum over all _other_ variables in the set, except for the one we are fixing for intervention.\n",
    "\n",
    "We are using the DAG from earlier. Recall the minimal sets for the effect of X on Y were\n",
    "- Z and one of \\{A, B, C, D\\}"
   ]
  },
  {
   "cell_type": "code",
   "execution_count": 41,
   "metadata": {
    "ExecuteTime": {
     "end_time": "2020-05-11T05:23:58.060906Z",
     "start_time": "2020-05-11T05:23:58.055434Z"
    }
   },
   "outputs": [
    {
     "data": {
      "application/javascript": [
       "\n",
       "        (function(element){\n",
       "            require(['tree'], function(tree) {\n",
       "                tree(element.get(0), [[\"B\", \"A\"], [\"B\", \"Z\"], [\"C\", \"Z\"], [\"C\", \"D\"], [\"A\", \"X\"], [\"Z\", \"X\"], [\"Z\", \"Y\"], [\"D\", \"Y\"], [\"X\", \"W\"], [\"W\", \"Y\"]], {\"B\": [100, 200], \"C\": [300, 200], \"A\": [100, 300], \"Z\": [200, 300], \"D\": [300, 300], \"X\": [100, 400], \"W\": [200, 400], \"Y\": [300, 400]}, 600, 400);\n",
       "            });\n",
       "        })(element);\n",
       "    "
      ],
      "text/plain": [
       "<IPython.core.display.Javascript object>"
      ]
     },
     "metadata": {},
     "output_type": "display_data"
    }
   ],
   "source": [
    "col0, col1, col2 = 100, 200, 300\n",
    "row0, row1, row2 = 200, 300 ,400 \n",
    "\n",
    "draw_dag({'B': ['A', 'Z'], 'C':['Z', 'D'],\n",
    "          'A': ['X'], 'Z':['X', 'Y'], 'D': ['Y'],\n",
    "          'X': ['W'], 'W': ['Y'], 'Y':[]},\n",
    "         positions = {'B': [col0, row0], 'C': [col2, row0],\n",
    "                      'A': [col0, row1], 'Z': [col1, row1], 'D': [col2, row1],\n",
    "                      'X': [col0, row2], 'W': [col1, row2], 'Y': [col2, row2]})"
   ]
  },
  {
   "cell_type": "markdown",
   "metadata": {},
   "source": [
    "**a) Find an expression for the $c$-specific effect of X on Y:**\n",
    "\n",
    "The simplest blocking set that includes $C$ is $\\{Z, C\\}$. If we were doing just the ordinary \"do\" calculus, we have\n",
    "$$P(Y|\\text{do(X=x)}) = \\sum_{c, z} P(Y | \\text{X=x}, \\text{C=c}, \\text{Z = z})P(\\text{C=c}, \\text{Z=z})$$\n",
    "\n",
    "If we want the effect when $C$ takes a specific value $c$ we get\n",
    "$$P(Y|\\text{do(X=x)}, \\text{C=c}) = \\sum_{z} P(Y | \\text{X=x}, \\text{C=c}, \\text{Z = z})P(\\text{Z=z}|\\text{C=c})$$\n",
    "\n",
    "This does not match **Rule 2** as printed in the book (it would have $P(Z=z)$ at the end, rather than $P(Z=z|C=c)$). This is corrected in the [errata](http://bayes.cs.ucla.edu/PRIMER/pearl-etal-2016-primer-errata-pages-april2020.pdf). The corrected form is also given in the discussion around equation (3.11)"
   ]
  },
  {
   "cell_type": "markdown",
   "metadata": {},
   "source": [
    "**b) Identify a set of four variables for getting the $z$ specific effect of X on Y**\n",
    "\n",
    "So we know a minimal set to control for are $\\{C, Z\\}$, so the four things we are going to measure are X, Y, Z, and C (C could be replaced with A, B, or D). The formula for intervention is simple, we can just swap the Zs and Cs above:\n",
    "\n",
    "$$P(Y|\\text{do(X=x)}, \\text{Z=z}) = \\sum_{c} P(Y | \\text{X=x}, \\text{C=c}, \\text{Z = z})P(\\text{C=c}|\\text{Z=z})$$"
   ]
  },
  {
   "cell_type": "markdown",
   "metadata": {},
   "source": [
    "**c) What is the expected value of Y under a Z-dependent treatment, where X is set to 0 when is <= 2, and 1 otherwise? Z takes values 0 through 5**\n",
    "\n",
    "Let's assume $y$ is binary, 0 or 1, and that we are interested in the expected number of positive cases (1)\n",
    "\n",
    "\n",
    "\\begin{align*}\n",
    "E(Y|\\text{strat}) &= \\sum_{y} y P(Y=y|\\text{strat})\\\\\n",
    "=& P(Y=1 | \\text{strat})\\\\\n",
    "=& P(Y=1 | \\text{do(X=0)}, Z=0)P(Z=0) + P(Y=1 | \\text{do(X=0)}, Z=1)P(Z=1) + P(Y=1 | \\text{do(X=0)}, Z=2)P(Z=2)\\\\\n",
    " & + P(Y=1 | \\text{do(X=1)}, Z=3)P(Z=3) + P(Y=1 | \\text{do(X=1)}, Z=0)P(Z=0) + P(Y=1 | \\text{do(X=1)}, Z=1)P(Z=1) + P(Y=1 | \\text{do(X=1)}, Z=5)P(Z=5)\\\\\n",
    "=& \\sum_{z=0}^2 P(Y=1|\\text{do(X=0)}, Z=z)P(Z=z) + \\sum_{z=3}^{5}P(Y=1|\\text{do(X=1)}, Z=z)P(Z=z)\\\\\n",
    "=& \\sum_{c}\\left(\\sum_{z=0}^2 P(Y=1|X=0, C=c, Z=z)P(C=c|Z=z)P(Z=z) + \\sum_{z=3}^{5}P(Y=1|X=1, C=c, Z=z)P(C=c|Z=z)P(Z=z)\\right)\n",
    "\\end{align*}"
   ]
  },
  {
   "cell_type": "markdown",
   "metadata": {},
   "source": [
    "I don't really find this particularly enlightening. Would be better with a numeric example -- this doesn't feel like too much more than just expanding the formula to some arbitrary point."
   ]
  },
  {
   "cell_type": "markdown",
   "metadata": {},
   "source": [
    "## Study problem 3.8.1\n",
    "\n",
    "I think this problem is interesting, although I wish it were a little more directed. Let's approach this using the diagram we already have, and we will label the structural coefficients as `c[(source, dest)]`.\n",
    "\n",
    "We will approach this as a simulation approach in parallel."
   ]
  },
  {
   "cell_type": "code",
   "execution_count": 42,
   "metadata": {
    "ExecuteTime": {
     "end_time": "2020-05-11T05:23:58.069824Z",
     "start_time": "2020-05-11T05:23:58.062732Z"
    }
   },
   "outputs": [
    {
     "data": {
      "application/javascript": [
       "\n",
       "        (function(element){\n",
       "            require(['tree'], function(tree) {\n",
       "                tree(element.get(0), [[\"B\", \"A\"], [\"B\", \"Z\"], [\"C\", \"Z\"], [\"C\", \"D\"], [\"A\", \"X\"], [\"Z\", \"X\"], [\"Z\", \"Y\"], [\"D\", \"Y\"], [\"X\", \"W\"], [\"W\", \"Y\"]], {\"B\": [100, 200], \"C\": [300, 200], \"A\": [100, 300], \"Z\": [200, 300], \"D\": [300, 300], \"X\": [100, 400], \"W\": [200, 400], \"Y\": [300, 400]}, 600, 400);\n",
       "            });\n",
       "        })(element);\n",
       "    "
      ],
      "text/plain": [
       "<IPython.core.display.Javascript object>"
      ]
     },
     "metadata": {},
     "output_type": "display_data"
    }
   ],
   "source": [
    "col0, col1, col2 = 100, 200, 300\n",
    "row0, row1, row2 = 200, 300 ,400 \n",
    "\n",
    "N = 150000\n",
    "\n",
    "draw_dag({'B': ['A', 'Z'], 'C':['Z', 'D'],\n",
    "          'A': ['X'], 'Z':['X', 'Y'], 'D': ['Y'],\n",
    "          'X': ['W'], 'W': ['Y'], 'Y':[]},\n",
    "         positions = {'B': [col0, row0], 'C': [col2, row0],\n",
    "                      'A': [col0, row1], 'Z': [col1, row1], 'D': [col2, row1],\n",
    "                      'X': [col0, row2], 'W': [col1, row2], 'Y': [col2, row2]})"
   ]
  },
  {
   "cell_type": "code",
   "execution_count": 43,
   "metadata": {
    "ExecuteTime": {
     "end_time": "2020-05-11T05:23:58.742196Z",
     "start_time": "2020-05-11T05:23:58.071528Z"
    }
   },
   "outputs": [],
   "source": [
    "from sklearn.linear_model import LinearRegression\n",
    "\n",
    "c = {\n",
    "    ('B','A'): 2.3, ('B', 'Z'): 3.3,\n",
    "    ('C','D'): 1.0, ('C', 'Z'): -1.5,\n",
    "    ('A', 'X'): 2.0,\n",
    "    ('D', 'Y'): 3.4,\n",
    "    ('Z', 'X'): 2.6, ('Z', 'Y'): 0.7,\n",
    "    ('X', 'W'): 1.1,\n",
    "    ('W', 'Y'): 1.6\n",
    "}\n",
    "\n",
    "def noise(scale):\n",
    "    return np.random.normal(scale=scale, size=N)\n",
    "\n",
    "\n",
    "B = noise(scale=0.3)\n",
    "C = noise(scale=0.6)\n",
    "\n",
    "A = B*c[('B', 'A')] + noise(scale=0.1)\n",
    "D = C*c[('C', 'D')] + noise(scale=0.15)\n",
    "Z = B*c[('B', 'Z')] + C*c[('C', 'Z')] + noise(scale=0.4)\n",
    "\n",
    "X = A*c[('A', 'X')] + Z*c[('Z', 'X')] + noise(scale=0.3)\n",
    "W = X*c[('X', 'W')] + noise(scale=0.2)\n",
    "Y = W*c[('W', 'Y')] + Z*c[('Z', 'Y')] + D*c[('D', 'Y')] + noise(scale=0.35)\n",
    "\n",
    "data = pd.DataFrame({'A':A, 'B':B, 'C':C, 'D':D, 'W':W, 'X':X, 'Y':Y, 'Z':Z})\n",
    "\n",
    "linear = LinearRegression()"
   ]
  },
  {
   "cell_type": "markdown",
   "metadata": {},
   "source": [
    "**b) Assuming we can measure X, Y, W, and Z. What is a testable implication**\n",
    "\n",
    "Regressing $W \\sim X$ should give us `c[(X,W)]`, and I would also think that $Y \\sim W$ should give `c[(W,Y)]`. Let's check it out: "
   ]
  },
  {
   "cell_type": "code",
   "execution_count": 44,
   "metadata": {
    "ExecuteTime": {
     "end_time": "2020-05-11T05:23:58.747780Z",
     "start_time": "2020-05-11T05:23:58.743616Z"
    }
   },
   "outputs": [],
   "source": [
    "def get_coefs(target_name, control_names, data=data):\n",
    "    linear=LinearRegression().fit(data[control_names], data[target_name])\n",
    "    return { var_name: value for var_name, value in zip(control_names, linear.coef_)}\n",
    "\n",
    "def report(target_name, control_names, data=data):\n",
    "    coef=get_coefs(target_name, control_names, data)\n",
    "    for var_name, value in coef.items():\n",
    "        if (var_name, target_name) not in c:\n",
    "            continue\n",
    "        struct = c[(var_name, target_name)]\n",
    "        msg = f\"\"\"({var_name}, {target_name}): fit value is {value:.3f}, structural value is {struct:.3f}\"\"\"\n",
    "        print(msg)"
   ]
  },
  {
   "cell_type": "code",
   "execution_count": 45,
   "metadata": {
    "ExecuteTime": {
     "end_time": "2020-05-11T05:23:58.761515Z",
     "start_time": "2020-05-11T05:23:58.750292Z"
    }
   },
   "outputs": [
    {
     "name": "stdout",
     "output_type": "stream",
     "text": [
      "(X, W): fit value is 1.100, structural value is 1.100\n"
     ]
    }
   ],
   "source": [
    "report('W', ['X'])"
   ]
  },
  {
   "cell_type": "code",
   "execution_count": 46,
   "metadata": {
    "ExecuteTime": {
     "end_time": "2020-05-11T05:23:58.770022Z",
     "start_time": "2020-05-11T05:23:58.762922Z"
    }
   },
   "outputs": [
    {
     "name": "stdout",
     "output_type": "stream",
     "text": [
      "(W, Y): fit value is 1.589, structural value is 1.600\n"
     ]
    }
   ],
   "source": [
    "report('Y', ['W'])"
   ]
  },
  {
   "cell_type": "markdown",
   "metadata": {},
   "source": [
    "For the record, let's show that $Y \\sim Z$ does **not** produce the structural result."
   ]
  },
  {
   "cell_type": "code",
   "execution_count": 47,
   "metadata": {
    "ExecuteTime": {
     "end_time": "2020-05-11T05:23:58.777657Z",
     "start_time": "2020-05-11T05:23:58.771394Z"
    }
   },
   "outputs": [
    {
     "name": "stdout",
     "output_type": "stream",
     "text": [
      "(Z, Y): fit value is 5.553, structural value is 0.700\n"
     ]
    }
   ],
   "source": [
    "report('Y', ['Z'])"
   ]
  },
  {
   "cell_type": "markdown",
   "metadata": {},
   "source": [
    "**d) If we only measured X, W, and Y, can we get the total effect of X on Y?**\n",
    "\n",
    "Yes."
   ]
  },
  {
   "cell_type": "markdown",
   "metadata": {},
   "source": [
    "It seems like we can identify the total effect of X on Y, as we have W:\n",
    "\n",
    "- X to W is identifible, with 1.100\n",
    "- W to Y is identifible, with 1.600\n",
    "\n",
    "So the causal effect X to Y is $1.10 \\times 1.60 = 1.76$."
   ]
  },
  {
   "cell_type": "markdown",
   "metadata": {},
   "source": [
    "**e) If we regress $B$ on all other parameters in the model, which coefficient will be zero?**\n",
    "\n",
    "Le sigh. These questions are so ambigously worded. If this question means\n",
    "$$ B \\sim A + C + D + Z + X + Y + W $$\n",
    "then I see _multiple_ coefficients that will be zero. For each variable, we assume all other variables are controlled for. Non-zero coefficients are \n",
    "- A (direct connection from B to A)\n",
    "- Z (direct connection from B to Z)\n",
    "- C (path B -> Z <- C is unblocked by controlling for Z)\n",
    "\n",
    "Every other path through A and Z is blocked by controlling for those, so the rest are zero (or statistically insignificant)"
   ]
  },
  {
   "cell_type": "code",
   "execution_count": 48,
   "metadata": {
    "ExecuteTime": {
     "end_time": "2020-05-11T05:23:58.807273Z",
     "start_time": "2020-05-11T05:23:58.778871Z"
    }
   },
   "outputs": [
    {
     "data": {
      "text/plain": [
       "{'A': 0.37689582104934855,\n",
       " 'C': 0.05132615077291064,\n",
       " 'D': 0.0007724320369656959,\n",
       " 'Z': 0.03320901865289971,\n",
       " 'X': 0.0018148895382926562,\n",
       " 'Y': -0.0002241206394100493,\n",
       " 'W': -0.0008933746812648642}"
      ]
     },
     "execution_count": 48,
     "metadata": {},
     "output_type": "execute_result"
    }
   ],
   "source": [
    "get_coefs('B', ['A', 'C', 'D', 'Z', 'X', 'Y', 'W'])"
   ]
  },
  {
   "cell_type": "markdown",
   "metadata": {},
   "source": [
    "Note that A, C, and Z coefficients are at least 10 times bigger than the other coefficients.\n",
    "\n",
    "If the question means\n",
    "$$B \\sim X_i$$\n",
    "by doing coefficient one at a time, then we are asking which variables are $d$-separated when we control for nothing on the original graph. From our strutural equations, we see $B$ and $C$ are independent when conditioning on nothing. Let's go through the formualism. Let's enumerate all paths from B to C\n",
    "\n",
    "1. `B -> Z <- C` (blocked by Z)\n",
    "2. `B -> Z -> Y <- D <- C` (blocked by Y)\n",
    "3. `B -> Z -> X -> W -> Y <- D <- C` (blocked by Y)\n",
    "4. `B -> A -> X <- Z <- C` (blocked by X)\n",
    "5. `B -> A -> X <- Z -> Y <- D <- C` (blocked by X and by Y)\n",
    "6. `B -> A -> X -> W -> Y <- D <- C` (blocked by X)\n"
   ]
  },
  {
   "cell_type": "code",
   "execution_count": 49,
   "metadata": {
    "ExecuteTime": {
     "end_time": "2020-05-11T05:23:58.815900Z",
     "start_time": "2020-05-11T05:23:58.808518Z"
    }
   },
   "outputs": [
    {
     "data": {
      "text/plain": [
       "{'C': 0.0024644627149526927}"
      ]
     },
     "execution_count": 49,
     "metadata": {},
     "output_type": "execute_result"
    }
   ],
   "source": [
    "get_coefs('B', ['C'])"
   ]
  },
  {
   "cell_type": "markdown",
   "metadata": {},
   "source": [
    "Let's compare to other pairs, and show this is the only one"
   ]
  },
  {
   "cell_type": "code",
   "execution_count": 50,
   "metadata": {
    "ExecuteTime": {
     "end_time": "2020-05-11T05:23:58.846151Z",
     "start_time": "2020-05-11T05:23:58.817429Z"
    }
   },
   "outputs": [
    {
     "name": "stdout",
     "output_type": "stream",
     "text": [
      "B,A: 0.426\n",
      "\t\t\tB,C: 0.002\n",
      "\t\t\tB,D: 0.003\n",
      "B,W: 0.048\n",
      "B,X: 0.053\n",
      "B,Y: 0.032\n",
      "B,Z: 0.151\n"
     ]
    }
   ],
   "source": [
    "nodes = ['A', 'C', 'D', 'W', 'X', 'Y', 'Z']\n",
    "node1='B'\n",
    "for node2 in nodes:\n",
    "    coef = list(get_coefs(node1, [node2]).values())[0]\n",
    "    if abs(coef) < 0.02:\n",
    "        prefix = \"\\t\\t\\t\"\n",
    "    else:\n",
    "        prefix = \"\"\n",
    "    print(f'{prefix}{node1},{node2}: {coef:.3f}')"
   ]
  },
  {
   "cell_type": "markdown",
   "metadata": {},
   "source": [
    "Going through the path exercise, it makes sense that B and D are independent (as are A and C, and A and D when looking at the entire graph).\n",
    "\n",
    "Again, this question should not be phrased as _which coefficient_ (singular) should be zero? There are multiple zero coefficients! (i.e. variables that are independent, controlling for nothing)"
   ]
  },
  {
   "cell_type": "markdown",
   "metadata": {},
   "source": [
    "**f) skip**\n",
    "\n",
    "Given the phrasing in (e) and the miscounting in the question, I don't want to look for 5 such regression coefficients! The next question is more interesting.\n",
    "\n",
    "**g) Assume C and D cannot be measured. Find a way to estimate `c[(Z,Y)]`**\n",
    "\n",
    "The hint that we are given turn $B$ into an instrumental variable. A variable is instrumental if\n",
    "\n",
    "1. We remove the edge from Z to Y (the effect we are trying to identify). Call this graph G_a\n",
    "2. Find a set of controlling variables S\n",
    "2. Look for a variable that is d-connected to Z in G_a (controlling for S), but d-separated from Y in Z_a (controlling for S)\n",
    "\n",
    "This doesn't make sense with the example given in the book. The example Pearl uses is\n",
    "\n",
    "```\n",
    "Z --> X ----> Y\n",
    "      ^       ^\n",
    "      |       |\n",
    "      U--------\n",
    "```\n",
    "where U cannot be measured. The claim is Z is an instrumental variable for X. This doesn't match Pearl's definition, as controlling for X unblocks the collider, even in G_a, so Z and Y are d-connected. It is a poor definition that is rushed in the book.\n",
    "\n",
    "#### Better definition\n",
    "A better definition can be found in [this paper](https://www.stat.cmu.edu/~cshalizi/402/lectures/23-causal-estimation/lecture-23.pdf). A variable $I$ is an instrument for $X$ on $Y$ if we control for a set $S$ if:\n",
    "\n",
    "1. $I$ is conditionally dependent on $X$ controlling for $S$\n",
    "2. Every unblocked path from $I$ to $Y$ goes through $X$\n",
    "\n",
    "#### Once we find the instrucumental variables\n",
    "\n",
    "Intuition is that $I$ only affects $Y$ through $X$, so we can use it to isolate the $X$ dependent effects.\n",
    "\n",
    "Suppose we find an instrument $I$, we regress $Z \\sim I $ and $Y \\sim I$, we can find the total causal effect of $Z$ on $Y$ through the ratio of coefficients."
   ]
  },
  {
   "cell_type": "code",
   "execution_count": 51,
   "metadata": {
    "ExecuteTime": {
     "end_time": "2020-05-11T05:23:58.860283Z",
     "start_time": "2020-05-11T05:23:58.854099Z"
    }
   },
   "outputs": [
    {
     "data": {
      "application/javascript": [
       "\n",
       "        (function(element){\n",
       "            require(['tree'], function(tree) {\n",
       "                tree(element.get(0), [[\"B\", \"A\"], [\"B\", \"Z\"], [\"C\", \"Z\"], [\"C\", \"D\"], [\"A\", \"X\"], [\"Z\", \"X\"], [\"D\", \"Y\"], [\"X\", \"W\"], [\"W\", \"Y\"]], {\"B\": [100, 200], \"C\": [300, 200], \"A\": [100, 300], \"Z\": [200, 300], \"D\": [300, 300], \"X\": [100, 400], \"W\": [200, 400], \"Y\": [300, 400]}, 600, 400);\n",
       "            });\n",
       "        })(element);\n",
       "    "
      ],
      "text/plain": [
       "<IPython.core.display.Javascript object>"
      ]
     },
     "metadata": {},
     "output_type": "display_data"
    }
   ],
   "source": [
    "# The graph G_A\n",
    "col0, col1, col2 = 100, 200, 300\n",
    "row0, row1, row2 = 200, 300 ,400 \n",
    "\n",
    "N = 15000\n",
    "\n",
    "draw_dag({'B': ['A', 'Z'], 'C':['Z', 'D'],\n",
    "          'A': ['X'], 'Z':['X'], 'D': ['Y'],\n",
    "          'X': ['W'], 'W': ['Y'], 'Y':[]},\n",
    "         positions = {'B': [col0, row0], 'C': [col2, row0],\n",
    "                      'A': [col0, row1], 'Z': [col1, row1], 'D': [col2, row1],\n",
    "                      'X': [col0, row2], 'W': [col1, row2], 'Y': [col2, row2]})"
   ]
  },
  {
   "cell_type": "markdown",
   "metadata": {},
   "source": [
    "We are interested in the paths from `B` to `Y` that do _not_ pass through `Z`.\n",
    "\n",
    "We have `B -> A -> X -> W -> Y`"
   ]
  },
  {
   "cell_type": "code",
   "execution_count": 52,
   "metadata": {
    "ExecuteTime": {
     "end_time": "2020-05-11T05:23:58.884129Z",
     "start_time": "2020-05-11T05:23:58.863655Z"
    }
   },
   "outputs": [
    {
     "data": {
      "text/plain": [
       "(5.27696228223703, 0.7)"
      ]
     },
     "execution_count": 52,
     "metadata": {},
     "output_type": "execute_result"
    }
   ],
   "source": [
    "coef1 = get_coefs('Y', ['B', 'A'])\n",
    "coef2 = get_coefs('Z', ['B', 'A'])\n",
    "\n",
    "total_effect_Z_on_Y =  coef1['B']/coef2['B']\n",
    "total_effect_Z_on_Y, c[('Z', 'Y')]"
   ]
  },
  {
   "cell_type": "markdown",
   "metadata": {},
   "source": [
    "This gives the _total_ effect of Z on Y. We also need to have the effect of $X$ on $Y$, which we can estimate by controlling for $B$ and $Z$ (as per earlier examples)"
   ]
  },
  {
   "cell_type": "code",
   "execution_count": 53,
   "metadata": {
    "ExecuteTime": {
     "end_time": "2020-05-11T05:23:58.912182Z",
     "start_time": "2020-05-11T05:23:58.885440Z"
    }
   },
   "outputs": [
    {
     "data": {
      "text/plain": [
       "{'B': 6.273027023278192, 'Z': -1.1928634314324218, 'X': 1.759463204412179}"
      ]
     },
     "execution_count": 53,
     "metadata": {},
     "output_type": "execute_result"
    }
   ],
   "source": [
    "get_coefs('Y', ['B', 'Z', 'X'])"
   ]
  },
  {
   "cell_type": "markdown",
   "metadata": {
    "ExecuteTime": {
     "end_time": "2020-05-11T00:39:30.761458Z",
     "start_time": "2020-05-11T00:39:30.757221Z"
    }
   },
   "source": [
    "Finally we need the effect of $Z$ on $X$:"
   ]
  },
  {
   "cell_type": "code",
   "execution_count": 54,
   "metadata": {
    "ExecuteTime": {
     "end_time": "2020-05-11T05:23:58.955840Z",
     "start_time": "2020-05-11T05:23:58.913493Z"
    }
   },
   "outputs": [
    {
     "data": {
      "text/plain": [
       "{'Z': 2.5994582213749413, 'B': 4.598671020195258}"
      ]
     },
     "execution_count": 54,
     "metadata": {},
     "output_type": "execute_result"
    }
   ],
   "source": [
    "get_coefs('X', ['Z', 'B'])"
   ]
  },
  {
   "cell_type": "markdown",
   "metadata": {
    "ExecuteTime": {
     "end_time": "2020-05-11T00:39:30.816265Z",
     "start_time": "2020-05-11T00:39:30.797317Z"
    }
   },
   "source": [
    "So now we know that \n",
    "1. Increasing Z by one unit affects Y be 5.265 units.\n",
    "  - once through the direct path `Z->Y`\n",
    "  - once through a mediated path `Z->X->W->Y`\n",
    "2. We know increasing X by one unit increases Y.by 1.76 (above). We controlled for Z and B. As we have seen before, we need to control for Z and one of (A, B, C, or D) to get the total effect of X on Y.\n",
    "3. We know the direct effect of increasing Z on X is 2.6 (from X ~ Z + B, where B blocks backdoor paths) in the previous cell\n",
    "4. So increasing Z by one, we increase X by 2.6, and that increase in X leads to a `2.6 * 1.76= 4.58` increase in Y. This is the increase along the \"indirect\" path `Z->X->W->Y`\n",
    "5. Increasing Z by one leads to a total increase by 5.265 units, so $5.265-4.58 = 0.689$ must be given by the path $Z->Y$, which is the effect we are trying to estimate.\n",
    "\n",
    "Note that this text was written for one particular instance of the data, so if you rerun the notebook, the values might change. The function below does an analysis which gives our estimate of `c[('Z', 'Y')]` for the current run."
   ]
  },
  {
   "cell_type": "code",
   "execution_count": 55,
   "metadata": {
    "ExecuteTime": {
     "end_time": "2020-05-11T05:23:58.990400Z",
     "start_time": "2020-05-11T05:23:58.957602Z"
    }
   },
   "outputs": [
    {
     "name": "stdout",
     "output_type": "stream",
     "text": [
      "\n",
      "    Total effect of Z on Y: 5.2770\n",
      "    \n",
      "    Total effect of X on Y: 1.7595\n",
      "    Total effect of Z on X: 2.5995\n",
      "    \n",
      "    Therefore, \n",
      "    unit increase in Z = direct effect of Z on Y + effect of Z via Z->X->W->Y\n",
      "                       = direct effect of Z on Y + (effect of Z on X)*(effect of X on Y)\n",
      "                       = direct effect of Z on Y + (2.5995)(1.7595)\n",
      "                       = direct effect of Z on Y + 4.5737\n",
      "                       \n",
      "    Or\n",
      "    direct effect of Z on Y = 5.2770 - 4.5737\n",
      "                            = 0.7033\n",
      "                            \n",
      "    (Compare to structural equations, value is c([Z, Y]) = 0.7000)\n",
      "    \n"
     ]
    }
   ],
   "source": [
    "def estimate_c_Z_Y(data=data):\n",
    "    # determine total effect\n",
    "    # This includes direct path Z -> Y and indirect \n",
    "    # path Z -> X -> W -> Y\n",
    "    coef1 = get_coefs('Y', ['B', 'A'])\n",
    "    coef2 = get_coefs('Z', ['B', 'A'])\n",
    "    total_effect_Z_on_Y = coef1['B']/coef2['B']\n",
    "    \n",
    "    # determine effect of X on Y\n",
    "    total_effect_X_on_Y = get_coefs('Y', ['X', 'Z', 'B'])['X']\n",
    "    \n",
    "    # determine effect of Z on X\n",
    "    causal_effect_Z_on_X = get_coefs('X', ['Z', 'B'])['Z']\n",
    "    \n",
    "    # Increase in Z causes an increase in Y along *indirect* path of\n",
    "    indirect_Z_on_Y = causal_effect_Z_on_X * total_effect_X_on_Y\n",
    "    \n",
    "    # direct effect of Z on Y is ...\n",
    "    direct_Z_on_Y = total_effect_Z_on_Y - indirect_Z_on_Y\n",
    "    \n",
    "    msg = f\"\"\"\n",
    "    Total effect of Z on Y: {total_effect_Z_on_Y:.4f}\n",
    "    \n",
    "    Total effect of X on Y: {total_effect_X_on_Y:.4f}\n",
    "    Total effect of Z on X: {causal_effect_Z_on_X:.4f}\n",
    "    \n",
    "    Therefore, \n",
    "    unit increase in Z = direct effect of Z on Y + effect of Z via Z->X->W->Y\n",
    "                       = direct effect of Z on Y + (effect of Z on X)*(effect of X on Y)\n",
    "                       = direct effect of Z on Y + ({causal_effect_Z_on_X:.4f})({total_effect_X_on_Y:.4f})\n",
    "                       = direct effect of Z on Y + {indirect_Z_on_Y:.4f}\n",
    "                       \n",
    "    Or\n",
    "    direct effect of Z on Y = {total_effect_Z_on_Y:.4f} - {indirect_Z_on_Y:.4f}\n",
    "                            = {direct_Z_on_Y:.4f}\n",
    "                            \n",
    "    (Compare to structural equations, value is c([Z, Y]) = {c[('Z', 'Y')]:.4f})\n",
    "    \"\"\"\n",
    "    return msg\n",
    "\n",
    "\n",
    "print(estimate_c_Z_Y())"
   ]
  },
  {
   "cell_type": "markdown",
   "metadata": {},
   "source": [
    "## Example from the book"
   ]
  },
  {
   "cell_type": "markdown",
   "metadata": {},
   "source": [
    "This is the slightly simpler version of instrumental variables discussed on page 85. I prefixed variables with `ex_` to make it clear these were not the same as the variables in the previous example."
   ]
  },
  {
   "cell_type": "code",
   "execution_count": 56,
   "metadata": {
    "ExecuteTime": {
     "end_time": "2020-05-11T05:23:58.999185Z",
     "start_time": "2020-05-11T05:23:58.991706Z"
    }
   },
   "outputs": [],
   "source": [
    "ex_Z = noise(scale=0.3)\n",
    "ex_W = 0 + noise(scale=1)\n",
    "\n",
    "ex_X = 2*ex_Z + 1*ex_W + noise(scale=0.2)\n",
    "ex_Y = 3*ex_X - 0.5*ex_W + noise(scale=0.2)\n",
    "\n",
    "ex_data = pd.DataFrame({'ex_Z': ex_Z, 'ex_W': ex_W, \n",
    "                        'ex_X': ex_X, 'ex_Y': ex_Y})"
   ]
  },
  {
   "cell_type": "code",
   "execution_count": 57,
   "metadata": {
    "ExecuteTime": {
     "end_time": "2020-05-11T05:23:59.008452Z",
     "start_time": "2020-05-11T05:23:59.000771Z"
    }
   },
   "outputs": [
    {
     "data": {
      "text/plain": [
       "{'ex_Z': 5.852536556226128}"
      ]
     },
     "execution_count": 57,
     "metadata": {},
     "output_type": "execute_result"
    }
   ],
   "source": [
    "get_coefs('ex_Y', ['ex_Z'], data=ex_data)"
   ]
  },
  {
   "cell_type": "code",
   "execution_count": 58,
   "metadata": {
    "ExecuteTime": {
     "end_time": "2020-05-11T05:23:59.015925Z",
     "start_time": "2020-05-11T05:23:59.009789Z"
    }
   },
   "outputs": [
    {
     "data": {
      "text/plain": [
       "{'ex_Z': 1.9453265304685763}"
      ]
     },
     "execution_count": 58,
     "metadata": {},
     "output_type": "execute_result"
    }
   ],
   "source": [
    "get_coefs('ex_X', ['ex_Z'], data=ex_data)"
   ]
  },
  {
   "cell_type": "markdown",
   "metadata": {},
   "source": [
    "This example works."
   ]
  }
 ],
 "metadata": {
  "kernelspec": {
   "display_name": "causal",
   "language": "python",
   "name": "causal"
  },
  "language_info": {
   "codemirror_mode": {
    "name": "ipython",
    "version": 3
   },
   "file_extension": ".py",
   "mimetype": "text/x-python",
   "name": "python",
   "nbconvert_exporter": "python",
   "pygments_lexer": "ipython3",
   "version": "3.8.2"
  },
  "varInspector": {
   "cols": {
    "lenName": 16,
    "lenType": 16,
    "lenVar": 40
   },
   "kernels_config": {
    "python": {
     "delete_cmd_postfix": "",
     "delete_cmd_prefix": "del ",
     "library": "var_list.py",
     "varRefreshCmd": "print(var_dic_list())"
    },
    "r": {
     "delete_cmd_postfix": ") ",
     "delete_cmd_prefix": "rm(",
     "library": "var_list.r",
     "varRefreshCmd": "cat(var_dic_list()) "
    }
   },
   "types_to_exclude": [
    "module",
    "function",
    "builtin_function_or_method",
    "instance",
    "_Feature"
   ],
   "window_display": false
  }
 },
 "nbformat": 4,
 "nbformat_minor": 2
}
