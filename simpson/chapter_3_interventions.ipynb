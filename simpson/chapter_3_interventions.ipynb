{
 "cells": [
  {
   "cell_type": "code",
   "execution_count": null,
   "metadata": {
    "ExecuteTime": {
     "end_time": "2020-05-02T01:52:21.581467Z",
     "start_time": "2020-05-02T01:52:21.572271Z"
    }
   },
   "outputs": [],
   "source": [
    "%%javascript\n",
    "    require.config({\n",
    "        paths: { \n",
    "            d3: 'https://d3js.org/d3.v5.min'\n",
    "        }\n",
    "    });"
   ]
  },
  {
   "cell_type": "code",
   "execution_count": 2,
   "metadata": {
    "ExecuteTime": {
     "end_time": "2020-05-02T01:52:23.511858Z",
     "start_time": "2020-05-02T01:52:22.282593Z"
    }
   },
   "outputs": [
    {
     "data": {
      "text/html": [
       "<style>\n",
       "\n",
       "svg {\n",
       "    width: 100vw;\n",
       "    height: 100vh;\n",
       "}\n",
       "\n",
       ".edge {\n",
       "    stroke: #555;\n",
       "}\n",
       "\n",
       ".node>text {\n",
       "    stroke: #333;\n",
       "}\n",
       "\n",
       ".node>circle {\n",
       "    stroke: #555;\n",
       "    stroke-width: 3px;\n",
       "    fill: white;\n",
       "    cursor: pointer;\n",
       "}\n",
       "</style>\n"
      ],
      "text/plain": [
       "<IPython.core.display.HTML object>"
      ]
     },
     "metadata": {},
     "output_type": "display_data"
    },
    {
     "data": {
      "application/javascript": [
       "require.undef('tree');\n",
       "\n",
       "define('tree', ['d3'], (d3) => {\n",
       "    const draw = (container, data, positions, width, height) => {\n",
       "        width = width || 600;\n",
       "        height = height || 200;\n",
       "        const svg = d3.select(container)\n",
       "                      .append('svg')\n",
       "                      .attr('width', width)\n",
       "                      .attr('height', height)\n",
       "                      .append('g');\n",
       "        \n",
       "        /*\n",
       "         * Script here taken and modified from\n",
       "         * https://gist.github.com/strawstack/bd339d1b304a6bf02d68bfdc80e1f2d1\n",
       "         * \n",
       "         * Accompying blog post:\n",
       "         * https://regularmemory.blog/post/draggable-network-graph-with-d3js/\n",
       "         */\n",
       "        const RADIUS = 20;\n",
       "        const randomLoc = () => RADIUS + (width - 2*RADIUS) * Math.random();\n",
       "\n",
       "        // Object to hold nodes and edges\n",
       "        let graph = {\"nodes\": {}, \"edges\": []};\n",
       "\n",
       "        // For each edge from graph.json\n",
       "        // create an object with a source and target\n",
       "        graph.edges = data.map( edge => { \n",
       "            return {\n",
       "                source: edge[0],\n",
       "                target: edge[1]\n",
       "        }});\n",
       "\n",
       "        // Create flat (1-dimensional) array from the list of edges\n",
       "        let nodes = data.flat();\n",
       "        // Remove duplicates from the list of vertices\n",
       "        nodes = [...new Set(nodes)];\n",
       "\n",
       "        // Create dictionary where each node will map to its properties\n",
       "        for (node of nodes) {\n",
       "            // Assign random coordinates to each vertex if not given in\n",
       "            // positions object\n",
       "            const location = (positions && positions[node]) || [randomLoc(), randomLoc()];\n",
       "            graph.nodes[node] = {\n",
       "                label: node,\n",
       "                x: location[0],\n",
       "                y: location[1]\n",
       "            };\n",
       "        }\n",
       "\n",
       "        // Add node refs to each link\n",
       "        graph.edges.forEach(d => {\n",
       "            d.source = graph.nodes[d.source];\n",
       "            d.target = graph.nodes[d.target];\n",
       "        });\n",
       "        \n",
       "        svg.append('defs').append('marker')\n",
       "    .attr(\"id\",'arrowhead')\n",
       "    .attr('viewBox','-0 -5 10 10') //the bound of the SVG viewport for the current SVG fragment. defines a coordinate system 10 wide and 10 high starting on (0,-5)\n",
       "     .attr('refX',23) // x coordinate for the reference point of the marker. If circle is bigger, this need to be bigger.\n",
       "     .attr('refY',0)\n",
       "     .attr('orient','auto')\n",
       "        .attr('markerWidth',13)\n",
       "        .attr('markerHeight',13)\n",
       "        .attr('xoverflow','visible')\n",
       "    .append('svg:path')\n",
       "    .attr('d', 'M 0,-5 L 10 ,0 L 0,5')\n",
       "    .attr('fill', '#999')\n",
       "    .style('stroke','none');\n",
       "\n",
       "        //console.log(graph);\n",
       "\n",
       "        var edge = svg.selectAll(\".edge\")\n",
       "            .data(graph.edges)\n",
       "            .enter().append(\"line\")\n",
       "            .attr(\"class\", \"edge\")\n",
       "            .attr(\"x1\", d => d.source.x)\n",
       "            .attr(\"y1\", d => d.source.y)\n",
       "            .attr(\"x2\", d => d.target.x)\n",
       "            .attr(\"y2\", d => d.target.y)\n",
       "            .attr('marker-end','url(#arrowhead)');\n",
       "\n",
       "        var node = svg.selectAll(\"node\")\n",
       "            .data(Object.values(graph.nodes))\n",
       "            .enter().append(\"g\")\n",
       "            .attr(\"class\", \"node\");\n",
       "\n",
       "        node.append(\"circle\")\n",
       "            .attr(\"r\", 20)\n",
       "            .attr(\"cx\", d => d.x)\n",
       "            .attr(\"cy\", d => d.y)\n",
       "            .call(d3.drag().on(\"drag\", dragged));\n",
       "\n",
       "        node.append(\"text\")\n",
       "            .attr(\"dx\", d => d.x)\n",
       "            .attr(\"dy\", d => d.y)\n",
       "            .attr(\"text-anchor\", \"middle\")\n",
       "            .attr(\"dominant-baseline\", \"central\")\n",
       "            .attr(\"pointer-events\", \"none\")\n",
       "            .text(d => d.label);\n",
       "\n",
       "        function dragged(d) {\n",
       "            d.x = d3.event.x, d.y = d3.event.y;\n",
       "            d3.select(this).attr(\"cx\", d.x).attr(\"cy\", d.y);\n",
       "            d3.select(this.parentNode).select(\"text\").attr(\"dx\", d.x).attr(\"dy\", d.y);\n",
       "            edge.filter(function(l) { return l.source === d; }).attr(\"x1\", d.x).attr(\"y1\", d.y);\n",
       "            edge.filter(function(l) { return l.target === d; }).attr(\"x2\", d.x).attr(\"y2\", d.y);\n",
       "        }\n",
       "\n",
       "\n",
       "    }\n",
       "    return draw;\n",
       "});\n",
       "\n",
       "element.append('<small>&#x25C9; &#x25CB; &#x25EF; Loaded tree.js &#x25CC; &#x25CE; &#x25CF;</small>');"
      ],
      "text/plain": [
       "<IPython.core.display.Javascript object>"
      ]
     },
     "metadata": {},
     "output_type": "display_data"
    }
   ],
   "source": [
    "import pandas as pd\n",
    "import numpy as np\n",
    "import matplotlib.pyplot as plt\n",
    "import seaborn as sns\n",
    "\n",
    "from sklearn.linear_model import LinearRegression, Ridge\n",
    "from sklearn.ensemble import RandomForestRegressor\n",
    "\n",
    "%matplotlib inline\n",
    "\n",
    "from dag import draw_dag"
   ]
  },
  {
   "cell_type": "code",
   "execution_count": 5,
   "metadata": {
    "ExecuteTime": {
     "end_time": "2020-05-02T01:54:25.750616Z",
     "start_time": "2020-05-02T01:54:25.746697Z"
    }
   },
   "outputs": [
    {
     "data": {
      "application/javascript": [
       "\n",
       "        (function(element){\n",
       "            require(['tree'], function(tree) {\n",
       "                tree(element.get(0), [[\"Treatment\", \"r\"], [\"Corrections\", \"Treatment\"], [\"score\", \"Treatment\"], [\"ActualFactors\", \"score\"], [\"ActualFactors\", \"r\"]], {}, 600, 400);\n",
       "            });\n",
       "        })(element);\n",
       "    "
      ],
      "text/plain": [
       "<IPython.core.display.Javascript object>"
      ]
     },
     "metadata": {},
     "output_type": "display_data"
    }
   ],
   "source": [
    "draw_dag({\n",
    "    'Treatment' : ['r'],\n",
    "    'Corrections': ['Treatment'],\n",
    "    'score' : ['Treatment'],\n",
    "    'ActualFactors': ['score', 'r']\n",
    "})"
   ]
  },
  {
   "cell_type": "code",
   "execution_count": null,
   "metadata": {},
   "outputs": [],
   "source": []
  },
  {
   "cell_type": "code",
   "execution_count": null,
   "metadata": {},
   "outputs": [],
   "source": []
  },
  {
   "cell_type": "code",
   "execution_count": null,
   "metadata": {},
   "outputs": [],
   "source": []
  },
  {
   "cell_type": "markdown",
   "metadata": {},
   "source": [
    "# Chapter 3: Dealing with interventions\n",
    "\n",
    "The reference material is [here](http://bayes.cs.ucla.edu/PRIMER/primer-ch3.pdf)\n",
    "\n",
    "In the [chapter 2 material](./chapter2.ipynb), we started covering the adjustment formula. The simplest example is the idea of a confounder:"
   ]
  },
  {
   "cell_type": "code",
   "execution_count": 6,
   "metadata": {
    "ExecuteTime": {
     "end_time": "2020-05-02T02:30:15.453313Z",
     "start_time": "2020-05-02T02:30:15.414371Z"
    }
   },
   "outputs": [
    {
     "data": {
      "application/javascript": [
       "\n",
       "        (function(element){\n",
       "            require(['tree'], function(tree) {\n",
       "                tree(element.get(0), [[\"Temp\", \"icecream\"], [\"Temp\", \"sharks\"]], {\"Temp\": [300, 100], \"icecream\": [100, 250], \"sharks\": [500, 250]}, 600, 400);\n",
       "            });\n",
       "        })(element);\n",
       "    "
      ],
      "text/plain": [
       "<IPython.core.display.Javascript object>"
      ]
     },
     "metadata": {},
     "output_type": "display_data"
    }
   ],
   "source": [
    "draw_dag({'Temp': ['icecream', 'sharks']}, \n",
    "         positions={'Temp': [300, 100], 'icecream': [100,250], 'sharks':[500,250]})"
   ]
  },
  {
   "cell_type": "markdown",
   "metadata": {},
   "source": [
    "There is no causal effect between icecream and sharks, but the confounding effect of temperature on each makes it seem like there is.\n",
    "\n",
    "This model makes the _testable_ implication that \n",
    "$$P(\\text{sharks}|\\text{Temp, icecream}) = P(\\text{sharks}|\\text{Temp})$$\n",
    "i.e. that knowing about ice-cream, _if you know about temperature_ , doesn't help.\n",
    "\n",
    "### Showing dependence of ice-cream and sharks (and conditional independence)"
   ]
  },
  {
   "cell_type": "code",
   "execution_count": 7,
   "metadata": {
    "ExecuteTime": {
     "end_time": "2020-05-02T02:30:54.078786Z",
     "start_time": "2020-05-02T02:30:54.057175Z"
    }
   },
   "outputs": [],
   "source": [
    "N = 50000\n",
    "T = np.random.uniform(low=60, high=100, size=N)\n",
    "ice_cream_sales = np.random.normal(loc=T**2, scale=20, size=N)\n",
    "shark_attacks = np.random.poisson(lam=np.sqrt(T)/5, size=N)"
   ]
  },
  {
   "cell_type": "code",
   "execution_count": 8,
   "metadata": {
    "ExecuteTime": {
     "end_time": "2020-05-02T02:30:55.156429Z",
     "start_time": "2020-05-02T02:30:55.115219Z"
    }
   },
   "outputs": [
    {
     "data": {
      "text/plain": [
       "array([[1.        , 0.09818199],\n",
       "       [0.09818199, 1.        ]])"
      ]
     },
     "execution_count": 8,
     "metadata": {},
     "output_type": "execute_result"
    }
   ],
   "source": [
    "## There is a correlation between ice_cream sales and shark attacks:\n",
    "# Note that we used a non-linear relationship between ice_cream and shark attacks\n",
    "np.corrcoef(ice_cream_sales, shark_attacks)"
   ]
  },
  {
   "cell_type": "code",
   "execution_count": 9,
   "metadata": {
    "ExecuteTime": {
     "end_time": "2020-05-02T02:31:00.976280Z",
     "start_time": "2020-05-02T02:31:00.928633Z"
    }
   },
   "outputs": [
    {
     "data": {
      "text/plain": [
       "shark_attacks\n",
       "0     6298.476296\n",
       "1     6422.078144\n",
       "2     6566.126489\n",
       "3     6685.921823\n",
       "4     6856.409677\n",
       "5     6943.933533\n",
       "6     7072.118485\n",
       "7     7399.781862\n",
       "8     7347.835181\n",
       "9     6768.787956\n",
       "10    8598.970243\n",
       "Name: ice_cream, dtype: float64"
      ]
     },
     "execution_count": 9,
     "metadata": {},
     "output_type": "execute_result"
    }
   ],
   "source": [
    "# Easier to see the effect if we group on the discrete variable\n",
    "df = pd.DataFrame({'ice_cream': ice_cream_sales, 'shark_attacks': shark_attacks, 'T': T})\n",
    "# Easier to see\n",
    "df.groupby('shark_attacks').ice_cream.mean()"
   ]
  },
  {
   "cell_type": "code",
   "execution_count": 10,
   "metadata": {
    "ExecuteTime": {
     "end_time": "2020-05-02T02:31:43.224905Z",
     "start_time": "2020-05-02T02:31:42.848498Z"
    }
   },
   "outputs": [
    {
     "data": {
      "text/plain": [
       "<matplotlib.axes._subplots.AxesSubplot at 0x11d854bb0>"
      ]
     },
     "execution_count": 10,
     "metadata": {},
     "output_type": "execute_result"
    },
    {
     "data": {
      "image/png": "[encoded data removed]",
      "text/plain": [
       "<Figure size 432x288 with 1 Axes>"
      ]
     },
     "metadata": {
      "needs_background": "light"
     },
     "output_type": "display_data"
    }
   ],
   "source": [
    "df.groupby('shark_attacks').ice_cream.mean().plot()"
   ]
  },
  {
   "cell_type": "markdown",
   "metadata": {},
   "source": [
    "Within teach temperature bin (5 degree window) the correlation coefficient is much smaller."
   ]
  },
  {
   "cell_type": "code",
   "execution_count": 11,
   "metadata": {
    "ExecuteTime": {
     "end_time": "2020-05-02T02:31:43.644570Z",
     "start_time": "2020-05-02T02:31:43.504206Z"
    }
   },
   "outputs": [
    {
     "data": {
      "text/html": [
       "<div>\n",
       "<style scoped>\n",
       "    .dataframe tbody tr th:only-of-type {\n",
       "        vertical-align: middle;\n",
       "    }\n",
       "\n",
       "    .dataframe tbody tr th {\n",
       "        vertical-align: top;\n",
       "    }\n",
       "\n",
       "    .dataframe thead th {\n",
       "        text-align: right;\n",
       "    }\n",
       "</style>\n",
       "<table border=\"1\" class=\"dataframe\">\n",
       "  <thead>\n",
       "    <tr style=\"text-align: right;\">\n",
       "      <th></th>\n",
       "      <th></th>\n",
       "      <th>ice_cream</th>\n",
       "      <th>shark_attacks</th>\n",
       "    </tr>\n",
       "    <tr>\n",
       "      <th>T_bin</th>\n",
       "      <th></th>\n",
       "      <th></th>\n",
       "      <th></th>\n",
       "    </tr>\n",
       "  </thead>\n",
       "  <tbody>\n",
       "    <tr>\n",
       "      <th rowspan=\"2\" valign=\"top\">(60, 65]</th>\n",
       "      <th>ice_cream</th>\n",
       "      <td>1.000000</td>\n",
       "      <td>0.011481</td>\n",
       "    </tr>\n",
       "    <tr>\n",
       "      <th>shark_attacks</th>\n",
       "      <td>0.011481</td>\n",
       "      <td>1.000000</td>\n",
       "    </tr>\n",
       "    <tr>\n",
       "      <th rowspan=\"2\" valign=\"top\">(65, 70]</th>\n",
       "      <th>ice_cream</th>\n",
       "      <td>1.000000</td>\n",
       "      <td>0.026043</td>\n",
       "    </tr>\n",
       "    <tr>\n",
       "      <th>shark_attacks</th>\n",
       "      <td>0.026043</td>\n",
       "      <td>1.000000</td>\n",
       "    </tr>\n",
       "    <tr>\n",
       "      <th rowspan=\"2\" valign=\"top\">(70, 75]</th>\n",
       "      <th>ice_cream</th>\n",
       "      <td>1.000000</td>\n",
       "      <td>0.014786</td>\n",
       "    </tr>\n",
       "    <tr>\n",
       "      <th>shark_attacks</th>\n",
       "      <td>0.014786</td>\n",
       "      <td>1.000000</td>\n",
       "    </tr>\n",
       "    <tr>\n",
       "      <th rowspan=\"2\" valign=\"top\">(75, 80]</th>\n",
       "      <th>ice_cream</th>\n",
       "      <td>1.000000</td>\n",
       "      <td>0.009290</td>\n",
       "    </tr>\n",
       "    <tr>\n",
       "      <th>shark_attacks</th>\n",
       "      <td>0.009290</td>\n",
       "      <td>1.000000</td>\n",
       "    </tr>\n",
       "    <tr>\n",
       "      <th rowspan=\"2\" valign=\"top\">(80, 85]</th>\n",
       "      <th>ice_cream</th>\n",
       "      <td>1.000000</td>\n",
       "      <td>0.004494</td>\n",
       "    </tr>\n",
       "    <tr>\n",
       "      <th>shark_attacks</th>\n",
       "      <td>0.004494</td>\n",
       "      <td>1.000000</td>\n",
       "    </tr>\n",
       "    <tr>\n",
       "      <th rowspan=\"2\" valign=\"top\">(85, 90]</th>\n",
       "      <th>ice_cream</th>\n",
       "      <td>1.000000</td>\n",
       "      <td>0.009031</td>\n",
       "    </tr>\n",
       "    <tr>\n",
       "      <th>shark_attacks</th>\n",
       "      <td>0.009031</td>\n",
       "      <td>1.000000</td>\n",
       "    </tr>\n",
       "    <tr>\n",
       "      <th rowspan=\"2\" valign=\"top\">(90, 95]</th>\n",
       "      <th>ice_cream</th>\n",
       "      <td>1.000000</td>\n",
       "      <td>0.004968</td>\n",
       "    </tr>\n",
       "    <tr>\n",
       "      <th>shark_attacks</th>\n",
       "      <td>0.004968</td>\n",
       "      <td>1.000000</td>\n",
       "    </tr>\n",
       "  </tbody>\n",
       "</table>\n",
       "</div>"
      ],
      "text/plain": [
       "                        ice_cream  shark_attacks\n",
       "T_bin                                           \n",
       "(60, 65] ice_cream       1.000000       0.011481\n",
       "         shark_attacks   0.011481       1.000000\n",
       "(65, 70] ice_cream       1.000000       0.026043\n",
       "         shark_attacks   0.026043       1.000000\n",
       "(70, 75] ice_cream       1.000000       0.014786\n",
       "         shark_attacks   0.014786       1.000000\n",
       "(75, 80] ice_cream       1.000000       0.009290\n",
       "         shark_attacks   0.009290       1.000000\n",
       "(80, 85] ice_cream       1.000000       0.004494\n",
       "         shark_attacks   0.004494       1.000000\n",
       "(85, 90] ice_cream       1.000000       0.009031\n",
       "         shark_attacks   0.009031       1.000000\n",
       "(90, 95] ice_cream       1.000000       0.004968\n",
       "         shark_attacks   0.004968       1.000000"
      ]
     },
     "execution_count": 11,
     "metadata": {},
     "output_type": "execute_result"
    }
   ],
   "source": [
    "df['T_bin'] = pd.cut(df['T'], bins=np.arange(60, 100, 5))\n",
    "df.groupby('T_bin').apply(lambda gp: gp[['ice_cream', 'shark_attacks']].corr())"
   ]
  },
  {
   "cell_type": "markdown",
   "metadata": {},
   "source": [
    "Let's actually introduce a statistical independence test"
   ]
  },
  {
   "cell_type": "code",
   "execution_count": 12,
   "metadata": {
    "ExecuteTime": {
     "end_time": "2020-05-02T02:31:45.701540Z",
     "start_time": "2020-05-02T02:31:45.699508Z"
    }
   },
   "outputs": [],
   "source": [
    "## do test"
   ]
  },
  {
   "cell_type": "markdown",
   "metadata": {},
   "source": [
    "## Intervention\n",
    "\n",
    "In our shark attack example above, we see that opening or closing ice-cream stores would have no effect on shark attacks -- the ice-cream information has no way of flowing back through to the shark attacks.\n",
    "\n",
    "In the previous lecture, we labeled probabilities as $P$ from the observational distribution, and $P_m$ from the modified distribution after we posed an intervention. The trick was to determine when an observational probability could be used for the modified distribution.\n",
    "\n",
    "In the example of the ice-cream and the sharks, we have \n",
    "$$P_m(S | T) = P(S | T)$$\n",
    "as however we step in and set the ice-cream level, the ice-cream has no real affect on shark attacks, so the observational probability and the probability we would have seen _if we intervened_ would be the same. However, it also tells us that\n",
    "$$P_m(S | \\text{T, ice-cream}) \\neq P(S | \\text{T, ice-cream})$$\n",
    "because before modification the two were confounded by temperature, but after modification they were not.\n",
    "\n",
    "In this particular example, the modification is trivial: our DAG asserts that ice-cream policy has nothing to do with shark attacks, and that $P(S|T)$ is the same if we intervene or not, so if we force everyone to eat ice-cream then $P(S|T)$ would be a description under the modified world of shark attacks.\n",
    "\n",
    "In the next section, we will look at more formal rules for how to block"
   ]
  },
  {
   "cell_type": "code",
   "execution_count": 15,
   "metadata": {
    "ExecuteTime": {
     "end_time": "2020-05-02T02:40:11.054745Z",
     "start_time": "2020-05-02T02:40:11.048666Z"
    }
   },
   "outputs": [
    {
     "data": {
      "application/javascript": [
       "\n",
       "        (function(element){\n",
       "            require(['tree'], function(tree) {\n",
       "                tree(element.get(0), [[\"X\", \"Y\"], [\"Z\", \"A\"], [\"Z\", \"Y\"], [\"G\", \"X\"], [\"G\", \"Z\"], [\"G\", \"Y\"], [\"H\", \"A\"], [\"H\", \"X\"]], {}, 600, 400);\n",
       "            });\n",
       "        })(element);\n",
       "    "
      ],
      "text/plain": [
       "<IPython.core.display.Javascript object>"
      ]
     },
     "metadata": {},
     "output_type": "display_data"
    }
   ],
   "source": [
    "draw_dag({'X': ['Y'],\n",
    "          'Z': ['A', 'Y'],\n",
    "          'G': ['X', 'Z', 'Y'],\n",
    "          'H': ['A', 'X']\n",
    "})\n"
   ]
  },
  {
   "cell_type": "code",
   "execution_count": null,
   "metadata": {},
   "outputs": [],
   "source": []
  },
  {
   "cell_type": "code",
   "execution_count": null,
   "metadata": {},
   "outputs": [],
   "source": []
  },
  {
   "cell_type": "markdown",
   "metadata": {},
   "source": [
    "### Blocking\n",
    "\n",
    "Let's look at the slightly more involved example. This is based off Pearl's figure 3.7, with variable names changed to avoid using $Z$."
   ]
  },
  {
   "cell_type": "code",
   "execution_count": 13,
   "metadata": {
    "ExecuteTime": {
     "end_time": "2020-05-02T02:31:46.848083Z",
     "start_time": "2020-05-02T02:31:46.841858Z"
    }
   },
   "outputs": [
    {
     "data": {
      "application/javascript": [
       "\n",
       "        (function(element){\n",
       "            require(['tree'], function(tree) {\n",
       "                tree(element.get(0), [[\"X\", \"Y\"], [\"Con1\", \"X\"], [\"Con1\", \"Con2\"], [\"Con2\", \"X\"], [\"Con2\", \"Y\"], [\"Con3\", \"Con2\"], [\"Con3\", \"Y\"]], {\"Con1\": [100, 50], \"Con2\": [300, 100], \"Con3\": [500, 50], \"X\": [200, 300], \"Y\": [400, 300]}, 600, 400);\n",
       "            });\n",
       "        })(element);\n",
       "    "
      ],
      "text/plain": [
       "<IPython.core.display.Javascript object>"
      ]
     },
     "metadata": {},
     "output_type": "display_data"
    }
   ],
   "source": [
    "positions = {'Con1': [100, 50], 'Con2': [300, 100], 'Con3': [500, 50],\n",
    "             'X': [200, 300], 'Y': [400,300]}\n",
    "\n",
    "draw_dag({'X': ['Y'], 'Con1': ['X', 'Con2'], 'Con2': ['X', 'Y'], 'Con3': ['Con2', 'Y']},\n",
    "          positions=positions)"
   ]
  },
  {
   "cell_type": "markdown",
   "metadata": {},
   "source": [
    "If we want to isolated the effect of $X$ on $Y$:\n",
    "\n",
    "1. What should we control on?\n",
    "2. How do we extract the probabilities if we force everyone to have $X = 1$ (i.e. the \"modified\" probabilities) from the observational probabilities.\n",
    "\n",
    "We can phase the answer in terms of the modified probability distribution, or the \"do\" operator."
   ]
  },
  {
   "cell_type": "markdown",
   "metadata": {},
   "source": [
    "### Modified probability distribution\n",
    "\n",
    "If we forced $X=1$ for all participants, we have $P_m(X=1|....) = 1$, which is (presumably) different from the observational probabilities. We also know that the _effects_ on $X$ from anything else have changed.\n",
    "\n",
    "Let's look at all the ways that $X$ can get information to $Y$ by listing all the paths:\n",
    "\n",
    "| Path | Is causal |\n",
    "| ---- | --------- |\n",
    "| X -- Con1 -- Con2 -- Con3 -- Y | No |\n",
    "| X -- Con1 -- Con2 -- Y | No |\n",
    "| X -- Con2 -- Con3 -- Y | No |\n",
    "| X -- Con2 -- Y | No |\n",
    "| X -- Y | Yes |\n",
    "\n",
    "Let's eliminate the last path (this is the effect we want to measure). From the remaining paths, we need to identify whether we have blocked this path in the modified graph. If we block all these dangerous paths from $X$ to $Y$, then in the modified graph, $X$ and $Y$ are $d$-separated, and we know they won't be (conditionally) dependent. \n",
    "\n",
    "i.e. Any conditional dependence we do find will be due to the paths we removed"
   ]
  },
  {
   "cell_type": "code",
   "execution_count": null,
   "metadata": {
    "ExecuteTime": {
     "end_time": "2020-05-02T01:07:51.382131Z",
     "start_time": "2020-05-02T01:07:51.373923Z"
    }
   },
   "outputs": [],
   "source": [
    "#modified DAG\n",
    "draw_dag({'X': [], 'Con1': ['X', 'Con2'], 'Con2': ['X', 'Y'], 'Con3': ['Con2', 'Y']},\n",
    "          positions=positions)"
   ]
  },
  {
   "cell_type": "markdown",
   "metadata": {},
   "source": [
    "#### Analysis 1: Block nothing\n",
    "\n",
    "| Path number | Path | Is blocked | Comments\n",
    "| --- | --- | --- | --- |\n",
    "| 1. | X <- Con1 -> Con2 <- Con3 -> Y | Yes | Con2 is a (non-controlled) collider |\n",
    "| 2. | X <- Con1 -> Con2 -> Y | No | This path only contains forks (Con1) and chains. |\n",
    "| 3. | X <- Con2 <- Con3 -> Y | No | Only has chains and a fork (Con3) |\n",
    "| 4. | X <- Con2 -> Y | No | Con2 is a fork |\n",
    "\n",
    "\n",
    "Note that on some paths `Con2` is a collider, on others it is part of a chain, and others it is part of a fork. Technically, nodes are not colliders/chains/forks, but components of _paths_ are.\n",
    "\n",
    "We also see that path 4 requires that we block `Con2`.\n",
    "\n",
    "#### Analysis 2: Only block Con2\n",
    "\n",
    "| Path number | Path | Is blocked | Comments\n",
    "| --- | --- | --- | --- |\n",
    "| 1. | X <- Con1 -> Con2 <- Con3 -> Y | No | Con2 is a controlled collider |\n",
    "| 2. | X <- Con1 -> Con2 -> Y | Yes | Controlling Con2 blocks info at Con2 |\n",
    "| 3. | X <- Con2 <- Con3 -> Y | Yes | Controlling Con2 blocks into at Con2 |\n",
    "| 4. | X <- Con2 -> Y | Yes | Controlling Con2 blocks info at Con2 |\n",
    "\n",
    "The only ways of blocking path 1 (given that Con2 must be controlled) is to also control at least one of Con1 and Con3.\n",
    "\n",
    "#### Which probabilities are the same?\n",
    "\n",
    "If we control for Con2 and Con3, then $X$ and $Y$ are $d$-separated along all the non-causal paths. Then we have\n",
    "\n",
    "$$P_m(Y|\\text{X, Con2, Con3}) = P(Y|\\text{X, Con2, Con3})$$\n",
    "\n",
    "However, if $X$ is downstream, we generally don't have equality. For example\n",
    "$$P_m(Y|\\text{Con1}) \\neq P(Y| \\text{Con1})$$\n",
    "because in the original DAG there is Con1 -> X -> Y, and intervening and changing $X$ manually is going to make this path look different than the one we observed.\n",
    "\n",
    "**The (simplied) backdoor criterion**\n",
    "\n",
    "Suppose we are intervening on a single node $X$, and the probabilities we would get post-intervention are $P_m$. $Y$ is any other node, and $Z$ is a set of nodes. We have\n",
    "$$P_m(Y | \\text{X, Z}) = P(Y|\\text{X, Z})$$\n",
    "whenever $X$ and $Y$ are $d$-separated controlling for $Z$ in that graph that has all paths from $X$ deleted."
   ]
  },
  {
   "cell_type": "code",
   "execution_count": null,
   "metadata": {
    "ExecuteTime": {
     "end_time": "2020-05-02T01:07:51.401985Z",
     "start_time": "2020-05-02T01:07:51.385317Z"
    }
   },
   "outputs": [],
   "source": [
    "N = 500\n",
    "con1 = np.random.normal(size=N)\n",
    "con3 = np.random.normal(size=N)\n",
    "con2 = 2*con1 - con3\n",
    "X = 3*con1 + 2*con2 + 0.3*np.random.normal(size=N)\n",
    "Y = 3*X + 1.5*con2 - 0.8*con3 + 0.5*np.random.normal(size=N)\n",
    "\n",
    "df = pd.DataFrame({'X': X, 'con1': con1, 'con2': con2, 'con3': con3, 'Y': Y})\n",
    "df.head()"
   ]
  },
  {
   "cell_type": "code",
   "execution_count": null,
   "metadata": {
    "ExecuteTime": {
     "end_time": "2020-05-02T01:07:51.444732Z",
     "start_time": "2020-05-02T01:07:51.404156Z"
    }
   },
   "outputs": [],
   "source": [
    "# Show that controlling for nothing does not work:\n",
    "# We want to find the coefficient of $X$ being 3\n",
    "lr = LinearRegression().fit(df[['X']], df.Y)\n",
    "lr.coef_"
   ]
  },
  {
   "cell_type": "code",
   "execution_count": null,
   "metadata": {
    "ExecuteTime": {
     "end_time": "2020-05-02T01:07:51.464700Z",
     "start_time": "2020-05-02T01:07:51.447223Z"
    }
   },
   "outputs": [],
   "source": [
    "# Show that controlling for con2 and con3 allows correct identification\n",
    "# of the coefficient\n",
    "lr = LinearRegression().fit(df[['X', 'con2', 'con3']], df.Y)\n",
    "lr.coef_"
   ]
  },
  {
   "cell_type": "code",
   "execution_count": null,
   "metadata": {
    "ExecuteTime": {
     "end_time": "2020-05-02T01:07:51.484343Z",
     "start_time": "2020-05-02T01:07:51.466716Z"
    }
   },
   "outputs": [],
   "source": [
    "## Now let's look at intervention\n",
    "## We will change X --> 1\n",
    "## and we will change Y --> Y_old - 3*X_old + 3\n",
    "## i.e. keeping the same random draws etc that we had\n",
    "\n",
    "df_modified = df.copy()\n",
    "df_modified['Y'] = df_modified.Y - 3*df_modified.X + 3\n",
    "df_modified['X'] = 1"
   ]
  },
  {
   "cell_type": "code",
   "execution_count": null,
   "metadata": {
    "ExecuteTime": {
     "end_time": "2020-05-02T01:07:51.498496Z",
     "start_time": "2020-05-02T01:07:51.485935Z"
    }
   },
   "outputs": [],
   "source": [
    "## **IF** P_m(Y|Con2, Con3) = P(Y|Con2, Con3) means that\n",
    "## Y ~ Con2 + Con3 \n",
    "## should have the same coefs in both dataframes\n",
    "\n",
    "lr_orig = LinearRegression().fit(df[['con2', 'con3']], df.Y)\n",
    "lr_modified = LinearRegression().fit(df_modified[['con2', 'con3']], df_modified.Y)\n",
    "\n",
    "print(lr_orig.coef_, lr_modified.coef_)"
   ]
  },
  {
   "cell_type": "markdown",
   "metadata": {},
   "source": [
    "Note that this does not work! We don't expect it to, based off the backdoor criteria. When whenever control for something, we implicitly \n"
   ]
  },
  {
   "cell_type": "code",
   "execution_count": null,
   "metadata": {},
   "outputs": [],
   "source": []
  },
  {
   "cell_type": "markdown",
   "metadata": {},
   "source": [
    "## DAG class"
   ]
  },
  {
   "cell_type": "code",
   "execution_count": null,
   "metadata": {},
   "outputs": [],
   "source": []
  }
 ],
 "metadata": {
  "kernelspec": {
   "display_name": "causal",
   "language": "python",
   "name": "causal"
  },
  "varInspector": {
   "cols": {
    "lenName": 16,
    "lenType": 16,
    "lenVar": 40
   },
   "kernels_config": {
    "python": {
     "delete_cmd_postfix": "",
     "delete_cmd_prefix": "del ",
     "library": "var_list.py",
     "varRefreshCmd": "print(var_dic_list())"
    },
    "r": {
     "delete_cmd_postfix": ") ",
     "delete_cmd_prefix": "rm(",
     "library": "var_list.r",
     "varRefreshCmd": "cat(var_dic_list()) "
    }
   },
   "types_to_exclude": [
    "module",
    "function",
    "builtin_function_or_method",
    "instance",
    "_Feature"
   ],
   "window_display": false
  }
 },
 "nbformat": 4,
 "nbformat_minor": 4
}
