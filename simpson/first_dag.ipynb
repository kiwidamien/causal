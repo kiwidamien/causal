{
 "cells": [
  {
   "cell_type": "code",
   "execution_count": 1,
   "metadata": {
    "ExecuteTime": {
     "end_time": "2020-04-13T07:17:12.037040Z",
     "start_time": "2020-04-13T07:17:12.028803Z"
    }
   },
   "outputs": [
    {
     "data": {
      "application/javascript": [
       "require.config({\n",
       "    paths: { \n",
       "        d3: 'https://d3js.org/d3.v5.min'\n",
       "    }\n",
       "});\n"
      ],
      "text/plain": [
       "<IPython.core.display.Javascript object>"
      ]
     },
     "metadata": {},
     "output_type": "display_data"
    }
   ],
   "source": [
    "%%javascript\n",
    "require.config({\n",
    "    paths: { \n",
    "        d3: 'https://d3js.org/d3.v5.min'\n",
    "    }\n",
    "});"
   ]
  },
  {
   "cell_type": "code",
   "execution_count": 2,
   "metadata": {
    "ExecuteTime": {
     "end_time": "2020-04-13T07:17:12.043579Z",
     "start_time": "2020-04-13T07:17:12.038458Z"
    }
   },
   "outputs": [
    {
     "data": {
      "text/html": [
       "<style>\n",
       "\n",
       "svg {\n",
       "    width: 100vw;\n",
       "    height: 100vh;\n",
       "}\n",
       "\n",
       ".edge {\n",
       "    stroke: #555;\n",
       "}\n",
       "\n",
       ".node>text {\n",
       "    stroke: #333;\n",
       "}\n",
       "\n",
       ".node>circle {\n",
       "    stroke: #555;\n",
       "    stroke-width: 3px;\n",
       "    fill: white;\n",
       "    cursor: pointer;\n",
       "}\n",
       "</style>\n"
      ],
      "text/plain": [
       "<IPython.core.display.HTML object>"
      ]
     },
     "metadata": {},
     "output_type": "display_data"
    },
    {
     "data": {
      "application/javascript": [
       "require.undef('tree');\n",
       "\n",
       "define('tree', ['d3'], (d3) => {\n",
       "    const draw = (container, data, width, height) => {\n",
       "        width = width || 600;\n",
       "        height = height || 200;\n",
       "         console.log('tree called');\n",
       "        const svg = d3.select(container)\n",
       "                      .append('svg')\n",
       "                      .attr('width', width)\n",
       "                      .attr('height', height)\n",
       "                      .append('g');\n",
       "        \n",
       "        /*\n",
       "         * Script here taken and modified from\n",
       "         * https://gist.github.com/strawstack/bd339d1b304a6bf02d68bfdc80e1f2d1\n",
       "         * \n",
       "         * Accompying blog post:\n",
       "         * https://regularmemory.blog/post/draggable-network-graph-with-d3js/\n",
       "         */\n",
       "\n",
       "        // Object to hold nodes and edges\n",
       "        let graph = {\"nodes\": {}, \"edges\": []};\n",
       "\n",
       "        // For each edge from graph.json\n",
       "        // create an object with a source and target\n",
       "        data.forEach(edge => graph.edges.push({\n",
       "            \"source\": edge[0],\n",
       "            \"target\": edge[1]\n",
       "        }));\n",
       "\n",
       "        // Create flat (1-dimensional) array from the list of edges\n",
       "        let nodes = data.flat();\n",
       "        // Remove duplicates from the list of vertices\n",
       "        nodes = [...new Set(nodes)];\n",
       "\n",
       "        // Create dictionary where each node will map to its properties\n",
       "        for (node of nodes) {\n",
       "            graph.nodes[node] = {\n",
       "                \"label\": node,\n",
       "                // Assign random coordinates to each vertex\n",
       "                \"x\": Math.random() * 500 + 100,\n",
       "                \"y\": Math.random() * 500 + 100\n",
       "            };\n",
       "        }\n",
       "\n",
       "        // Add node refs to each link\n",
       "        graph.edges.forEach(d => {\n",
       "            d.source = graph.nodes[d.source];\n",
       "            d.target = graph.nodes[d.target];\n",
       "        });\n",
       "        \n",
       "        svg.append('defs').append('marker')\n",
       "    .attr(\"id\",'arrowhead')\n",
       "    .attr('viewBox','-0 -5 10 10') //the bound of the SVG viewport for the current SVG fragment. defines a coordinate system 10 wide and 10 high starting on (0,-5)\n",
       "     .attr('refX',23) // x coordinate for the reference point of the marker. If circle is bigger, this need to be bigger.\n",
       "     .attr('refY',0)\n",
       "     .attr('orient','auto')\n",
       "        .attr('markerWidth',13)\n",
       "        .attr('markerHeight',13)\n",
       "        .attr('xoverflow','visible')\n",
       "    .append('svg:path')\n",
       "    .attr('d', 'M 0,-5 L 10 ,0 L 0,5')\n",
       "    .attr('fill', '#999')\n",
       "    .style('stroke','none');\n",
       "\n",
       "        //console.log(graph);\n",
       "\n",
       "        var edge = svg.selectAll(\".edge\")\n",
       "            .data(graph.edges)\n",
       "            .enter().append(\"line\")\n",
       "            .attr(\"class\", \"edge\")\n",
       "            .attr(\"x1\", d => d.source.x)\n",
       "            .attr(\"y1\", d => d.source.y)\n",
       "            .attr(\"x2\", d => d.target.x)\n",
       "            .attr(\"y2\", d => d.target.y)\n",
       "            .attr('marker-end','url(#arrowhead)');\n",
       "\n",
       "        var node = svg.selectAll(\"node\")\n",
       "            .data(Object.values(graph.nodes))\n",
       "            .enter().append(\"g\")\n",
       "            .attr(\"class\", \"node\");\n",
       "\n",
       "        node.append(\"circle\")\n",
       "            .attr(\"r\", 20)\n",
       "            .attr(\"cx\", d => d.x)\n",
       "            .attr(\"cy\", d => d.y)\n",
       "            .call(d3.drag().on(\"drag\", dragged));\n",
       "\n",
       "        node.append(\"text\")\n",
       "            .attr(\"dx\", d => d.x)\n",
       "            .attr(\"dy\", d => d.y)\n",
       "            .attr(\"text-anchor\", \"middle\")\n",
       "            .attr(\"dominant-baseline\", \"central\")\n",
       "            .attr(\"pointer-events\", \"none\")\n",
       "            .text(d => d.label);\n",
       "\n",
       "        function dragged(d) {\n",
       "            d.x = d3.event.x, d.y = d3.event.y;\n",
       "            d3.select(this).attr(\"cx\", d.x).attr(\"cy\", d.y);\n",
       "            d3.select(this.parentNode).select(\"text\").attr(\"dx\", d.x).attr(\"dy\", d.y);\n",
       "            edge.filter(function(l) { return l.source === d; }).attr(\"x1\", d.x).attr(\"y1\", d.y);\n",
       "            edge.filter(function(l) { return l.target === d; }).attr(\"x2\", d.x).attr(\"y2\", d.y);\n",
       "        }\n",
       "\n",
       "\n",
       "    }\n",
       "    return draw;\n",
       "});\n",
       "\n",
       "element.append('<small>&#x25C9; &#x25CB; &#x25EF; Loaded tree.js &#x25CC; &#x25CE; &#x25CF;</small>');"
      ],
      "text/plain": [
       "<IPython.core.display.Javascript object>"
      ]
     },
     "metadata": {},
     "output_type": "display_data"
    }
   ],
   "source": [
    "from IPython.display import display, Javascript, HTML\n",
    "import json\n",
    "\n",
    "# This is needed to load d3\n",
    "display(HTML(filename='tree.css.html'));\n",
    "display(Javascript(filename=\"tree.js\"))"
   ]
  },
  {
   "cell_type": "code",
   "execution_count": 3,
   "metadata": {
    "ExecuteTime": {
     "end_time": "2020-04-13T07:17:12.049453Z",
     "start_time": "2020-04-13T07:17:12.044790Z"
    }
   },
   "outputs": [],
   "source": [
    "def draw_network(data, width=600, height=400):\n",
    "    \"\"\"Uses D3 to draw a graph\n",
    "    \n",
    "    Parameters:\n",
    "    data: List of Lists\n",
    "          Each list contains links of the form [parent_node_label, child_node_label]\n",
    "          \n",
    "    Is unable to draw nodes not connected to any other edges\n",
    "    \"\"\"\n",
    "    display(Javascript(\"\"\"\n",
    "        (function(element){\n",
    "            require(['tree'], function(tree) {\n",
    "                tree(element.get(0), %s, %d, %d);\n",
    "            });\n",
    "        })(element);\n",
    "    \"\"\" % (json.dumps(data), width, height)))\n",
    "    \n",
    "\n",
    "def draw_dag(parents_to_children, width=600, height=400):\n",
    "    \"\"\"Draws a DAG\n",
    "    \n",
    "    Parameters:\n",
    "    parents_to_children: Dictionary\n",
    "                         Keys are nodes, values are a list of children\n",
    "    \"\"\"\n",
    "    network_data = []\n",
    "    for parent, children in parents_to_children.items():\n",
    "        links = [[parent, child] for child in children]\n",
    "        network_data.extend(links)\n",
    "    draw_network(network_data, width, height)"
   ]
  },
  {
   "cell_type": "code",
   "execution_count": 4,
   "metadata": {
    "ExecuteTime": {
     "end_time": "2020-04-13T07:17:12.053628Z",
     "start_time": "2020-04-13T07:17:12.050681Z"
    }
   },
   "outputs": [
    {
     "data": {
      "application/javascript": [
       "\n",
       "        (function(element){\n",
       "            require(['tree'], function(tree) {\n",
       "                tree(element.get(0), [[\"A\", \"B\"], [\"A\", \"C\"], [\"C\", \"D\"], [\"C\", \"E\"]], 600, 400);\n",
       "            });\n",
       "        })(element);\n",
       "    "
      ],
      "text/plain": [
       "<IPython.core.display.Javascript object>"
      ]
     },
     "metadata": {},
     "output_type": "display_data"
    }
   ],
   "source": [
    "# Example of usage\n",
    "draw_dag({'A': ['B', 'C'], \n",
    "          'B': [], \n",
    "          'C': ['D', 'E'], \n",
    "          'D': [], \n",
    "          'E': []})"
   ]
  },
  {
   "cell_type": "markdown",
   "metadata": {},
   "source": [
    "## Start causal inference / data science imports"
   ]
  },
  {
   "cell_type": "code",
   "execution_count": 5,
   "metadata": {
    "ExecuteTime": {
     "end_time": "2020-04-13T07:17:13.365172Z",
     "start_time": "2020-04-13T07:17:12.054644Z"
    }
   },
   "outputs": [],
   "source": [
    "import numpy as np\n",
    "import pandas as pd\n",
    "import matplotlib.pyplot as plt\n",
    "import seaborn as sns\n",
    "\n",
    "from sklearn.linear_model import LinearRegression\n",
    "\n",
    "%matplotlib inline"
   ]
  },
  {
   "cell_type": "markdown",
   "metadata": {},
   "source": [
    "Let's look at an example from daggity's [Learn Simpson's Rule](http://dagitty.net/learn/simpson/) example. \n",
    "\n",
    "This is the machine they have with 2 levels. By convention:\n",
    "- `X` is the \"treatment\". This is the thing we are looking to directly change and intervene on.\n",
    "- `Y` is the \"effect\"\n",
    "- `Z{\\d}` are features of our model that we have measured\n",
    "- `U` are unknown quantities, so we cannot control for them\n",
    "\n",
    "Information only flows along the arrows. If we know what the value of a variable is, we don't care _how_ it got that value.\n",
    "\n",
    "The DAG will generate randomly, it is probably clearest if you organize it as \n",
    "```\n",
    "      Z1 \n",
    "\n",
    "U     Z2     Z3\n",
    "\n",
    "      Z4     Z5\n",
    "\n",
    "X             Y\n",
    "```\n",
    "to see what the arrows are doing"
   ]
  },
  {
   "cell_type": "code",
   "execution_count": 6,
   "metadata": {
    "ExecuteTime": {
     "end_time": "2020-04-13T07:17:13.372983Z",
     "start_time": "2020-04-13T07:17:13.366688Z"
    }
   },
   "outputs": [
    {
     "data": {
      "application/javascript": [
       "\n",
       "        (function(element){\n",
       "            require(['tree'], function(tree) {\n",
       "                tree(element.get(0), [[\"Z1\", \"Z3\"], [\"Z1\", \"U\"], [\"Z3\", \"Z5\"], [\"Z3\", \"Z2\"], [\"Z5\", \"Z4\"], [\"Z5\", \"Y\"], [\"U\", \"Z4\"], [\"U\", \"X\"], [\"U\", \"Z2\"], [\"X\", \"Y\"]], 600, 400);\n",
       "            });\n",
       "        })(element);\n",
       "    "
      ],
      "text/plain": [
       "<IPython.core.display.Javascript object>"
      ]
     },
     "metadata": {},
     "output_type": "display_data"
    }
   ],
   "source": [
    "draw_dag({\n",
    "    'Z1': ['Z3', 'U'],\n",
    "    'Z3': ['Z5', 'Z2'],\n",
    "    'Z5': ['Z4', 'Y'],\n",
    "    'U': ['Z4', 'X', 'Z2'],\n",
    "    'Z4': [],\n",
    "    'Z2': [],\n",
    "    'X': ['Y'],\n",
    "    'Y': []})"
   ]
  },
  {
   "cell_type": "markdown",
   "metadata": {},
   "source": [
    "We see the only arrow _from_ X is to _Y_. This is the _direct effect_ of X on Y (which is what we will try and measure). We are going to simulate this as \n",
    "$$\\Delta Y = 2 \\Delta X$$\n",
    "in our data generation code below.\n",
    "\n",
    "Note that if `X` gets large because of random variation, or because we intervene and make it large, then Y will be affected by  twice the change in X.\n",
    "\n",
    "If `X` gets large because `U` is large (and `U` affects `X`), then `Y` will change in some other way, because `U` will also change the different values of `Z*`.\n",
    "\n",
    "In some DAGs there will be an _indirect_ effect of X on Y, where X affects something that affects something that .... that affects something that affects Y. In this case, there are no indirect effects of `X` on `Y`\n",
    "\n",
    "In this DAG:\n",
    "| Node | Direct Effect on Y | Indirect Effect on Y |\n",
    "| --- | --- | --- |\n",
    "| X | Yes | No |\n",
    "| Z1 | No | Yes |\n",
    "| Z2 | No | No |\n",
    "| Z3 | No | Yes |\n",
    "| Z4 | No | No |\n",
    "| Z5 | Yes | No |\n",
    "| U | No | Yes |\n",
    "\n",
    "It is possible to have a DAG where a node has a direct effect _and_ an indirect effect, but there are no examples in the DAG above. If there was an edge from `Z3` to `Y` in this DAG, then `Z3` would have both a direct and indirect effect.\n",
    "\n",
    "### Meaning of the labels\n",
    "\n",
    "Here is an example of a data generation process that follows this DAG. A variable can only by defined in terms of either a new randomly generated value (in this case, all normal distributions) _or_ from random variables that are it's parent.\n",
    "\n",
    "e.g. \n",
    "```\n",
    "Z5 = F(np.random.<something> , Z3)\n",
    "```\n",
    "can only happen because `Z3` is a parent of `Z5` in the DAG. We cannot have `Z5 = F(np.random.<something>, Z3, Z1)` because `Z1` is not a parent of `Z3`.\n",
    "\n",
    "**Simplification**\n",
    "\n",
    "Here we have assumed that all random number generation processes are normal, and all functions are linear. These are not necessary assumptions for causal reasoning."
   ]
  },
  {
   "cell_type": "code",
   "execution_count": 7,
   "metadata": {
    "ExecuteTime": {
     "end_time": "2020-04-13T07:17:13.381850Z",
     "start_time": "2020-04-13T07:17:13.375290Z"
    }
   },
   "outputs": [],
   "source": [
    "def simpson_three_level_data_generation(samples, stddev, direct_causal_effect):\n",
    "    Z1 = np.random.normal(scale=stddev, size=samples)\n",
    "    Z3 = np.random.normal(scale=stddev, size=samples) + Z1\n",
    "    Z5 = np.random.normal(scale=stddev, size=samples) + Z3\n",
    "    U  = np.random.normal(scale=stddev, size=samples) + Z1\n",
    "    Z4 = np.random.normal(scale=stddev, size=samples) + Z5 + U\n",
    "    Z2 = np.random.normal(scale=stddev, size=samples) + Z3 + U\n",
    "    X  = np.random.normal(scale=stddev, size=samples) + U\n",
    "    Y  = np.random.normal(scale=stddev, size=samples) + direct_causal_effect*X + 10*Z5\n",
    "    return pd.DataFrame({\n",
    "        'X': X,\n",
    "        'Z1': Z1,\n",
    "        'Z2': Z2,\n",
    "        'Z3': Z3,\n",
    "        'Z4': Z4,\n",
    "        'Z5': Z5,\n",
    "        'Y': Y})"
   ]
  },
  {
   "cell_type": "code",
   "execution_count": 8,
   "metadata": {
    "ExecuteTime": {
     "end_time": "2020-04-13T07:17:13.406190Z",
     "start_time": "2020-04-13T07:17:13.384078Z"
    }
   },
   "outputs": [
    {
     "data": {
      "text/plain": [
       "{'X': 2.0091631376790082,\n",
       " 'Z1': 0.0016256258107629543,\n",
       " 'Z2': -0.004632465092770681,\n",
       " 'Z3': 0.006305195305137504,\n",
       " 'Z4': -0.009620455253360334,\n",
       " 'Z5': 10.013350686446367}"
      ]
     },
     "execution_count": 8,
     "metadata": {},
     "output_type": "execute_result"
    }
   ],
   "source": [
    "# Example of using regression, controlling for everything\n",
    "data = simpson_three_level_data_generation(10000, 2.2, direct_causal_effect = 2)\n",
    "features = data.drop('Y', axis=1)\n",
    "target = data.Y\n",
    "\n",
    "lr = LinearRegression().fit(features, target)\n",
    "\n",
    "dict(zip(features.columns, lr.coef_))"
   ]
  },
  {
   "cell_type": "markdown",
   "metadata": {},
   "source": [
    "We haven't done too poorly detecting the causal effect between `X` and `Y` controlling for everything. Let's not control for anything:"
   ]
  },
  {
   "cell_type": "code",
   "execution_count": 9,
   "metadata": {
    "ExecuteTime": {
     "end_time": "2020-04-13T07:17:13.414441Z",
     "start_time": "2020-04-13T07:17:13.408086Z"
    }
   },
   "outputs": [
    {
     "data": {
      "text/plain": [
       "{'X': 5.297741133292554}"
      ]
     },
     "execution_count": 9,
     "metadata": {},
     "output_type": "execute_result"
    }
   ],
   "source": [
    "features = data[['X']]\n",
    "target = data.Y\n",
    "\n",
    "lr = LinearRegression().fit(features, target)\n",
    "\n",
    "dict(zip(features.columns, lr.coef_))"
   ]
  },
  {
   "cell_type": "markdown",
   "metadata": {},
   "source": [
    "It maybe isn't surprising that controlling for nothing leaves all the pressure on `X`. Let's try just controlling for `Z1`:"
   ]
  },
  {
   "cell_type": "code",
   "execution_count": 10,
   "metadata": {
    "ExecuteTime": {
     "end_time": "2020-04-13T07:17:13.425744Z",
     "start_time": "2020-04-13T07:17:13.415807Z"
    }
   },
   "outputs": [
    {
     "data": {
      "text/plain": [
       "{'X': 1.9805796621256535, 'Z1': 9.883481408270647}"
      ]
     },
     "execution_count": 10,
     "metadata": {},
     "output_type": "execute_result"
    }
   ],
   "source": [
    "features = data[['X', 'Z1']]\n",
    "target = data.Y\n",
    "\n",
    "lr = LinearRegression().fit(features, target)\n",
    "\n",
    "dict(zip(features.columns, lr.coef_))"
   ]
  },
  {
   "cell_type": "markdown",
   "metadata": {},
   "source": [
    "Doing better. In fact, we can make a function to control for different subsets of variables:"
   ]
  },
  {
   "cell_type": "code",
   "execution_count": 11,
   "metadata": {
    "ExecuteTime": {
     "end_time": "2020-04-13T07:17:13.431509Z",
     "start_time": "2020-04-13T07:17:13.427419Z"
    }
   },
   "outputs": [],
   "source": [
    "def get_coefficients(df, feature_names=None, target_name='Y'):\n",
    "    if feature_names is None:\n",
    "        feature_names = [col for col in df.columns if col != target_name]\n",
    "    features = df[feature_names]\n",
    "    target = df[target_name]\n",
    "    lr = LinearRegression().fit(features, target)\n",
    "    coef = dict(zip(feature_names, lr.coef_))\n",
    "    return pd.Series(coef).to_frame().T\n",
    "        "
   ]
  },
  {
   "cell_type": "markdown",
   "metadata": {
    "ExecuteTime": {
     "end_time": "2020-04-13T06:23:46.099532Z",
     "start_time": "2020-04-13T06:23:46.095514Z"
    }
   },
   "source": [
    "Redoing the previous calculations, and recall that by construction the causal effect of `X` on `Y` is 2:"
   ]
  },
  {
   "cell_type": "code",
   "execution_count": 12,
   "metadata": {
    "ExecuteTime": {
     "end_time": "2020-04-13T07:17:13.448241Z",
     "start_time": "2020-04-13T07:17:13.433120Z"
    }
   },
   "outputs": [
    {
     "data": {
      "text/html": [
       "<div>\n",
       "<style scoped>\n",
       "    .dataframe tbody tr th:only-of-type {\n",
       "        vertical-align: middle;\n",
       "    }\n",
       "\n",
       "    .dataframe tbody tr th {\n",
       "        vertical-align: top;\n",
       "    }\n",
       "\n",
       "    .dataframe thead th {\n",
       "        text-align: right;\n",
       "    }\n",
       "</style>\n",
       "<table border=\"1\" class=\"dataframe\">\n",
       "  <thead>\n",
       "    <tr style=\"text-align: right;\">\n",
       "      <th></th>\n",
       "      <th>X</th>\n",
       "      <th>Z1</th>\n",
       "      <th>Z2</th>\n",
       "      <th>Z3</th>\n",
       "      <th>Z4</th>\n",
       "      <th>Z5</th>\n",
       "    </tr>\n",
       "  </thead>\n",
       "  <tbody>\n",
       "    <tr>\n",
       "      <th>0</th>\n",
       "      <td>2.009163</td>\n",
       "      <td>0.001626</td>\n",
       "      <td>-0.004632</td>\n",
       "      <td>0.006305</td>\n",
       "      <td>-0.00962</td>\n",
       "      <td>10.013351</td>\n",
       "    </tr>\n",
       "  </tbody>\n",
       "</table>\n",
       "</div>"
      ],
      "text/plain": [
       "          X        Z1        Z2        Z3       Z4         Z5\n",
       "0  2.009163  0.001626 -0.004632  0.006305 -0.00962  10.013351"
      ]
     },
     "execution_count": 12,
     "metadata": {},
     "output_type": "execute_result"
    }
   ],
   "source": [
    "get_coefficients(data)"
   ]
  },
  {
   "cell_type": "code",
   "execution_count": 13,
   "metadata": {
    "ExecuteTime": {
     "end_time": "2020-04-13T07:17:13.459590Z",
     "start_time": "2020-04-13T07:17:13.449471Z"
    }
   },
   "outputs": [
    {
     "data": {
      "text/html": [
       "<div>\n",
       "<style scoped>\n",
       "    .dataframe tbody tr th:only-of-type {\n",
       "        vertical-align: middle;\n",
       "    }\n",
       "\n",
       "    .dataframe tbody tr th {\n",
       "        vertical-align: top;\n",
       "    }\n",
       "\n",
       "    .dataframe thead th {\n",
       "        text-align: right;\n",
       "    }\n",
       "</style>\n",
       "<table border=\"1\" class=\"dataframe\">\n",
       "  <thead>\n",
       "    <tr style=\"text-align: right;\">\n",
       "      <th></th>\n",
       "      <th>X</th>\n",
       "    </tr>\n",
       "  </thead>\n",
       "  <tbody>\n",
       "    <tr>\n",
       "      <th>0</th>\n",
       "      <td>5.297741</td>\n",
       "    </tr>\n",
       "  </tbody>\n",
       "</table>\n",
       "</div>"
      ],
      "text/plain": [
       "          X\n",
       "0  5.297741"
      ]
     },
     "execution_count": 13,
     "metadata": {},
     "output_type": "execute_result"
    }
   ],
   "source": [
    "get_coefficients(data, ['X'])"
   ]
  },
  {
   "cell_type": "code",
   "execution_count": 14,
   "metadata": {
    "ExecuteTime": {
     "end_time": "2020-04-13T07:17:13.470334Z",
     "start_time": "2020-04-13T07:17:13.461195Z"
    }
   },
   "outputs": [
    {
     "data": {
      "text/html": [
       "<div>\n",
       "<style scoped>\n",
       "    .dataframe tbody tr th:only-of-type {\n",
       "        vertical-align: middle;\n",
       "    }\n",
       "\n",
       "    .dataframe tbody tr th {\n",
       "        vertical-align: top;\n",
       "    }\n",
       "\n",
       "    .dataframe thead th {\n",
       "        text-align: right;\n",
       "    }\n",
       "</style>\n",
       "<table border=\"1\" class=\"dataframe\">\n",
       "  <thead>\n",
       "    <tr style=\"text-align: right;\">\n",
       "      <th></th>\n",
       "      <th>X</th>\n",
       "      <th>Z1</th>\n",
       "    </tr>\n",
       "  </thead>\n",
       "  <tbody>\n",
       "    <tr>\n",
       "      <th>0</th>\n",
       "      <td>1.98058</td>\n",
       "      <td>9.883481</td>\n",
       "    </tr>\n",
       "  </tbody>\n",
       "</table>\n",
       "</div>"
      ],
      "text/plain": [
       "         X        Z1\n",
       "0  1.98058  9.883481"
      ]
     },
     "execution_count": 14,
     "metadata": {},
     "output_type": "execute_result"
    }
   ],
   "source": [
    "get_coefficients(data, ['X', 'Z1'])"
   ]
  },
  {
   "cell_type": "markdown",
   "metadata": {},
   "source": [
    "Let's look at some other conditions:"
   ]
  },
  {
   "cell_type": "code",
   "execution_count": 15,
   "metadata": {
    "ExecuteTime": {
     "end_time": "2020-04-13T07:17:13.484989Z",
     "start_time": "2020-04-13T07:17:13.472244Z"
    }
   },
   "outputs": [
    {
     "data": {
      "text/html": [
       "<div>\n",
       "<style scoped>\n",
       "    .dataframe tbody tr th:only-of-type {\n",
       "        vertical-align: middle;\n",
       "    }\n",
       "\n",
       "    .dataframe tbody tr th {\n",
       "        vertical-align: top;\n",
       "    }\n",
       "\n",
       "    .dataframe thead th {\n",
       "        text-align: right;\n",
       "    }\n",
       "</style>\n",
       "<table border=\"1\" class=\"dataframe\">\n",
       "  <thead>\n",
       "    <tr style=\"text-align: right;\">\n",
       "      <th></th>\n",
       "      <th>X</th>\n",
       "      <th>Z1</th>\n",
       "      <th>Z3</th>\n",
       "      <th>Z5</th>\n",
       "    </tr>\n",
       "  </thead>\n",
       "  <tbody>\n",
       "    <tr>\n",
       "      <th>0</th>\n",
       "      <td>2.002017</td>\n",
       "      <td>-0.005255</td>\n",
       "      <td>0.001396</td>\n",
       "      <td>10.003829</td>\n",
       "    </tr>\n",
       "  </tbody>\n",
       "</table>\n",
       "</div>"
      ],
      "text/plain": [
       "          X        Z1        Z3         Z5\n",
       "0  2.002017 -0.005255  0.001396  10.003829"
      ]
     },
     "execution_count": 15,
     "metadata": {},
     "output_type": "execute_result"
    }
   ],
   "source": [
    "get_coefficients(data, ['X', 'Z1', 'Z3', 'Z5'])"
   ]
  },
  {
   "cell_type": "markdown",
   "metadata": {},
   "source": [
    "We get a _great_ answer, simply by controlling for `Z5`"
   ]
  },
  {
   "cell_type": "code",
   "execution_count": 16,
   "metadata": {
    "ExecuteTime": {
     "end_time": "2020-04-13T07:17:13.498414Z",
     "start_time": "2020-04-13T07:17:13.487130Z"
    }
   },
   "outputs": [
    {
     "data": {
      "text/html": [
       "<div>\n",
       "<style scoped>\n",
       "    .dataframe tbody tr th:only-of-type {\n",
       "        vertical-align: middle;\n",
       "    }\n",
       "\n",
       "    .dataframe tbody tr th {\n",
       "        vertical-align: top;\n",
       "    }\n",
       "\n",
       "    .dataframe thead th {\n",
       "        text-align: right;\n",
       "    }\n",
       "</style>\n",
       "<table border=\"1\" class=\"dataframe\">\n",
       "  <thead>\n",
       "    <tr style=\"text-align: right;\">\n",
       "      <th></th>\n",
       "      <th>X</th>\n",
       "      <th>Z5</th>\n",
       "    </tr>\n",
       "  </thead>\n",
       "  <tbody>\n",
       "    <tr>\n",
       "      <th>0</th>\n",
       "      <td>2.000857</td>\n",
       "      <td>10.003389</td>\n",
       "    </tr>\n",
       "  </tbody>\n",
       "</table>\n",
       "</div>"
      ],
      "text/plain": [
       "          X         Z5\n",
       "0  2.000857  10.003389"
      ]
     },
     "execution_count": 16,
     "metadata": {},
     "output_type": "execute_result"
    }
   ],
   "source": [
    "get_coefficients(data, ['X', 'Z5'])"
   ]
  },
  {
   "cell_type": "markdown",
   "metadata": {},
   "source": [
    "If we control for `Z1`, `Z2`, and `Z3` we get a good estimate:"
   ]
  },
  {
   "cell_type": "code",
   "execution_count": 17,
   "metadata": {
    "ExecuteTime": {
     "end_time": "2020-04-13T07:17:13.513010Z",
     "start_time": "2020-04-13T07:17:13.500074Z"
    }
   },
   "outputs": [
    {
     "data": {
      "text/html": [
       "<div>\n",
       "<style scoped>\n",
       "    .dataframe tbody tr th:only-of-type {\n",
       "        vertical-align: middle;\n",
       "    }\n",
       "\n",
       "    .dataframe tbody tr th {\n",
       "        vertical-align: top;\n",
       "    }\n",
       "\n",
       "    .dataframe thead th {\n",
       "        text-align: right;\n",
       "    }\n",
       "</style>\n",
       "<table border=\"1\" class=\"dataframe\">\n",
       "  <thead>\n",
       "    <tr style=\"text-align: right;\">\n",
       "      <th></th>\n",
       "      <th>X</th>\n",
       "      <th>Z1</th>\n",
       "      <th>Z2</th>\n",
       "      <th>Z3</th>\n",
       "    </tr>\n",
       "  </thead>\n",
       "  <tbody>\n",
       "    <tr>\n",
       "      <th>0</th>\n",
       "      <td>2.061902</td>\n",
       "      <td>0.096563</td>\n",
       "      <td>-0.036475</td>\n",
       "      <td>9.846974</td>\n",
       "    </tr>\n",
       "  </tbody>\n",
       "</table>\n",
       "</div>"
      ],
      "text/plain": [
       "          X        Z1        Z2        Z3\n",
       "0  2.061902  0.096563 -0.036475  9.846974"
      ]
     },
     "execution_count": 17,
     "metadata": {},
     "output_type": "execute_result"
    }
   ],
   "source": [
    "get_coefficients(data, ['X', 'Z1', 'Z2', 'Z3'])"
   ]
  },
  {
   "cell_type": "markdown",
   "metadata": {},
   "source": [
    "Note that more conditioning can make things worse. We decide to add `Z4` \"just to be safe\" and our estimate of the  (direct) effect of `X` on `Y` gets _worse_:"
   ]
  },
  {
   "cell_type": "code",
   "execution_count": 18,
   "metadata": {
    "ExecuteTime": {
     "end_time": "2020-04-13T07:17:13.530440Z",
     "start_time": "2020-04-13T07:17:13.514775Z"
    }
   },
   "outputs": [
    {
     "data": {
      "text/html": [
       "<div>\n",
       "<style scoped>\n",
       "    .dataframe tbody tr th:only-of-type {\n",
       "        vertical-align: middle;\n",
       "    }\n",
       "\n",
       "    .dataframe tbody tr th {\n",
       "        vertical-align: top;\n",
       "    }\n",
       "\n",
       "    .dataframe thead th {\n",
       "        text-align: right;\n",
       "    }\n",
       "</style>\n",
       "<table border=\"1\" class=\"dataframe\">\n",
       "  <thead>\n",
       "    <tr style=\"text-align: right;\">\n",
       "      <th></th>\n",
       "      <th>X</th>\n",
       "      <th>Z1</th>\n",
       "      <th>Z2</th>\n",
       "      <th>Z3</th>\n",
       "      <th>Z4</th>\n",
       "    </tr>\n",
       "  </thead>\n",
       "  <tbody>\n",
       "    <tr>\n",
       "      <th>0</th>\n",
       "      <td>0.602703</td>\n",
       "      <td>-1.322824</td>\n",
       "      <td>-1.420422</td>\n",
       "      <td>7.019978</td>\n",
       "      <td>4.26782</td>\n",
       "    </tr>\n",
       "  </tbody>\n",
       "</table>\n",
       "</div>"
      ],
      "text/plain": [
       "          X        Z1        Z2        Z3       Z4\n",
       "0  0.602703 -1.322824 -1.420422  7.019978  4.26782"
      ]
     },
     "execution_count": 18,
     "metadata": {},
     "output_type": "execute_result"
    }
   ],
   "source": [
    "get_coefficients(data, ['X', 'Z1', 'Z2', 'Z3', 'Z4'])"
   ]
  },
  {
   "cell_type": "markdown",
   "metadata": {},
   "source": [
    "## A more concrete example: Salary and Experience"
   ]
  },
  {
   "cell_type": "markdown",
   "metadata": {},
   "source": [
    "In many community colleges, the relationship between salary and experience is given by a table. In this case, we are going to make it a simple formula: the amount you get paid (in some units) is 3 times your experience plus twice your education level (0=hs, 1=bachelors, 2=graduate degree)\n",
    "\n",
    "Each level of school is assumed to take 4 years beyond high school.\n",
    "\n",
    "In addition, someone might have taken a year or two as gap years, not gaining experience nor an education.\n",
    "\n",
    "Let's put this together as a data generation exercise:"
   ]
  },
  {
   "cell_type": "code",
   "execution_count": 19,
   "metadata": {
    "ExecuteTime": {
     "end_time": "2020-04-13T07:17:13.540345Z",
     "start_time": "2020-04-13T07:17:13.532203Z"
    }
   },
   "outputs": [],
   "source": [
    "N = 3000\n",
    "\n",
    "education = np.random.choice([0, 1, 2],p=[0.05,0.75,0.2], size=(N))\n",
    "experience = np.random.binomial(25, p=0.8, size=(N))\n",
    "gap_years = np.random.choice([0, 1, 2],p=[0.2,0.7,0.1], size=(N))\n",
    "\n",
    "age = 18 + 4*education + experience + gap_years\n",
    "\n",
    "salary = 3*experience + 2*education\n",
    "\n",
    "df = pd.DataFrame({\n",
    "    'education': education, 'experience': experience, 'gap': gap_years, 'age': age, 'salary': salary\n",
    "})"
   ]
  },
  {
   "cell_type": "markdown",
   "metadata": {},
   "source": [
    "Each feature is a node in a DAG. If the equation for feature X used values of other features P, we need P to be a parent of X in the DAG.\n",
    "\n",
    "The corresponding DAG is"
   ]
  },
  {
   "cell_type": "code",
   "execution_count": 20,
   "metadata": {
    "ExecuteTime": {
     "end_time": "2020-04-13T07:17:13.546359Z",
     "start_time": "2020-04-13T07:17:13.541975Z"
    }
   },
   "outputs": [
    {
     "data": {
      "application/javascript": [
       "\n",
       "        (function(element){\n",
       "            require(['tree'], function(tree) {\n",
       "                tree(element.get(0), [[\"education\", \"salary\"], [\"education\", \"age\"], [\"experience\", \"age\"], [\"experience\", \"salary\"], [\"gap_years\", \"age\"]], 600, 400);\n",
       "            });\n",
       "        })(element);\n",
       "    "
      ],
      "text/plain": [
       "<IPython.core.display.Javascript object>"
      ]
     },
     "metadata": {},
     "output_type": "display_data"
    }
   ],
   "source": [
    "draw_dag({'education': ['salary', 'age'],\n",
    "          'experience': ['age', 'salary'],\n",
    "          'gap_years': ['age'],\n",
    "          'salary': []})"
   ]
  },
  {
   "cell_type": "markdown",
   "metadata": {},
   "source": [
    "By rearranging the DAG, you should be able to see that `salary` only depends on `education` and `experience` (directly), and that the other variables are not relevant. Taking our data:"
   ]
  },
  {
   "cell_type": "code",
   "execution_count": 21,
   "metadata": {
    "ExecuteTime": {
     "end_time": "2020-04-13T07:17:13.561208Z",
     "start_time": "2020-04-13T07:17:13.548654Z"
    }
   },
   "outputs": [
    {
     "data": {
      "text/html": [
       "<div>\n",
       "<style scoped>\n",
       "    .dataframe tbody tr th:only-of-type {\n",
       "        vertical-align: middle;\n",
       "    }\n",
       "\n",
       "    .dataframe tbody tr th {\n",
       "        vertical-align: top;\n",
       "    }\n",
       "\n",
       "    .dataframe thead th {\n",
       "        text-align: right;\n",
       "    }\n",
       "</style>\n",
       "<table border=\"1\" class=\"dataframe\">\n",
       "  <thead>\n",
       "    <tr style=\"text-align: right;\">\n",
       "      <th></th>\n",
       "      <th>education</th>\n",
       "      <th>experience</th>\n",
       "    </tr>\n",
       "  </thead>\n",
       "  <tbody>\n",
       "    <tr>\n",
       "      <th>0</th>\n",
       "      <td>2.0</td>\n",
       "      <td>3.0</td>\n",
       "    </tr>\n",
       "  </tbody>\n",
       "</table>\n",
       "</div>"
      ],
      "text/plain": [
       "   education  experience\n",
       "0        2.0         3.0"
      ]
     },
     "execution_count": 21,
     "metadata": {},
     "output_type": "execute_result"
    }
   ],
   "source": [
    "get_coefficients(df, ['education', 'experience'], 'salary')"
   ]
  },
  {
   "cell_type": "markdown",
   "metadata": {},
   "source": [
    "Naturally we get the answer exactly right! What if we (incorrectly) control for age? Does controlling for an irrelevant variable matter?"
   ]
  },
  {
   "cell_type": "code",
   "execution_count": 22,
   "metadata": {
    "ExecuteTime": {
     "end_time": "2020-04-13T07:17:13.578642Z",
     "start_time": "2020-04-13T07:17:13.562784Z"
    }
   },
   "outputs": [
    {
     "data": {
      "text/html": [
       "<div>\n",
       "<style scoped>\n",
       "    .dataframe tbody tr th:only-of-type {\n",
       "        vertical-align: middle;\n",
       "    }\n",
       "\n",
       "    .dataframe tbody tr th {\n",
       "        vertical-align: top;\n",
       "    }\n",
       "\n",
       "    .dataframe thead th {\n",
       "        text-align: right;\n",
       "    }\n",
       "</style>\n",
       "<table border=\"1\" class=\"dataframe\">\n",
       "  <thead>\n",
       "    <tr style=\"text-align: right;\">\n",
       "      <th></th>\n",
       "      <th>education</th>\n",
       "      <th>experience</th>\n",
       "      <th>age</th>\n",
       "    </tr>\n",
       "  </thead>\n",
       "  <tbody>\n",
       "    <tr>\n",
       "      <th>0</th>\n",
       "      <td>2.0</td>\n",
       "      <td>3.0</td>\n",
       "      <td>1.877894e-16</td>\n",
       "    </tr>\n",
       "  </tbody>\n",
       "</table>\n",
       "</div>"
      ],
      "text/plain": [
       "   education  experience           age\n",
       "0        2.0         3.0  1.877894e-16"
      ]
     },
     "execution_count": 22,
     "metadata": {},
     "output_type": "execute_result"
    }
   ],
   "source": [
    "get_coefficients(df, ['education', 'experience', 'age'], 'salary')"
   ]
  },
  {
   "cell_type": "markdown",
   "metadata": {},
   "source": [
    "In this case, no. What about gap year?"
   ]
  },
  {
   "cell_type": "code",
   "execution_count": 23,
   "metadata": {
    "ExecuteTime": {
     "end_time": "2020-04-13T07:17:13.597696Z",
     "start_time": "2020-04-13T07:17:13.584740Z"
    }
   },
   "outputs": [
    {
     "data": {
      "text/html": [
       "<div>\n",
       "<style scoped>\n",
       "    .dataframe tbody tr th:only-of-type {\n",
       "        vertical-align: middle;\n",
       "    }\n",
       "\n",
       "    .dataframe tbody tr th {\n",
       "        vertical-align: top;\n",
       "    }\n",
       "\n",
       "    .dataframe thead th {\n",
       "        text-align: right;\n",
       "    }\n",
       "</style>\n",
       "<table border=\"1\" class=\"dataframe\">\n",
       "  <thead>\n",
       "    <tr style=\"text-align: right;\">\n",
       "      <th></th>\n",
       "      <th>education</th>\n",
       "      <th>experience</th>\n",
       "      <th>gap</th>\n",
       "    </tr>\n",
       "  </thead>\n",
       "  <tbody>\n",
       "    <tr>\n",
       "      <th>0</th>\n",
       "      <td>2.0</td>\n",
       "      <td>3.0</td>\n",
       "      <td>2.740494e-16</td>\n",
       "    </tr>\n",
       "  </tbody>\n",
       "</table>\n",
       "</div>"
      ],
      "text/plain": [
       "   education  experience           gap\n",
       "0        2.0         3.0  2.740494e-16"
      ]
     },
     "execution_count": 23,
     "metadata": {},
     "output_type": "execute_result"
    }
   ],
   "source": [
    "get_coefficients(df, ['education', 'experience', 'gap'], 'salary')"
   ]
  },
  {
   "cell_type": "markdown",
   "metadata": {},
   "source": [
    "Great! It seems to make no difference.\n",
    "\n",
    "What if we control for \"everything\" (i.e. both age and gap, rather than both separately?)"
   ]
  },
  {
   "cell_type": "code",
   "execution_count": 24,
   "metadata": {
    "ExecuteTime": {
     "end_time": "2020-04-13T07:17:13.615941Z",
     "start_time": "2020-04-13T07:17:13.601289Z"
    }
   },
   "outputs": [
    {
     "data": {
      "text/html": [
       "<div>\n",
       "<style scoped>\n",
       "    .dataframe tbody tr th:only-of-type {\n",
       "        vertical-align: middle;\n",
       "    }\n",
       "\n",
       "    .dataframe tbody tr th {\n",
       "        vertical-align: top;\n",
       "    }\n",
       "\n",
       "    .dataframe thead th {\n",
       "        text-align: right;\n",
       "    }\n",
       "</style>\n",
       "<table border=\"1\" class=\"dataframe\">\n",
       "  <thead>\n",
       "    <tr style=\"text-align: right;\">\n",
       "      <th></th>\n",
       "      <th>education</th>\n",
       "      <th>experience</th>\n",
       "      <th>gap</th>\n",
       "      <th>age</th>\n",
       "    </tr>\n",
       "  </thead>\n",
       "  <tbody>\n",
       "    <tr>\n",
       "      <th>0</th>\n",
       "      <td>-0.315789</td>\n",
       "      <td>2.421053</td>\n",
       "      <td>-0.578947</td>\n",
       "      <td>0.578947</td>\n",
       "    </tr>\n",
       "  </tbody>\n",
       "</table>\n",
       "</div>"
      ],
      "text/plain": [
       "   education  experience       gap       age\n",
       "0  -0.315789    2.421053 -0.578947  0.578947"
      ]
     },
     "execution_count": 24,
     "metadata": {},
     "output_type": "execute_result"
    }
   ],
   "source": [
    "get_coefficients(df, ['education', 'experience', 'gap', 'age'], 'salary')"
   ]
  },
  {
   "cell_type": "markdown",
   "metadata": {},
   "source": [
    "Oh no!! We see that we now have a _negative_ correlation between education and salary!"
   ]
  },
  {
   "cell_type": "code",
   "execution_count": null,
   "metadata": {},
   "outputs": [],
   "source": []
  }
 ],
 "metadata": {
  "kernelspec": {
   "display_name": "causal",
   "language": "python",
   "name": "causal"
  },
  "language_info": {
   "codemirror_mode": {
    "name": "ipython",
    "version": 3
   },
   "file_extension": ".py",
   "mimetype": "text/x-python",
   "name": "python",
   "nbconvert_exporter": "python",
   "pygments_lexer": "ipython3",
   "version": "3.8.2"
  },
  "varInspector": {
   "cols": {
    "lenName": 16,
    "lenType": 16,
    "lenVar": 40
   },
   "kernels_config": {
    "python": {
     "delete_cmd_postfix": "",
     "delete_cmd_prefix": "del ",
     "library": "var_list.py",
     "varRefreshCmd": "print(var_dic_list())"
    },
    "r": {
     "delete_cmd_postfix": ") ",
     "delete_cmd_prefix": "rm(",
     "library": "var_list.r",
     "varRefreshCmd": "cat(var_dic_list()) "
    }
   },
   "types_to_exclude": [
    "module",
    "function",
    "builtin_function_or_method",
    "instance",
    "_Feature"
   ],
   "window_display": false
  }
 },
 "nbformat": 4,
 "nbformat_minor": 4
}
