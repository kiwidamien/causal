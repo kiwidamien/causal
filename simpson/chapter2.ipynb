{
 "cells": [
  {
   "cell_type": "markdown",
   "metadata": {},
   "source": [
    "# Chapter 2: Graphical Models and their applications\n",
    "\n",
    "Reading material is [here](http://bayes.cs.ucla.edu/PRIMER/primer-ch2.pdf)\n",
    "\n",
    "I don't think the title is great, for me this chapter was more of an \"anatomy of DAGs\", while chapters 3 & 4 were more about the applications. The critical part for me was $\\S$2.4 on $d$-separation, although here I think the emphasis should be on **blocking paths**, and $d$-separation is just one application of that. We will see other, more important, applications in chapter 3 when using the adjustment formulas.\n",
    "\n",
    "The material in $\\S$2.5 was okay (testing a causal model), but this material is covered again -- and with more rigor _and_ practical application -- in $\\S$3.3 (page 65, where it is made as a comment at the end of a long section)."
   ]
  },
  {
   "cell_type": "markdown",
   "metadata": {},
   "source": [
    "## Conditional independence\n",
    "\n",
    "$\\S$1.3.4 defined independent and conditionally independent events. It is worth revisiting these concepts again. \n",
    "\n",
    "In many probability texts, the intersection $A \\bigcap B$ is used, which makes sense for subsets of outcomes $A$ and $B$. Where we have random variables $A$ and $B$, instead of using subsets like $(A = a)\\bigcap(B=b)$, I will use the notation $(A=a, B=b)$.\n",
    "\n",
    "\n",
    "### Independent\n",
    "\n",
    "There are two ways we traditionally think of events $A$ and $B$ being independent. One is the simple\n",
    "$$P(A, B) = P(A)P(B)$$\n",
    "where we have taken Pearl's $(A, B)$ for \"A and B\" over the more set theoretic $A \\bigcap B$, as we generally will be using random variables. \n",
    "\n",
    "\n",
    "A more natural definition is\n",
    "$$P(A | B) = P(A)$$\n",
    "i.e. knowing $B$ doesn't change the probabilities of $A$. In my view, this is more directly connected to the name."
   ]
  },
  {
   "cell_type": "markdown",
   "metadata": {},
   "source": [
    "<details><summary>Proof of equivalence</summary>\n",
    "<p>\n",
    "\n",
    "To see these definitions are equivalent, let's show the first implies the second. We have for any events\n",
    "$$P(A | B) = P(A, B) / P(B) \\Rightarrow P(A, B) = P(A | B) P(B)$$\n",
    "If we have the first statement, $P(A,B) = P(A)P(B)$,\n",
    "$$P(A)P(B) = P(A | B) P(B)$$\n",
    "Provided $P(B) \\neq 0$ we can cancel the $P(B)$ from each side, and get $P(A) = P(A|B)$ as promised. If $P(B) = 0$, then $P(A|B)$ is generally not sensible (e.g. \"what is the probability it is sunny outside given that I rolled a 8 on my normal 6-sided die\"). So I guess I should change the definition to\n",
    "$$P(A=a | B=b) = P(A=a), \\text{ for all values $b$ which can occur, means $A$ and $B$ are independent}$$\n",
    "\n",
    "To show the second implies the first, let's start with $P(A|B) = P(A)$. Then\n",
    "$$P(A, B) = P(A|B)P(B) = P(A)P(B)$$\n",
    "QED\n",
    "\n",
    "\n",
    "</p>\n",
    "</details>\n",
    "\n"
   ]
  },
  {
   "cell_type": "markdown",
   "metadata": {},
   "source": [
    "### Conditionally independent\n",
    "\n",
    "We say _A and B are conditionally independent given C_ if\n",
    "$$P(A | B, C) = P(A | C)$$\n",
    "\n",
    "Here are two consequences\n",
    "1. This is a symmetric relationship, so $P(B| A,C) = P(B|C)$ if the above holds\n",
    "2. If A, B, and C are all independent, then $A$ and $B$ are still conditionally independent given $C$\n",
    "\n",
    "The two properties are pretty intuitive, given the name. Proofs in collapsible sections below."
   ]
  },
  {
   "cell_type": "markdown",
   "metadata": {},
   "source": [
    "<details><summary>Proof of 1 (symmetric)</summary>\n",
    "<p>\n",
    "\n",
    "\n",
    "They are pretty natural given the name, as well as being intuitive. To show the first one, for any events $A$, $B$, and $C$ we have\n",
    "$$P(A, B, C) = P(A | B, C)P(B, C) = P(B | A, C)P(A,C)$$\n",
    "If $A$ and $B$ are independent conditional on $C$, we get\n",
    "$$P(A | C)P(B, C) = P(B| A,C)P(A, C)$$\n",
    "We know $P(A, C) = P(A | C)P(C)$, so\n",
    "$$P(A|C)P(B,C) = P(B|A, C) P(A|C) P(C)$$\n",
    "Canceling\n",
    "$$P(B,C) = P(B|A, C)P(C)$$\n",
    "We also have $P(B, C) = P(B|C)P(C)$, and we can cancel $P(C)$ from both sides, leaving\n",
    "$$P(B|C) = P(B| A, C)$$\n",
    "which is what we intended to show. (Note the possibilities were I canceled things implicitly assumed those quantities were not zero; like the previous case this means I am assuming that I don't condition on things that cannot happen)\n",
    "\n",
    "</p>\n",
    "</details>"
   ]
  },
  {
   "cell_type": "markdown",
   "metadata": {},
   "source": [
    "### Counter-intuitive facts about conditional independence\n",
    "\n",
    "If $A$ and $B$ are independent, it does **not** follow that $A$ and $B$ are independent conditional on $C$!\n",
    "\n",
    "By conditioning, we can relate two independent events. This is the \"conditioning on collider\" problem we will see later. Often this can be thought of as a \"selection bias\" -- the choice of conditioning on $C$ gives us a subpopulation, and that correlates $A$ and $B$ in the subpopulation, even though they are uncorrelated \"in nature\".\n",
    "\n",
    "Simple toy example: \n",
    "- If I roll two six-sided die, the outcomes are uncorrelated. \n",
    "- Call die 1's outcome $A$, and die 2's outcome $B$. $A$ and $B$ are independent. If I tell you what $A$ is, it doesn't help you determine what $B$ is (and vice-versa).\n",
    "- In games, we are often interested in the total, $C = A + B$. It is clear $C$ depends on $A$ and $B$.\n",
    "- If we condition on $C$, $A$ and $B$ are perfectly anti-correlated! e.g. If I tell you that \"I rolled a 7\" (C=7), knowing $A=3$ tells you $B=4$, even though $A$ and $B$ are independent.\n",
    "- $A$ and $B$ are _not_ conditionally independent on $C$.\n",
    "\n",
    "This is an example of poor naming: saying $A$ and $B$ are independent suggests a more powerful statement than $A$ and $B$ are conditionally independent given $C$, which isn't actually true.\n",
    "\n",
    "More serious examples:\n",
    "- [Berkson's paradox](https://en.wikipedia.org/wiki/Berkson%27s_paradox): originally the observation that diabetes and cholecystitis were negatively correlated _within hospital in-patients_. In general, this would be a problem with any two random diseases. People in the in-patient population have some ailment, so someone without diabetes in this population is _more_ likely to have other diseases than the general population (which is what causes them to go to the hospital)\n",
    "- Has application to survivor bias in survey completition\n",
    "- Also known as the \"explain-elsewhere\" affect: if an outcome can be achieved multiple ways, knowing it wasn't achieved one way makes the other ways more likely."
   ]
  },
  {
   "cell_type": "markdown",
   "metadata": {},
   "source": [
    "## Anatomy of a DAG\n",
    "\n",
    "We will label all our sections as \"common graph term\" / \"common statistical effect\". This breaks down the common patterns that we see in DAGs."
   ]
  },
  {
   "cell_type": "code",
   "execution_count": 1,
   "metadata": {
    "ExecuteTime": {
     "end_time": "2020-04-20T04:24:31.035086Z",
     "start_time": "2020-04-20T04:24:31.027183Z"
    }
   },
   "outputs": [
    {
     "data": {
      "application/javascript": [
       "require.config({\n",
       "    paths: { \n",
       "        d3: 'https://d3js.org/d3.v5.min'\n",
       "    }\n",
       "});\n"
      ],
      "text/plain": [
       "<IPython.core.display.Javascript object>"
      ]
     },
     "metadata": {},
     "output_type": "display_data"
    }
   ],
   "source": [
    "%%javascript\n",
    "require.config({\n",
    "    paths: { \n",
    "        d3: 'https://d3js.org/d3.v5.min'\n",
    "    }\n",
    "});"
   ]
  },
  {
   "cell_type": "code",
   "execution_count": 2,
   "metadata": {
    "ExecuteTime": {
     "end_time": "2020-04-20T04:24:31.102654Z",
     "start_time": "2020-04-20T04:24:31.036330Z"
    }
   },
   "outputs": [
    {
     "data": {
      "text/html": [
       "<style>\n",
       "\n",
       "svg {\n",
       "    width: 100vw;\n",
       "    height: 100vh;\n",
       "}\n",
       "\n",
       ".edge {\n",
       "    stroke: #555;\n",
       "}\n",
       "\n",
       ".node>text {\n",
       "    stroke: #333;\n",
       "}\n",
       "\n",
       ".node>circle {\n",
       "    stroke: #555;\n",
       "    stroke-width: 3px;\n",
       "    fill: white;\n",
       "    cursor: pointer;\n",
       "}\n",
       "</style>\n"
      ],
      "text/plain": [
       "<IPython.core.display.HTML object>"
      ]
     },
     "metadata": {},
     "output_type": "display_data"
    },
    {
     "data": {
      "application/javascript": [
       "require.undef('tree');\n",
       "\n",
       "define('tree', ['d3'], (d3) => {\n",
       "    const draw = (container, data, positions, width, height) => {\n",
       "        width = width || 600;\n",
       "        height = height || 200;\n",
       "        const svg = d3.select(container)\n",
       "                      .append('svg')\n",
       "                      .attr('width', width)\n",
       "                      .attr('height', height)\n",
       "                      .append('g');\n",
       "        \n",
       "        /*\n",
       "         * Script here taken and modified from\n",
       "         * https://gist.github.com/strawstack/bd339d1b304a6bf02d68bfdc80e1f2d1\n",
       "         * \n",
       "         * Accompying blog post:\n",
       "         * https://regularmemory.blog/post/draggable-network-graph-with-d3js/\n",
       "         */\n",
       "        const RADIUS = 20;\n",
       "        const randomLoc = () => RADIUS + (width - 2*RADIUS) * Math.random();\n",
       "\n",
       "        // Object to hold nodes and edges\n",
       "        let graph = {\"nodes\": {}, \"edges\": []};\n",
       "\n",
       "        // For each edge from graph.json\n",
       "        // create an object with a source and target\n",
       "        graph.edges = data.map( edge => { \n",
       "            return {\n",
       "                source: edge[0],\n",
       "                target: edge[1]\n",
       "        }});\n",
       "\n",
       "        // Create flat (1-dimensional) array from the list of edges\n",
       "        let nodes = data.flat();\n",
       "        // Remove duplicates from the list of vertices\n",
       "        nodes = [...new Set(nodes)];\n",
       "\n",
       "        // Create dictionary where each node will map to its properties\n",
       "        for (node of nodes) {\n",
       "            // Assign random coordinates to each vertex if not given in\n",
       "            // positions object\n",
       "            const location = (positions && positions[node]) || [randomLoc(), randomLoc()];\n",
       "            graph.nodes[node] = {\n",
       "                label: node,\n",
       "                x: location[0],\n",
       "                y: location[1]\n",
       "            };\n",
       "        }\n",
       "\n",
       "        // Add node refs to each link\n",
       "        graph.edges.forEach(d => {\n",
       "            d.source = graph.nodes[d.source];\n",
       "            d.target = graph.nodes[d.target];\n",
       "        });\n",
       "        \n",
       "        svg.append('defs').append('marker')\n",
       "    .attr(\"id\",'arrowhead')\n",
       "    .attr('viewBox','-0 -5 10 10') //the bound of the SVG viewport for the current SVG fragment. defines a coordinate system 10 wide and 10 high starting on (0,-5)\n",
       "     .attr('refX',23) // x coordinate for the reference point of the marker. If circle is bigger, this need to be bigger.\n",
       "     .attr('refY',0)\n",
       "     .attr('orient','auto')\n",
       "        .attr('markerWidth',13)\n",
       "        .attr('markerHeight',13)\n",
       "        .attr('xoverflow','visible')\n",
       "    .append('svg:path')\n",
       "    .attr('d', 'M 0,-5 L 10 ,0 L 0,5')\n",
       "    .attr('fill', '#999')\n",
       "    .style('stroke','none');\n",
       "\n",
       "        //console.log(graph);\n",
       "\n",
       "        var edge = svg.selectAll(\".edge\")\n",
       "            .data(graph.edges)\n",
       "            .enter().append(\"line\")\n",
       "            .attr(\"class\", \"edge\")\n",
       "            .attr(\"x1\", d => d.source.x)\n",
       "            .attr(\"y1\", d => d.source.y)\n",
       "            .attr(\"x2\", d => d.target.x)\n",
       "            .attr(\"y2\", d => d.target.y)\n",
       "            .attr('marker-end','url(#arrowhead)');\n",
       "\n",
       "        var node = svg.selectAll(\"node\")\n",
       "            .data(Object.values(graph.nodes))\n",
       "            .enter().append(\"g\")\n",
       "            .attr(\"class\", \"node\");\n",
       "\n",
       "        node.append(\"circle\")\n",
       "            .attr(\"r\", 20)\n",
       "            .attr(\"cx\", d => d.x)\n",
       "            .attr(\"cy\", d => d.y)\n",
       "            .call(d3.drag().on(\"drag\", dragged));\n",
       "\n",
       "        node.append(\"text\")\n",
       "            .attr(\"dx\", d => d.x)\n",
       "            .attr(\"dy\", d => d.y)\n",
       "            .attr(\"text-anchor\", \"middle\")\n",
       "            .attr(\"dominant-baseline\", \"central\")\n",
       "            .attr(\"pointer-events\", \"none\")\n",
       "            .text(d => d.label);\n",
       "\n",
       "        function dragged(d) {\n",
       "            d.x = d3.event.x, d.y = d3.event.y;\n",
       "            d3.select(this).attr(\"cx\", d.x).attr(\"cy\", d.y);\n",
       "            d3.select(this.parentNode).select(\"text\").attr(\"dx\", d.x).attr(\"dy\", d.y);\n",
       "            edge.filter(function(l) { return l.source === d; }).attr(\"x1\", d.x).attr(\"y1\", d.y);\n",
       "            edge.filter(function(l) { return l.target === d; }).attr(\"x2\", d.x).attr(\"y2\", d.y);\n",
       "        }\n",
       "\n",
       "\n",
       "    }\n",
       "    return draw;\n",
       "});\n",
       "\n",
       "element.append('<small>&#x25C9; &#x25CB; &#x25EF; Loaded tree.js &#x25CC; &#x25CE; &#x25CF;</small>');"
      ],
      "text/plain": [
       "<IPython.core.display.Javascript object>"
      ]
     },
     "metadata": {},
     "output_type": "display_data"
    }
   ],
   "source": [
    "from dag import draw_dag"
   ]
  },
  {
   "cell_type": "markdown",
   "metadata": {},
   "source": [
    "### Chains / mediation"
   ]
  },
  {
   "cell_type": "markdown",
   "metadata": {},
   "source": [
    "A _chain_ is a unidirectional path of events e.g. $A \\rightarrow B \\rightarrow C \\rightarrow D \\rightarrow ...$. i.e. events that are connected with arrows flowing from beginning to end.\n",
    "\n",
    "In a chain:\n",
    "1. Neighboring events on the chain are __not__ independent\n",
    "2. Any pair of events are _generally_ not independent\n",
    "\n",
    "There are some contrived (\"pathological\") cases where $A$ and $C$ could end up being independent if there are other sources of noise.\n",
    "\n",
    "If we control for a node in chain, nodes on the left of the controlled node are conditionally independent of nodes on the right of controlled node, provided the chain is the only path connecting the two nodes.\n",
    "\n",
    "\n",
    "#### Example 1\n",
    "Given $A \\rightarrow B \\rightarrow C \\rightarrow D$, without controlling for anything, $A$ and $D$ (likely) are not independent. If we control for $C$, then $A$ and $D$ are independent. We could write\n",
    "$$A \\rightarrow B --> (C) \\rightarrow D$$\n",
    "\n",
    "We would still have \n",
    "* $A$ and $B$ are **not** independent (they are neighbors)\n",
    "* $A$ and $B$ are **not** conditionally independent on C.\n",
    "* $B$ and $C$ are **not** independent (they are neighbors)\n",
    "* $B$ and $C$ **are** (trivially) conditionally independent on C (because $C$ just takes a single value!)\n",
    "* $B$ and $D$ are **not** independent (they are connected by a chain)\n",
    "* $B$ and $D$ **are** conditionally independent on C (controlling $C$ blocks information about $B$ reaching $D$).\n",
    "\n",
    "#### Intuition:\n",
    "\n",
    "1. Intervening anywhere along the chain will have an effect on the final node in the chain, but will make everything before the final manipulation irrelevant\n",
    "2. Even though $A$ and $D$ are not directly affected, we still have an intuitive sense that $A$ \"morally\" affects $D$, but it does so via $B$ and $C$. Sometimes $B$ and $C$ are called \"mediators\" for this reason."
   ]
  },
  {
   "cell_type": "markdown",
   "metadata": {},
   "source": [
    "### Forks / confounding\n",
    "\n",
    "A fork is when a variable influence two children: $C_1 \\leftarrow P \\rightarrow C_2$. The \"parent\" $P$ is a common cause to both it's children, and is commonly referred to as a _confounder_ -- $C_1$ and $C_2$ are not independent, but because they are driven by a common factor. \n",
    "\n",
    "Popular examples are ice-cream sales and shark attacks both increasing as temperature increases, or global temperatures increasing as the number of pirates decrease (both driven by different factors, temperatures going up over time and piracy curtailed over time)\n",
    "\n",
    "If $C_1 \\leftarrow P \\rightarrow C_2$ is the only connection between $C_1$ and $C_2$:\n",
    "- $C_1$ and $C_2$ are not independent\n",
    "- $C_1$ and $C_2$ are conditionally independent on $P$\n",
    "\n",
    "#### Intuition\n",
    "\n",
    "1. In _observational_ data $C_1$ and $C_2$ are correlated (via $P$), but trying to intervene and change $C_1$ directly without changing $P$ doesn't affect $C_2$. e.g. closing all ice-cream shops doesn't decrease the number of shark attacks, even though there is a positive correlation seen in observational data. Intervening can destroy the previous positive correlation.\n",
    "2. This is the most well-known statistical fallicy, and is the one that leads us to \"control for everything\" just in case."
   ]
  },
  {
   "cell_type": "markdown",
   "metadata": {},
   "source": [
    "### Colliders / selection or survivor bias\n",
    "\n",
    "A collider is when causal information comes into a node from opposing directions, such as $A \\rightarrow C \\leftarrow B$. If there are no other paths between $A$ and $B$:\n",
    "- $A$ and $B$ are independent\n",
    "- $A$ and $B$ are not conditionally independent on Z\n",
    "\n",
    "Examples were given in the section about \"counter-intuitive facts about conditional independence\":\n",
    "\n",
    "- $(roll 1) \\rightarrow (sum) \\leftarrow (roll 2)$: two independent rolls are correlated if I know their sum\n",
    "- $(\\text{diabetes}) \\rightarrow (\\text{go to hospital}) \\leftarrow (\\text{other diseases})$: other diseases are more negatively correlated with diabetes than in the general population, because (most) people in the in-patient population have at least one medical issue\n",
    "\n",
    "#### Intuition\n",
    "\n",
    "We generally don't want to condition on colliders (although chapter 3 does show a couple of interesting counter-examples). Colliders block information flow on their own.\n",
    "\n",
    "Most of us know about the problems with selection bias (which is a common way colliders show up, as in the in-patient example)."
   ]
  },
  {
   "cell_type": "markdown",
   "metadata": {},
   "source": [
    "## $\\S$2.4 path blocking and $d$-separation\n",
    "\n",
    "We have looked at graphs with a single path and discussed what to control for, and what not to. What should we do with a graph that has multiple paths, such as the one below"
   ]
  },
  {
   "cell_type": "code",
   "execution_count": 3,
   "metadata": {
    "ExecuteTime": {
     "end_time": "2020-04-20T04:24:31.109082Z",
     "start_time": "2020-04-20T04:24:31.104243Z"
    }
   },
   "outputs": [
    {
     "data": {
      "application/javascript": [
       "\n",
       "        (function(element){\n",
       "            require(['tree'], function(tree) {\n",
       "                tree(element.get(0), [[\"T\", \"Z\"], [\"T\", \"Y\"], [\"Z\", \"W\"], [\"W\", \"U\"], [\"X\", \"Y\"], [\"X\", \"W\"]], {\"T\": [300, 30], \"Z\": [100, 180], \"W\": [200, 250], \"U\": [200, 350], \"X\": [300, 180], \"Y\": [500, 180]}, 600, 400);\n",
       "            });\n",
       "        })(element);\n",
       "    "
      ],
      "text/plain": [
       "<IPython.core.display.Javascript object>"
      ]
     },
     "metadata": {},
     "output_type": "display_data"
    }
   ],
   "source": [
    "positions = {'T': [300, 30], 'Z': [100, 180], 'W': [200, 250], 'U': [200, 350], 'X':[300, 180], 'Y': [500, 180]}\n",
    "draw_dag({'T': ['Z', 'Y'],\n",
    "          'Z': ['W'],\n",
    "          'W': ['U'],\n",
    "          'X': ['Y', 'W']}, positions=positions)"
   ]
  },
  {
   "cell_type": "markdown",
   "metadata": {},
   "source": [
    "Pearl shows each node with unknown noise terms entering each node, I am going to neglect these and say that each circle is a random variable (and is capable of generating its own noise).\n",
    "\n",
    "Let's call the set of we condition on $\\mathcal{C}$. We want to be able to answer the question if two random variables in this graph are conditionally independent on $\\mathcal{C}$ (i.e. if we control for everything in $\\mathcal{C}$, will our nodes be independent, or dependent)?\n",
    "\n",
    "Let's look at the nodes $Z$ and $Y$ in the DAG above and ask: if we don't condition on anything, are they independent? Intuitively, the answer is \"no\". Ignoring all the other complicated pieces of the graph, we can tell $T$ is a _confounder_ for $Z$ and $Y$, so changes in $T$ are likely to correlate $Z$ and $Y$.\n",
    "\n",
    "### Defining $d$-separation\n",
    "\n",
    "#### Paths\n",
    "\n",
    "A (simple) **path** between two nodes $Z$ and $Y$ is any sequence of nodes\n",
    "- starting at $Z$,\n",
    "- ending at $Y$\n",
    "- any two adjacent nodes in the sequence are connected by an edge in the DAG (without regard to direction)\n",
    "- no node is repeated\n",
    "\n",
    "The part about disregarding direction is probably the hardest piece to follow =). In the example above, there are two paths from Z to Y:\n",
    "1. Z to T to Y\n",
    "2. Z to W to X to Y\n",
    "\n",
    "The \"no repeated node\" rule is just there to eliminate stepping back and forward (e.g. Z to T to Z to T to Z to T to Y)\n",
    "\n",
    "#### Blocked paths\n",
    "\n",
    "A path $p$ is blocked by the controlling nodes $\\mathcal{C}$ if either:\n",
    "1. There is a chain or a fork in the path, and one of the intermediate nodes is in $\\mathcal{C}$\n",
    "2. There is a collider $E \\rightarrow B \\leftarrow F$ and $B$ is not controlled for ($B \\not\\in \\mathcal{C}$), and no decendent of $B$ is controlled for.\n",
    "\n",
    "#### $d$-separation\n",
    "\n",
    "Two nodes are $d$-separated if every (simple) path between them is blocked.\n"
   ]
  },
  {
   "cell_type": "markdown",
   "metadata": {},
   "source": [
    "### Back to our example\n",
    "\n",
    "In the example above, if we don't control for anything, are $Z$ and $Y$ $d$-separated? We need to check the two paths\n",
    "1. $Z$ to $T$ to $Y$\n",
    "2. $Z$ to $W$ to $X$ to $Y$\n",
    "\n",
    "Path 1 is not blocked: we have a fork $Z \\leftarrow T \\rightarrow Y$ where $T$ is not controlled. This matches our intuition earlier that $T$ is a confounder.\n",
    "\n",
    "Path 2 _is_ blocked: we have a collider at $W$, and $W$ is not controlled for.\n",
    "\n",
    "Since we have at least one path that isn't blocked, $Z$ and $Y$ are not $d$-separated. i.e. they will not be independent.\n",
    "\n",
    "##### Control for just T?\n",
    "\n",
    "What happens if we just control for $T$ (i.e. $\\mathcal{C} = \\{T\\}$).\n",
    "\n",
    "Path 1 is blocked (blocking the parent of a fork blocks the fork).\n",
    "\n",
    "Path 2 is still blocked by the collider $W$.\n",
    "\n",
    "All paths are blocked! So $Z$ and $Y$ are $d$-separated, conditional on $T$. Another way of saying this is $Z$ and $Y$ are conditionally independent on $T$.\n",
    "\n",
    "##### Control for $T$ and $W$\n",
    "\n",
    "The _only_ way of blocking path 1 is for $T$ to be controlled for.\n",
    "\n",
    "If we control for $W$, now we have \"unblocked\" path 2, so now information can flow through $W$ to $X$. We see that there is nothing stopping the information from flowing from $X$ to $Y$, so the entire path is unblocked.\n",
    "\n",
    "If we control for $T$ and $W$, $Z$ and $Y$ are _not_ d-separated (i.e. they are conditionally dependent on one another)\n",
    "\n",
    "##### Overview\n",
    "\n",
    "| Control for  | Are $Z$ and $Y$ d-separated? | Comments | \n",
    "| --- | --- | --- |\n",
    "| T | Y | First example above, must control T to block path 1 |\n",
    "| T, W | N | Second example, controlling W 'unblocks' path 2 |\n",
    "| T, U | N | Controlling U (a descendant of W) has the same effect as controlling W |\n",
    "| T, U, W | N | Same as above |\n",
    "| T, W, X | Y | Controlling W unblocks the collider, but is blocked again at X ||\n"
   ]
  },
  {
   "cell_type": "markdown",
   "metadata": {},
   "source": [
    "## Why do we care\n",
    "\n",
    "$d$-separation makes a testable claim about the graph we claim models the phenomena. In the DAG"
   ]
  },
  {
   "cell_type": "code",
   "execution_count": 4,
   "metadata": {
    "ExecuteTime": {
     "end_time": "2020-04-20T04:24:31.114915Z",
     "start_time": "2020-04-20T04:24:31.110944Z"
    }
   },
   "outputs": [
    {
     "data": {
      "application/javascript": [
       "\n",
       "        (function(element){\n",
       "            require(['tree'], function(tree) {\n",
       "                tree(element.get(0), [[\"T\", \"Z\"], [\"T\", \"Y\"], [\"Z\", \"W\"], [\"W\", \"U\"], [\"X\", \"Y\"], [\"X\", \"W\"]], {\"T\": [300, 30], \"Z\": [100, 180], \"W\": [200, 250], \"U\": [200, 350], \"X\": [300, 180], \"Y\": [500, 180]}, 600, 400);\n",
       "            });\n",
       "        })(element);\n",
       "    "
      ],
      "text/plain": [
       "<IPython.core.display.Javascript object>"
      ]
     },
     "metadata": {},
     "output_type": "display_data"
    }
   ],
   "source": [
    "draw_dag({'T': ['Z', 'Y'],\n",
    "          'Z': ['W'],\n",
    "          'W': ['U'],\n",
    "          'X': ['Y', 'W']},\n",
    "         positions=positions)"
   ]
  },
  {
   "cell_type": "markdown",
   "metadata": {},
   "source": [
    "controlling for $T$ tells us that within levels of $T$ we should see $Y$ and $Z$ as independent, i.e.\n",
    "$$P(Z | Y, T) = P(Z | T)$$\n",
    "This is a testable implication, just given the raw data. i.e. we do have some sanity checks that our DAG is a reasonable description of reality."
   ]
  },
  {
   "cell_type": "markdown",
   "metadata": {},
   "source": [
    "#### Python check!"
   ]
  },
  {
   "cell_type": "markdown",
   "metadata": {},
   "source": [
    "More important, however, is the idea of blocking paths. When thinking about interventions, we will want to block all paths that have an arrow pointing _into_ the node we are changing, because our intervention will break that effort. Even though this in Chapter 3, it is what I think one of the important applications are.\n",
    "\n",
    "## Intervention ($\\S$ 3.1 and 3.2)\n",
    "\n",
    "If we look at the DAG above, and you wanted to change $Y$, if you were offered an expensive change to your procedures that changed $Z$, without affecting $T$, would you take it? \n",
    "\n",
    "The answer should be \"no\": changing $Z$ makes downstream changes to $W$ and $U$, but never to $Y$ -- by directly modifying $Z$ we are breaking the previous relationship between $T$ and $Z$. Any arrows into $Z$ becomes irrelevant, because we have set $Z$ directly.\n",
    "\n",
    "We can $Z$ has no effect just by looking at the DAG directly. If you enabled me to spend money to change $X$ or $T$, then I should consider it."
   ]
  },
  {
   "cell_type": "markdown",
   "metadata": {},
   "source": [
    "Let's go back to the Simpson's rule case from the first chapter and look at interventions there. As a reminder, the data is\n",
    "\n",
    "\n",
    "| Sex        | Drug A recoveries | Drug B  recoveries |  Total |\n",
    "| ---------- | ----------------- | ------------------ | ------ |\n",
    "| **Male**   | 74 out of 80 (93%)| 234 out of 270 (87%)| 350   |\n",
    "| **Female** | 193 out of 270 (71%)| 54 out of 80 (68%)| 350 | \n",
    "| **Total**  | 267 out of 350 (76%)| 288 out of 350 (82%)| 700 |  "
   ]
  },
  {
   "cell_type": "code",
   "execution_count": 5,
   "metadata": {
    "ExecuteTime": {
     "end_time": "2020-04-20T04:24:31.119444Z",
     "start_time": "2020-04-20T04:24:31.116178Z"
    }
   },
   "outputs": [
    {
     "data": {
      "application/javascript": [
       "\n",
       "        (function(element){\n",
       "            require(['tree'], function(tree) {\n",
       "                tree(element.get(0), [[\"drug\", \"recovery\"], [\"sex\", \"drug\"], [\"sex\", \"recovery\"]], {}, 600, 400);\n",
       "            });\n",
       "        })(element);\n",
       "    "
      ],
      "text/plain": [
       "<IPython.core.display.Javascript object>"
      ]
     },
     "metadata": {},
     "output_type": "display_data"
    }
   ],
   "source": [
    "# DAG\n",
    "draw_dag({'drug': ['recovery'], 'sex': ['drug', 'recovery']})"
   ]
  },
  {
   "cell_type": "markdown",
   "metadata": {},
   "source": [
    "i.e. `sex` is a confounder, but `drug` also has a direct effect as well.\n",
    "\n",
    "We want to know what would happen if we lived in a world where we gave everyone Drug A (instead of letting sex influence the choice). The only actual data we have to hand are the observed rates in the table above. The rules we use for intervening, if there is only a single intervention $X=x$, are\n",
    "\n",
    "0. We delete all incoming edges into $X$, because we are setting its value by hand. This is the modified graph.\n",
    "1. We are now dealing with a modified probability distribution $P_m$, the probability distribution that would exist if we had instead force the intervention. It is described by the modified DAG.\n",
    "2. Probabilities that don't include $X$, and are not conditioned on $X$, are the same in the modified and original distribution (i.e. we only affect probabilities where $X$ enters the picture -- we don't care how we got those values)\n",
    "3. This is the trickiest one: the backdoor criterion. In this case it claims that \n",
    "  $$P_m(\\text{recovery}|D, \\text{SEX}) = P(\\text{recovery}|D, \\text{SEX})$$\n",
    "  i.e. if we know the drug taken and the sex of the patient, the effect is the same regardless of whether the drug was imposed (intervention) or assigned by some other means (such as rationing by gender).\n",
    "\n",
    "Let's first look at the observational data: what is P(recover|drug A) - P(recover | drug B)? We have\n",
    "$$P(\\text{recover}|\\text{drug A}) = 267/350\\approx 0.76, \\quad\\quad P(\\text{recover}|\\text{drug B}) = 288/350\\approx 0.82$$\n",
    "so the observed difference in treatment is $0.76-0.82 = -0.06$. i.e. a randomly drawn person from the data set has a 6pp higher chance of recovering if they were on drug B. As discussed last time, this is because drug B is largely made up of male patients, and male patients have a better chance of recovering on either drug. It doesn't tell us what to expect if we forced everyone onto drug A, vs forcing everyone onto drug B.\n",
    "\n",
    "To answer the second question, we need the modified probabilities. The modified DAG is"
   ]
  },
  {
   "cell_type": "code",
   "execution_count": 6,
   "metadata": {
    "ExecuteTime": {
     "end_time": "2020-04-20T04:24:31.123820Z",
     "start_time": "2020-04-20T04:24:31.120570Z"
    }
   },
   "outputs": [
    {
     "data": {
      "application/javascript": [
       "\n",
       "        (function(element){\n",
       "            require(['tree'], function(tree) {\n",
       "                tree(element.get(0), [[\"drug\", \"recovery\"], [\"sex\", \"recovery\"]], {}, 600, 400);\n",
       "            });\n",
       "        })(element);\n",
       "    "
      ],
      "text/plain": [
       "<IPython.core.display.Javascript object>"
      ]
     },
     "metadata": {},
     "output_type": "display_data"
    }
   ],
   "source": [
    "# delete all arrows into \"drug\", as we set that by hand\n",
    "draw_dag({'drug': ['recovery'], 'sex': ['recovery']})"
   ]
  },
  {
   "cell_type": "markdown",
   "metadata": {},
   "source": [
    "We have\n",
    "\\begin{align*}\n",
    "P_m(\\text{recover} | D) &= \\sum_{\\text{sex}\\in\\{M,F\\}} P_m(\\text{recover} | D, \\,\\text{sex}) P_m(\\text{sex}|D)&\\text{[Baye's theorem for any prob distribution]}\\\\\n",
    "&=  \\sum_{\\text{sex}\\in\\{M,F\\}} P_m(\\text{recover} | D, \\,\\text{sex}) P_m(\\text{sex})&\\text{[In modified graph, sex (and everything else) is independent of D]}\\\\\n",
    "&= \\sum_{\\text{sex}\\in\\{M,F\\}} P_m(\\text{recover} | D, \\,\\text{sex}) P(\\text{sex}) & \\text{[P(sex) doesn't use the intervening variable]}\\\\\n",
    "&= \\sum_{\\text{sex}\\in\\{M,F\\}} P(\\text{recover} | D, \\,\\text{sex}) P(\\text{sex}) &\\text{[Backdoor argument, doesn't matter how sex and D are set]}\n",
    "\\end{align*}\n",
    "\n"
   ]
  },
  {
   "cell_type": "markdown",
   "metadata": {},
   "source": [
    "Later, in chapter 3, we make the backdoor argument more generalizable. If we buy into this, however, we get the modified distribution on the left, and only observational probabilities on the right. If we forced everyone to take drug A:"
   ]
  },
  {
   "cell_type": "markdown",
   "metadata": {},
   "source": [
    "\\begin{align*}\n",
    "P_m(\\text{recover}|D=a) &= P(\\text{recover}|D=a,\\,\\,S=M)P(M) + P(\\text{recover}|D=a,\\,\\,S=F)P(F)\\\\\n",
    "&= (0.93)(0.5) + (0.71)(0.5)\\\\\n",
    "&= 0.82\n",
    "\\end{align*}\n",
    "A similar calculation gives $P_m(\\text{recover}|D=b) = 0.775$, and we see the difference between a world where everyone took drug A and everyone took drug B is 0.044; i.e. 4.4pp more people would recover in a world where everyone took drug A.\n",
    "\n",
    "i.e. this calculation told us to calculate the average rate by sex, then take the straight average of the two sexes."
   ]
  },
  {
   "cell_type": "markdown",
   "metadata": {},
   "source": [
    "### What does the blood pressure example look like?\n",
    "\n",
    "In the blood pressure example, we had the same numerical values, but concluded the right thing to do was to ignore blood pressure and pool everyone. Specifically we had the table\n",
    "\n",
    "\n",
    "| post-treatment BP  | Drug A recoveries | Drug B  recoveries |  Total |\n",
    "| ---------- | ----------------- | ------------------ | ------ |\n",
    "| **Low**   | 74 out of 80 (93%)| 234 out of 270 (87%)| 350   |\n",
    "| **High** | 193 out of 270 (71%)| 54 out of 80 (68%)| 350 | \n",
    "| **Total**  | 267 out of 350 (76%)| 288 out of 350 (82%)| 700 |  \n",
    "\n",
    "and the DAG"
   ]
  },
  {
   "cell_type": "code",
   "execution_count": 7,
   "metadata": {
    "ExecuteTime": {
     "end_time": "2020-04-20T04:24:31.127735Z",
     "start_time": "2020-04-20T04:24:31.124904Z"
    }
   },
   "outputs": [
    {
     "data": {
      "application/javascript": [
       "\n",
       "        (function(element){\n",
       "            require(['tree'], function(tree) {\n",
       "                tree(element.get(0), [[\"drug\", \"BP\"], [\"drug\", \"recovery\"], [\"BP\", \"recovery\"]], {}, 600, 400);\n",
       "            });\n",
       "        })(element);\n",
       "    "
      ],
      "text/plain": [
       "<IPython.core.display.Javascript object>"
      ]
     },
     "metadata": {},
     "output_type": "display_data"
    }
   ],
   "source": [
    "draw_dag({'drug': ['BP', 'recovery'], 'BP':['recovery']})"
   ]
  },
  {
   "cell_type": "markdown",
   "metadata": {},
   "source": [
    "What is $P_m(\\text{recovery}|D)$, where we force everyone to take the drug A or B? \n",
    "\n",
    "- There are no arrows coming into `drug`, so the modified DAG is the same.\n",
    "- $P_m(BP|D)=P(BP|D)$ as it doesn't matter how $D$ got its value. This edge didn't exist in the sex/drug case.\n",
    "- $P_m(\\text{recovery}) | BP, D) = P(\\text{recovery}|BP, D)$, as recovery only depends on the values of $D$ and $BP$, not how they got there. This is the same argument as the sex / drug case.\n",
    "\n",
    "Okay, so we have\n",
    "\\begin{align*}\n",
    "P_m(\\text{recovery}|D) &= \\sum_{\\text{BP}}P_m(\\text{recovery}|D,\\, BP)P_m(BP | D) &\\text{[Baye's rule]}\\\\\n",
    "&= \\sum_{\\text{BP}}P(\\text{recovery}|D,\\, BP)P(BP | D) &\\text{[Bullet points 2 and 3]}\\\\\n",
    "&= P(\\text{recovery}|D) &\\text{[Baye's rule]}\n",
    "\\end{align*}\n",
    "i.e. for this DAG, the observed difference in drug effects is the same as if we intervened (-6pp). \n",
    "\n",
    "### What just happened?\n",
    "\n",
    "In the sex/drug case, we didn't have $P_m(\\text{sex}|D)$ being the same as $P(\\text{sex}|D)$. In the observational data set, your sex had an influence over which drug you were given. In the intervention case, everyone was given the same drug. That leads to a difference in the modified and intervention distributions.\n",
    "\n",
    "In the blood pressure case, the BP was set by the drug that you took, regardless of how that drug was assigned. The distribution would be the same for both mechanisms."
   ]
  },
  {
   "cell_type": "markdown",
   "metadata": {},
   "source": [
    "## Making the backdoor criteria feel more formal\n",
    "\n",
    "It may feel a little ad-hoc which probabilties in the modified distribution are the same, and which ones are different. If we have an intervention on a variable $X$, probabilities that don't have $X$ \\emph{or} are not conditioned on $X$ are the same in the modified and unmodified case.\n",
    "\n",
    "A simplified version of the backdoor criteria is, if we intervene to set $X=x$\n",
    "$$P_m(Y | X=x, Z) = P(Y| X=x, Z) \\text{ if $Y$ and $X$ are conditionally independent after (i) removing edges FROM X and (ii) controlling for Z}$$\n",
    "i.e. this is one place we can ignore the difference between \"setting\" and \"observing\" can be ignored.\n",
    "\n",
    "To gain intuition about why this is the case, consider how in an observational setting we could have $X$ and $Y$ be related:\n",
    "1. Changes in X could change Y directly\n",
    "2. Changes in X could change other things, that could change Y\n",
    "3. Changes in confounders could change X and Y together, giving a non-causal contribution.\n",
    "\n",
    "If we intervene, paths 1 and 2 are still valid ways for changes in X to change Y, but contributions from paths of type 3 will differ, because we have stopped $X$ from being influenced by other things. So we want to identify if we have blocked all possible paths that contribute to 3.\n",
    "\n",
    "Let's search for the dangerous paths and make sure they are blocked. All paths of type 1 and 2 start with edges coming from X. We want those effects, and are not the dangerous paths we are looking for, so throw those away for now (we only want to identify dangerous paths). In this modified graph, are $X$ and $Y$ d-seperated, after controlling for $Z$? If the answer is yes, then it makes no difference how $X$ gets it's value as \n",
    "$$P(Y | X, Z) = P(Y | Z)$$\n",
    "by definition of $Z$ separation. If the answer is no, then changing $X$ will change $Y$ along these \"unwanted\" paths -- i.e. some of the type 3 information will leak, and the \"intervention\" probabilities and the \"observation\" probabilities will differ.\n",
    "\n",
    "Note that in our backdoor formula actually works for a \\emph{set} of nodes $Z$, not just a single node. Let's go through a complex-ish DAG and see how to apply it."
   ]
  },
  {
   "cell_type": "code",
   "execution_count": 8,
   "metadata": {
    "ExecuteTime": {
     "end_time": "2020-04-20T04:24:31.132947Z",
     "start_time": "2020-04-20T04:24:31.129469Z"
    }
   },
   "outputs": [
    {
     "data": {
      "application/javascript": [
       "\n",
       "        (function(element){\n",
       "            require(['tree'], function(tree) {\n",
       "                tree(element.get(0), [[\"weight\", \"recovery\"], [\"drug\", \"recovery\"], [\"drug\", \"weight\"], [\"sex\", \"drug\"], [\"sex\", \"weight\"]], {\"sex\": [50, 50], \"weight\": [300, 50], \"drug\": [50, 300], \"recovery\": [300, 300]}, 600, 400);\n",
       "            });\n",
       "        })(element);\n",
       "    "
      ],
      "text/plain": [
       "<IPython.core.display.Javascript object>"
      ]
     },
     "metadata": {},
     "output_type": "display_data"
    }
   ],
   "source": [
    "positions = {'sex': [50,50], 'weight': [300,50], 'drug': [50,300], 'recovery': [300,300]}\n",
    "\n",
    "draw_dag({'weight': ['recovery'], \n",
    "          'drug': ['recovery', 'weight'],\n",
    "          'sex': ['drug', 'weight']}, \n",
    "         positions=positions)\n",
    "    "
   ]
  },
  {
   "cell_type": "markdown",
   "metadata": {},
   "source": [
    "Should we condition on sex, or can we just use observational data to determine the drug effectiveness?\n",
    "\n",
    "First we eliminate the actual effects we are interested in (recall we are looking for nuisance paths). This gives us"
   ]
  },
  {
   "cell_type": "code",
   "execution_count": 9,
   "metadata": {
    "ExecuteTime": {
     "end_time": "2020-04-20T04:24:31.138842Z",
     "start_time": "2020-04-20T04:24:31.134809Z"
    }
   },
   "outputs": [
    {
     "data": {
      "application/javascript": [
       "\n",
       "        (function(element){\n",
       "            require(['tree'], function(tree) {\n",
       "                tree(element.get(0), [[\"weight\", \"recovery\"], [\"sex\", \"drug\"], [\"sex\", \"weight\"]], {\"sex\": [50, 50], \"weight\": [300, 50], \"drug\": [50, 300], \"recovery\": [300, 300]}, 600, 400);\n",
       "            });\n",
       "        })(element);\n",
       "    "
      ],
      "text/plain": [
       "<IPython.core.display.Javascript object>"
      ]
     },
     "metadata": {},
     "output_type": "display_data"
    }
   ],
   "source": [
    "draw_dag({'weight': ['recovery'], \n",
    "          'drug': [],\n",
    "          'sex': ['drug', 'weight']}, \n",
    "         positions=positions)"
   ]
  },
  {
   "cell_type": "markdown",
   "metadata": {},
   "source": [
    "We see if nothing is controlled for, drug is not independent of anything on this graph, so\n",
    "$$P_m(anything | drug) \\neq P(anything | drug)$$\n",
    "In particular, we would expect the distribution $P_m(recovery|drug)$ based on intervention to \\emph{not} match the observed distribution. \n",
    "\n",
    "On the other hand, controlling either `sex` or `weight` blocks this path, so we have\n",
    "$$P_m(\\text{recovery}|\\text{drug}, \\text{sex}) = P(\\text{recovery}|\\text{drug}, \\text{sex})$$\n",
    "and\n",
    "$$P_m(\\text{recovery}|\\text{drug}, \\text{weight}) = P(\\text{recovery}|\\text{drug}, \\text{weight})$$\n",
    "and\n",
    "$$P_m(\\text{recovery}|\\text{drug}, \\text{sex}, \\text{weight}) = P(\\text{recovery}|\\text{drug}, \\text{sex}, \\text{weight})$$\n"
   ]
  },
  {
   "cell_type": "markdown",
   "metadata": {},
   "source": [
    "### Example (Problem 3.3.1 in Pearl)\n",
    "\n",
    "1. List all of the sets of variables that satisfy the backdoor criterion to determine the causal\n",
    "effect of X on Y.\n",
    "2. List all of the minimal sets of variables that satisfy the backdoor criterion to determine the causal effect of X on Y (i.e., any set of variables such that, if you removed any one of the variables from the set, it would no longer meet the criterion).\n",
    "3. List all minimal sets of variables that need be measured in order to identify the effect of D on Y. Repeat, for the effect of {W, D} on Y"
   ]
  },
  {
   "cell_type": "code",
   "execution_count": 13,
   "metadata": {
    "ExecuteTime": {
     "end_time": "2020-04-20T04:26:58.489876Z",
     "start_time": "2020-04-20T04:26:58.483957Z"
    }
   },
   "outputs": [
    {
     "data": {
      "application/javascript": [
       "\n",
       "        (function(element){\n",
       "            require(['tree'], function(tree) {\n",
       "                tree(element.get(0), [[\"A\", \"X\"], [\"B\", \"A\"], [\"B\", \"Z\"], [\"C\", \"D\"], [\"C\", \"Z\"], [\"D\", \"Y\"], [\"W\", \"Y\"], [\"X\", \"W\"], [\"Z\", \"X\"], [\"Z\", \"Y\"]], {\"B\": [100, 100], \"C\": [500, 100], \"A\": [100, 300], \"Z\": [300, 300], \"D\": [500, 300], \"X\": [100, 500], \"W\": [300, 500], \"Y\": [500, 500]}, 600, 400);\n",
       "            });\n",
       "        })(element);\n",
       "    "
      ],
      "text/plain": [
       "<IPython.core.display.Javascript object>"
      ]
     },
     "metadata": {},
     "output_type": "display_data"
    }
   ],
   "source": [
    "COL0, COL1, COL2 = 100, 300, 500\n",
    "ROW0 ,ROW1, ROW2 = 100, 300, 500\n",
    "\n",
    "positions = {'B': [COL0, ROW0], 'C': [COL2, ROW0],\n",
    "             'A': [COL0, ROW1], 'Z': [COL1, ROW1], 'D':[COL2, ROW1],\n",
    "             'X': [COL0, ROW2], 'W': [COL1, ROW2], 'Y':[COL2, ROW2]}\n",
    "draw_dag({'A': ['X'], 'B': ['A', 'Z'], 'C': ['D', 'Z'],\n",
    "          'D': ['Y'], 'W': ['Y'], 'X' :['W'], 'Z': ['X','Y']}, positions=positions)"
   ]
  },
  {
   "cell_type": "markdown",
   "metadata": {},
   "source": [
    "To answer 1, let's isolate the dangerous paths and find sets of variables that block the remaining paths"
   ]
  },
  {
   "cell_type": "code",
   "execution_count": 14,
   "metadata": {
    "ExecuteTime": {
     "end_time": "2020-04-20T04:29:14.854884Z",
     "start_time": "2020-04-20T04:29:14.850726Z"
    }
   },
   "outputs": [
    {
     "data": {
      "application/javascript": [
       "\n",
       "        (function(element){\n",
       "            require(['tree'], function(tree) {\n",
       "                tree(element.get(0), [[\"A\", \"X\"], [\"B\", \"A\"], [\"B\", \"Z\"], [\"C\", \"D\"], [\"C\", \"Z\"], [\"D\", \"Y\"], [\"W\", \"Y\"], [\"Z\", \"X\"], [\"Z\", \"Y\"]], {\"B\": [100, 100], \"C\": [500, 100], \"A\": [100, 300], \"Z\": [300, 300], \"D\": [500, 300], \"X\": [100, 500], \"W\": [300, 500], \"Y\": [500, 500]}, 600, 400);\n",
       "            });\n",
       "        })(element);\n",
       "    "
      ],
      "text/plain": [
       "<IPython.core.display.Javascript object>"
      ]
     },
     "metadata": {},
     "output_type": "display_data"
    }
   ],
   "source": [
    "draw_dag({'A': ['X'], 'B': ['A', 'Z'], 'C': ['D', 'Z'],\n",
    "          'D': ['Y'], 'W': ['Y'], 'X' :[], 'Z': ['X','Y']}, positions=positions)"
   ]
  },
  {
   "cell_type": "markdown",
   "metadata": {},
   "source": [
    "The paths from $X$ to $Y$:\n",
    "- Path 1: X to A to B to Z to Y\n",
    "- Path 2: X to A to B to Z to C to D to Y\n",
    "- Path 3: X to Z to Y\n",
    "- Path 4: X to Z to C to D to Y\n",
    "\n",
    "Path 3 is blocked if and only if we control for Z. So Z is always in the conditioned set.\n",
    "\n",
    "Path 1 is not blocked by Z (we have to condition on Z). Path 1 is blocked if at least one of A or B is conditioned on. \n",
    "\n",
    "Once we block Path 1 and Path 3, then 1 and 2 are blocked. It is optional whether we block C or D.\n",
    "\n",
    "Blocking sets are therefore\n",
    "- {Z, A}\n",
    "- {Z, B}\n",
    "- {Z, A, B}\n",
    "- {Z, A, C}\n",
    "- {Z, A, D}\n",
    "- {Z, A, C, D}\n",
    "- {Z, B, C}\n",
    "- {Z, B, D}\n",
    "- {Z, B, C, D}\n",
    "- {Z, A, B, C}\n",
    "- {Z, A, B, D}\n",
    "- {Z, A, B, C, D}\n",
    "\n",
    "Minimal sets are \n",
    "- {Z, A}\n",
    "- {Z, B}\n",
    "\n"
   ]
  },
  {
   "cell_type": "code",
   "execution_count": null,
   "metadata": {},
   "outputs": [],
   "source": []
  }
 ],
 "metadata": {
  "kernelspec": {
   "display_name": "causal",
   "language": "python",
   "name": "causal"
  },
  "language_info": {
   "codemirror_mode": {
    "name": "ipython",
    "version": 3
   },
   "file_extension": ".py",
   "mimetype": "text/x-python",
   "name": "python",
   "nbconvert_exporter": "python",
   "pygments_lexer": "ipython3",
   "version": "3.8.2"
  },
  "varInspector": {
   "cols": {
    "lenName": 16,
    "lenType": 16,
    "lenVar": 40
   },
   "kernels_config": {
    "python": {
     "delete_cmd_postfix": "",
     "delete_cmd_prefix": "del ",
     "library": "var_list.py",
     "varRefreshCmd": "print(var_dic_list())"
    },
    "r": {
     "delete_cmd_postfix": ") ",
     "delete_cmd_prefix": "rm(",
     "library": "var_list.r",
     "varRefreshCmd": "cat(var_dic_list()) "
    }
   },
   "types_to_exclude": [
    "module",
    "function",
    "builtin_function_or_method",
    "instance",
    "_Feature"
   ],
   "window_display": false
  }
 },
 "nbformat": 4,
 "nbformat_minor": 2
}
