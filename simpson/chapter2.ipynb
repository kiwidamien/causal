{
 "cells": [
  {
   "cell_type": "markdown",
   "metadata": {},
   "source": [
    "# Chapter 2: Graphical Models and their applications\n",
    "\n",
    "Reading material is [here](http://bayes.cs.ucla.edu/PRIMER/primer-ch2.pdf)\n",
    "\n",
    "I don't think the title is great, for me this chapter was more of an \"anatomy of DAGs\", while chapters 3 & 4 were more about the applications. The critical part for me was $\\S$2.4 on $d$-separation. \n",
    "\n",
    "The material in $\\S$2.5 was okay (testing a causal model), but this material is covered again -- and with more rigor _and_ practical application -- in $\\S$3.3 (page 65, where it is made as a comment at the end of a long section)."
   ]
  },
  {
   "cell_type": "markdown",
   "metadata": {},
   "source": [
    "## Conditional independence\n",
    "\n",
    "$\\S$1.3.4 defined independent and conditionally independent events. It is worth revisiting these concepts again. \n",
    "\n",
    "In many probability texts, the intersection $A \\bigcap B$ is used, which makes sense for subsets of outcomes $A$ and $B$. Where we have random variables $A$ and $B$, instead of using subsets like $(A = a)\\bigcap(B=b)$, I will use the notation $(A=a, B=b)$.\n",
    "\n",
    "\n",
    "### Independent\n",
    "\n",
    "There are two ways we traditionally think of events $A$ and $B$ being independent. One is the simple\n",
    "$$P(A, B) = P(A)P(B)$$\n",
    "where we have taken Pearl's $(A, B)$ for \"A and B\" over the more set theoretic $A \\bigcap B$, as we generally will be using random variables. \n",
    "\n",
    "\n",
    "A more natural definition is\n",
    "$$P(A | B) = P(A)$$\n",
    "i.e. knowing $B$ doesn't change the probabilities of $A$. In my view, this is more directly connected to the name."
   ]
  },
  {
   "cell_type": "markdown",
   "metadata": {
    "heading_collapsed": true
   },
   "source": [
    "#### Proof"
   ]
  },
  {
   "cell_type": "markdown",
   "metadata": {
    "hidden": true
   },
   "source": [
    "To see these definitions are equivalent, let's show the first implies the second. We have for any events\n",
    "$$P(A | B) = P(A, B) / P(B) \\Rightarrow P(A, B) = P(A | B) P(B)$$\n",
    "If we have the first statement, $P(A,B) = P(A)P(B)$,\n",
    "$$P(A)P(B) = P(A | B) P(B)$$\n",
    "Provided $P(B) \\neq 0$ we can cancel the $P(B)$ from each side, and get $P(A) = P(A|B)$ as promised. If $P(B) = 0$, then $P(A|B)$ is generally not sensible (e.g. \"what is the probability it is sunny outside given that I rolled a 8 on my normal 6-sided die\"). So I guess I should change the definition to\n",
    "$$P(A=a | B=b) = P(A=a), \\text{ for all values $b$ which can occur, means $A$ and $B$ are independent}$$\n",
    "\n",
    "To show the second implies the first, let's start with $P(A|B) = P(A)$. Then\n",
    "$$P(A, B) = P(A|B)P(B) = P(A)P(B)$$\n",
    "QED"
   ]
  },
  {
   "cell_type": "markdown",
   "metadata": {},
   "source": [
    "### Conditionally independent\n",
    "\n",
    "We say _A and B are conditionally independent given C_ if\n",
    "$$P(A | B, C) = P(A | C)$$\n",
    "\n",
    "Here are two consequences\n",
    "1. This is a symmetric relationship, so $P(B| A,C) = P(B|C)$ if the above holds\n",
    "2. If A, B, and C are all independent, then $A$ and $B$ are still conditionally independent given $C$"
   ]
  },
  {
   "cell_type": "markdown",
   "metadata": {
    "heading_collapsed": true
   },
   "source": [
    "#### Proof of 1 (symmetric)"
   ]
  },
  {
   "cell_type": "markdown",
   "metadata": {
    "hidden": true
   },
   "source": [
    "They are pretty natural given the name, as well as being intuitive. To show the first one, for any events $A$, $B$, and $C$ we have\n",
    "$$P(A, B, C) = P(A | B, C)P(B, C) = P(B | A, C)P(A,C)$$\n",
    "If $A$ and $B$ are independent conditional on $C$, we get\n",
    "$$P(A | C)P(B, C) = P(B| A,C)P(A, C)$$\n",
    "We know $P(A, C) = P(A | C)P(C)$, so\n",
    "$$P(A|C)P(B,C) = P(B|A, C) P(A|C) P(C)$$\n",
    "Canceling\n",
    "$$P(B,C) = P(B|A, C)P(C)$$\n",
    "We also have $P(B, C) = P(B|C)P(C)$, and we can cancel $P(C)$ from both sides, leaving\n",
    "$$P(B|C) = P(B| A, C)$$\n",
    "which is what we intended to show. (Note the possibilities were I canceled things implicitly assumed those quantities were not zero; like the previous case this means I am assuming that I don't condition on things that cannot happen)"
   ]
  },
  {
   "cell_type": "markdown",
   "metadata": {},
   "source": [
    "## Anatomy of a DAG"
   ]
  },
  {
   "cell_type": "code",
   "execution_count": null,
   "metadata": {},
   "outputs": [],
   "source": []
  }
 ],
 "metadata": {
  "kernelspec": {
   "display_name": "Python 3",
   "language": "python",
   "name": "python3"
  },
  "language_info": {
   "codemirror_mode": {
    "name": "ipython",
    "version": 3
   },
   "file_extension": ".py",
   "mimetype": "text/x-python",
   "name": "python",
   "nbconvert_exporter": "python",
   "pygments_lexer": "ipython3",
   "version": "3.7.6"
  },
  "varInspector": {
   "cols": {
    "lenName": 16,
    "lenType": 16,
    "lenVar": 40
   },
   "kernels_config": {
    "python": {
     "delete_cmd_postfix": "",
     "delete_cmd_prefix": "del ",
     "library": "var_list.py",
     "varRefreshCmd": "print(var_dic_list())"
    },
    "r": {
     "delete_cmd_postfix": ") ",
     "delete_cmd_prefix": "rm(",
     "library": "var_list.r",
     "varRefreshCmd": "cat(var_dic_list()) "
    }
   },
   "types_to_exclude": [
    "module",
    "function",
    "builtin_function_or_method",
    "instance",
    "_Feature"
   ],
   "window_display": false
  }
 },
 "nbformat": 4,
 "nbformat_minor": 2
}
