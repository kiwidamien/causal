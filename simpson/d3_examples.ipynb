{
 "cells": [
  {
   "cell_type": "markdown",
   "metadata": {},
   "source": [
    "## Render d3 imports"
   ]
  },
  {
   "cell_type": "code",
   "execution_count": 1,
   "metadata": {
    "ExecuteTime": {
     "end_time": "2020-04-13T05:47:32.195221Z",
     "start_time": "2020-04-13T05:47:32.181621Z"
    }
   },
   "outputs": [
    {
     "data": {
      "application/javascript": [
       "require.config({paths: {d3: 'https://d3js.org/d3.v5.js'}});"
      ],
      "text/plain": [
       "<IPython.core.display.Javascript object>"
      ]
     },
     "metadata": {},
     "output_type": "display_data"
    },
    {
     "data": {
      "application/javascript": [
       "  \n",
       "// First undefine 'circles' so we can easily reload this file.\n",
       "require.undef('circles');\n",
       "\n",
       "define('circles', ['d3'], function (d3) {\n",
       "\n",
       "    function draw(container, data, width, height) {\n",
       "        width = width || 600;\n",
       "        height = height || 200;\n",
       "        console.log(data);\n",
       "        var svg = d3.select(container).append(\"svg\")\n",
       "            .attr('width', width)\n",
       "            .attr('height', height)\n",
       "            .append(\"g\");\n",
       "\n",
       "        var x = d3.scaleLinear()\n",
       "            .domain([0, data.length - 1])\n",
       "            .range([50, width - 50]);\n",
       "\n",
       "        var circles = svg.selectAll('circle').data(data);\n",
       "\n",
       "        circles.enter()\n",
       "            .append('circle')\n",
       "            .attr(\"cx\", function (d, i) {return x(i);})\n",
       "            .attr(\"cy\", height / 2)\n",
       "            .attr(\"r\", 20)\n",
       "            .style(\"fill\", \"#1f77b4\")\n",
       "            .style(\"opacity\", 0.7)\n",
       "            .on('mouseover', function() {\n",
       "                d3.select(this)\n",
       "                  .interrupt('fade')\n",
       "                  .style('fill', '#ff850e')\n",
       "                  .style(\"opacity\", 1)\n",
       "                  .attr(\"r\", function (d) {return 1.1 * d + 10;});\n",
       "            })\n",
       "            .on('mouseout', function() {\n",
       "                d3.select(this)\n",
       "                    .transition('fade').duration(500)\n",
       "                    .style(\"fill\", \"#1f77b4\")\n",
       "                    .style(\"opacity\", 0.7)\n",
       "                    .attr(\"r\", function (d) {return d;});\n",
       "            })\n",
       "            .transition().duration(2000)\n",
       "            .attr(\"r\", function (d) {return d;});\n",
       "    }\n",
       "\n",
       "    return draw;\n",
       "});\n",
       "\n",
       "element.append('<small>&#x25C9; &#x25CB; &#x25EF; Loaded circles.js &#x25CC; &#x25CE; &#x25CF;</small>');"
      ],
      "text/plain": [
       "<IPython.core.display.Javascript object>"
      ]
     },
     "metadata": {},
     "output_type": "display_data"
    },
    {
     "data": {
      "text/html": [
       "<style>\n",
       "\n",
       ".link {\n",
       "  stroke: #aaa;\n",
       "}\n",
       "\n",
       ".node text {\n",
       "stroke:#333;\n",
       "cursos:pointer;\n",
       "}\n",
       "\n",
       ".node circle{\n",
       "stroke:#fff;\n",
       "stroke-width:3px;\n",
       "fill:#555;\n",
       "}\n",
       "\n",
       "</style>\n"
      ],
      "text/plain": [
       "<IPython.core.display.HTML object>"
      ]
     },
     "metadata": {},
     "output_type": "display_data"
    },
    {
     "data": {
      "text/html": [
       "<style>\n",
       "svg {\n",
       "    width: 100vw;\n",
       "    height: 100vh;\n",
       "}\n",
       "\n",
       ".edge {\n",
       "    stroke: #555;\n",
       "}\n",
       "\n",
       ".node>text {\n",
       "    stroke: #333;\n",
       "}\n",
       "\n",
       ".node>circle {\n",
       "    stroke: #555;\n",
       "    stroke-width: 3px;\n",
       "    fill: white;\n",
       "    cursor: pointer;\n",
       "}\n",
       "</style>"
      ],
      "text/plain": [
       "<IPython.core.display.HTML object>"
      ]
     },
     "metadata": {},
     "output_type": "display_data"
    },
    {
     "data": {
      "application/javascript": [
       "require.undef('tree');\n",
       "\n",
       "define('tree', ['d3'], (d3) => {\n",
       "    const draw = (container, data, width, height) => {\n",
       "        width = width || 600;\n",
       "        height = height || 200;\n",
       "         console.log('tree called');\n",
       "        const svg = d3.select(container)\n",
       "                      .append('svg')\n",
       "                      .attr('width', width)\n",
       "                      .attr('height', height)\n",
       "                      .append('g');\n",
       "        \n",
       "        /*\n",
       "         * Script here taken and modified from\n",
       "         * https://gist.github.com/strawstack/bd339d1b304a6bf02d68bfdc80e1f2d1\n",
       "         * \n",
       "         * Accompying blog post:\n",
       "         * https://regularmemory.blog/post/draggable-network-graph-with-d3js/\n",
       "         */\n",
       "\n",
       "        // Object to hold nodes and edges\n",
       "        let graph = {\"nodes\": {}, \"edges\": []};\n",
       "\n",
       "        // For each edge from graph.json\n",
       "        // create an object with a source and target\n",
       "        data.forEach(edge => graph.edges.push({\n",
       "            \"source\": edge[0],\n",
       "            \"target\": edge[1]\n",
       "        }));\n",
       "\n",
       "        // Create flat (1-dimensional) array from the list of edges\n",
       "        let nodes = data.flat();\n",
       "        // Remove duplicates from the list of vertices\n",
       "        nodes = [...new Set(nodes)];\n",
       "\n",
       "        // Create dictionary where each node will map to its properties\n",
       "        for (node of nodes) {\n",
       "            graph.nodes[node] = {\n",
       "                \"label\": node,\n",
       "                // Assign random coordinates to each vertex\n",
       "                \"x\": Math.random() * 500 + 100,\n",
       "                \"y\": Math.random() * 500 + 100\n",
       "            };\n",
       "        }\n",
       "\n",
       "        // Add node refs to each link\n",
       "        graph.edges.forEach(d => {\n",
       "            d.source = graph.nodes[d.source];\n",
       "            d.target = graph.nodes[d.target];\n",
       "        });\n",
       "        \n",
       "        svg.append('defs').append('marker')\n",
       "    .attr(\"id\",'arrowhead')\n",
       "    .attr('viewBox','-0 -5 10 10') //the bound of the SVG viewport for the current SVG fragment. defines a coordinate system 10 wide and 10 high starting on (0,-5)\n",
       "     .attr('refX',23) // x coordinate for the reference point of the marker. If circle is bigger, this need to be bigger.\n",
       "     .attr('refY',0)\n",
       "     .attr('orient','auto')\n",
       "        .attr('markerWidth',13)\n",
       "        .attr('markerHeight',13)\n",
       "        .attr('xoverflow','visible')\n",
       "    .append('svg:path')\n",
       "    .attr('d', 'M 0,-5 L 10 ,0 L 0,5')\n",
       "    .attr('fill', '#999')\n",
       "    .style('stroke','none');\n",
       "\n",
       "        //console.log(graph);\n",
       "\n",
       "        var edge = svg.selectAll(\".edge\")\n",
       "            .data(graph.edges)\n",
       "            .enter().append(\"line\")\n",
       "            .attr(\"class\", \"edge\")\n",
       "            .attr(\"x1\", d => d.source.x)\n",
       "            .attr(\"y1\", d => d.source.y)\n",
       "            .attr(\"x2\", d => d.target.x)\n",
       "            .attr(\"y2\", d => d.target.y)\n",
       "            .attr('marker-end','url(#arrowhead)');\n",
       "\n",
       "        var node = svg.selectAll(\"node\")\n",
       "            .data(Object.values(graph.nodes))\n",
       "            .enter().append(\"g\")\n",
       "            .attr(\"class\", \"node\");\n",
       "\n",
       "        node.append(\"circle\")\n",
       "            .attr(\"r\", 20)\n",
       "            .attr(\"cx\", d => d.x)\n",
       "            .attr(\"cy\", d => d.y)\n",
       "            .call(d3.drag().on(\"drag\", dragged));\n",
       "\n",
       "        node.append(\"text\")\n",
       "            .attr(\"dx\", d => d.x)\n",
       "            .attr(\"dy\", d => d.y)\n",
       "            .attr(\"text-anchor\", \"middle\")\n",
       "            .attr(\"dominant-baseline\", \"central\")\n",
       "            .attr(\"pointer-events\", \"none\")\n",
       "            .text(d => d.label);\n",
       "\n",
       "        function dragged(d) {\n",
       "            d.x = d3.event.x, d.y = d3.event.y;\n",
       "            d3.select(this).attr(\"cx\", d.x).attr(\"cy\", d.y);\n",
       "            d3.select(this.parentNode).select(\"text\").attr(\"dx\", d.x).attr(\"dy\", d.y);\n",
       "            edge.filter(function(l) { return l.source === d; }).attr(\"x1\", d.x).attr(\"y1\", d.y);\n",
       "            edge.filter(function(l) { return l.target === d; }).attr(\"x2\", d.x).attr(\"y2\", d.y);\n",
       "        }\n",
       "\n",
       "\n",
       "    }\n",
       "    return draw;\n",
       "});\n",
       "\n",
       "element.append('<small>&#x25C9; &#x25CB; &#x25EF; Loaded tree.js &#x25CC; &#x25CE; &#x25CF;</small>');"
      ],
      "text/plain": [
       "<IPython.core.display.Javascript object>"
      ]
     },
     "metadata": {},
     "output_type": "display_data"
    },
    {
     "data": {
      "text/html": [
       "<style>\n",
       "svg {\n",
       "    width: 100vw;\n",
       "    height: 100vh;\n",
       "}\n",
       "\n",
       ".edge {\n",
       "    stroke: #555;\n",
       "}\n",
       "\n",
       ".node>text {\n",
       "    stroke: #333;\n",
       "}\n",
       "\n",
       ".node>circle {\n",
       "    stroke: #555;\n",
       "    stroke-width: 3px;\n",
       "    fill: white;\n",
       "    cursor: pointer;\n",
       "}\n",
       "</style>"
      ],
      "text/plain": [
       "<IPython.core.display.HTML object>"
      ]
     },
     "metadata": {},
     "output_type": "display_data"
    }
   ],
   "source": [
    "from IPython.display import display, Javascript, HTML\n",
    "import json\n",
    "\n",
    "# This is needed to load d3\n",
    "display(Javascript(\"require.config({paths: {d3: 'https://d3js.org/d3.v5.js'}});\"))\n",
    "display(Javascript(filename=\"circles.js\"))\n",
    "display(HTML(filename='tree.css.html'));\n",
    "display(HTML(filename='circles.css.html'));\n",
    "display(Javascript(filename=\"tree.js\"))\n",
    "display(HTML(filename=\"circles.css.html\"))"
   ]
  },
  {
   "cell_type": "code",
   "execution_count": 14,
   "metadata": {
    "ExecuteTime": {
     "end_time": "2020-04-13T05:50:20.637577Z",
     "start_time": "2020-04-13T05:50:20.633941Z"
    }
   },
   "outputs": [
    {
     "data": {
      "application/javascript": [
       "(function(element) {\n",
       "    require(['d3'], function(d3) {   \n",
       "        var data = [1, 2, 4, 8, 16, 8, 4, 2, 1]\n",
       "        console.log(data)\n",
       "        var svg = d3.select(element.get(0)).append('svg')\n",
       "            .attr('width', 400)\n",
       "            .attr('height', 200);\n",
       "        svg.selectAll('circle')\n",
       "            .data(data)\n",
       "            .enter()\n",
       "            .append('circle')\n",
       "            .attr(\"cx\", function(d, i) {return 40 * (i + 1);})\n",
       "            .attr(\"cy\", function(d, i) {return 100 + 30 * (i % 3 - 1);})\n",
       "            .style(\"fill\", \"#1570a4\")\n",
       "            .transition().duration(2000)\n",
       "            .attr(\"r\", function(d) {return 2*d;})\n",
       "        ;\n",
       "    })\n",
       "})(element);\n"
      ],
      "text/plain": [
       "<IPython.core.display.Javascript object>"
      ]
     },
     "metadata": {},
     "output_type": "display_data"
    }
   ],
   "source": [
    "%%javascript\n",
    "(function(element) {\n",
    "    require(['d3'], function(d3) {   \n",
    "        var data = [1, 2, 4, 8, 16, 8, 4, 2, 1]\n",
    "        console.log(data)\n",
    "        var svg = d3.select(element.get(0)).append('svg')\n",
    "            .attr('width', 400)\n",
    "            .attr('height', 200);\n",
    "        svg.selectAll('circle')\n",
    "            .data(data)\n",
    "            .enter()\n",
    "            .append('circle')\n",
    "            .attr(\"cx\", function(d, i) {return 40 * (i + 1);})\n",
    "            .attr(\"cy\", function(d, i) {return 100 + 30 * (i % 3 - 1);})\n",
    "            .style(\"fill\", \"#1570a4\")\n",
    "            .transition().duration(2000)\n",
    "            .attr(\"r\", function(d) {return 2*d;})\n",
    "        ;\n",
    "    })\n",
    "})(element);"
   ]
  },
  {
   "cell_type": "code",
   "execution_count": 3,
   "metadata": {
    "ExecuteTime": {
     "end_time": "2020-04-13T05:47:38.505988Z",
     "start_time": "2020-04-13T05:47:38.502988Z"
    }
   },
   "outputs": [],
   "source": [
    "def draw_circles(data, width=600, height=400):\n",
    "    display(Javascript(\"\"\"\n",
    "        (function(element){\n",
    "            require(['circles'], function(circles) {\n",
    "                circles(element.get(0), %s, %d, %d);\n",
    "            });\n",
    "        })(element);\n",
    "    \"\"\" % (json.dumps(data), width, height)))"
   ]
  },
  {
   "cell_type": "code",
   "execution_count": 4,
   "metadata": {
    "ExecuteTime": {
     "end_time": "2020-04-13T05:47:39.620694Z",
     "start_time": "2020-04-13T05:47:39.616243Z"
    }
   },
   "outputs": [
    {
     "data": {
      "application/javascript": [
       "\n",
       "        (function(element){\n",
       "            require(['circles'], function(circles) {\n",
       "                circles(element.get(0), [10, 10, 10, 20, 50, 30, 30, 10, 0, 10, 0, 0, 10, 10, 20], 800, 400);\n",
       "            });\n",
       "        })(element);\n",
       "    "
      ],
      "text/plain": [
       "<IPython.core.display.Javascript object>"
      ]
     },
     "metadata": {},
     "output_type": "display_data"
    }
   ],
   "source": [
    "draw_circles([10, 10, 10, 20, 50, 30, 30, 10, 0, 10, 0, 0, 10, 10, 20], width=800)"
   ]
  },
  {
   "cell_type": "code",
   "execution_count": 5,
   "metadata": {
    "ExecuteTime": {
     "end_time": "2020-04-13T05:47:42.656830Z",
     "start_time": "2020-04-13T05:47:42.653046Z"
    }
   },
   "outputs": [],
   "source": [
    "my_nodes = {\n",
    "  \"nodes\":[\n",
    "\t\t{\"name\":\"node1\",\"group\":1},\n",
    "\t\t{\"name\":\"node2\",\"group\":2},\n",
    "\t\t{\"name\":\"node3\",\"group\":2},\n",
    "\t\t{\"name\":\"node4\",\"group\":3}\n",
    "\t],\n",
    "\t\"links\":[\n",
    "\t\t{\"source\":2,\"target\":1,\"weight\":1},\n",
    "\t\t{\"source\":0,\"target\":2,\"weight\":3}\n",
    "\t]\n",
    "}"
   ]
  },
  {
   "cell_type": "code",
   "execution_count": 6,
   "metadata": {
    "ExecuteTime": {
     "end_time": "2020-04-13T05:47:43.196586Z",
     "start_time": "2020-04-13T05:47:43.191274Z"
    }
   },
   "outputs": [
    {
     "data": {
      "text/plain": [
       "{'nodes': [{'name': 'node1', 'group': 1},\n",
       "  {'name': 'node2', 'group': 2},\n",
       "  {'name': 'node3', 'group': 2},\n",
       "  {'name': 'node4', 'group': 3}],\n",
       " 'links': [{'source': 2, 'target': 1, 'weight': 1},\n",
       "  {'source': 0, 'target': 2, 'weight': 3}]}"
      ]
     },
     "execution_count": 6,
     "metadata": {},
     "output_type": "execute_result"
    }
   ],
   "source": [
    "my_nodes"
   ]
  },
  {
   "cell_type": "code",
   "execution_count": 7,
   "metadata": {
    "ExecuteTime": {
     "end_time": "2020-04-13T05:47:44.039165Z",
     "start_time": "2020-04-13T05:47:44.036488Z"
    }
   },
   "outputs": [],
   "source": [
    "network = [\n",
    "        [\"A\", \"B\"],\n",
    "        [\"C\", \"D\"],\n",
    "        [\"A\", \"C\"],\n",
    "        [\"C\", \"E\"]\n",
    "    ]\n"
   ]
  },
  {
   "cell_type": "code",
   "execution_count": 8,
   "metadata": {
    "ExecuteTime": {
     "end_time": "2020-04-13T05:47:45.247889Z",
     "start_time": "2020-04-13T05:47:45.245191Z"
    }
   },
   "outputs": [],
   "source": [
    "def draw_network(data, width=600, height=400):\n",
    "    display(Javascript(\"\"\"\n",
    "        (function(element){\n",
    "            require(['tree'], function(tree) {\n",
    "                tree(element.get(0), %s, %d, %d);\n",
    "            });\n",
    "        })(element);\n",
    "    \"\"\" % (json.dumps(data), width, height)))"
   ]
  },
  {
   "cell_type": "code",
   "execution_count": 9,
   "metadata": {
    "ExecuteTime": {
     "end_time": "2020-04-13T05:47:45.889894Z",
     "start_time": "2020-04-13T05:47:45.886274Z"
    }
   },
   "outputs": [
    {
     "data": {
      "application/javascript": [
       "\n",
       "        (function(element){\n",
       "            require(['tree'], function(tree) {\n",
       "                tree(element.get(0), [[\"A\", \"B\"], [\"C\", \"D\"], [\"A\", \"C\"], [\"C\", \"E\"]], 600, 400);\n",
       "            });\n",
       "        })(element);\n",
       "    "
      ],
      "text/plain": [
       "<IPython.core.display.Javascript object>"
      ]
     },
     "metadata": {},
     "output_type": "display_data"
    }
   ],
   "source": [
    "draw_network(network)"
   ]
  },
  {
   "cell_type": "code",
   "execution_count": 10,
   "metadata": {
    "ExecuteTime": {
     "end_time": "2020-04-13T05:47:48.442189Z",
     "start_time": "2020-04-13T05:47:48.438528Z"
    }
   },
   "outputs": [],
   "source": [
    "def draw_dag(parents_to_children):\n",
    "    network_data = []\n",
    "    for parent, children in parents_to_children.items():\n",
    "        links = [[parent, child] for child in children]\n",
    "        network_data.extend(links)\n",
    "    draw_network(network_data)"
   ]
  },
  {
   "cell_type": "code",
   "execution_count": 11,
   "metadata": {
    "ExecuteTime": {
     "end_time": "2020-04-13T05:47:48.855693Z",
     "start_time": "2020-04-13T05:47:48.851912Z"
    }
   },
   "outputs": [
    {
     "data": {
      "application/javascript": [
       "\n",
       "        (function(element){\n",
       "            require(['tree'], function(tree) {\n",
       "                tree(element.get(0), [[\"A\", \"B\"], [\"A\", \"C\"], [\"C\", \"D\"], [\"C\", \"E\"]], 600, 400);\n",
       "            });\n",
       "        })(element);\n",
       "    "
      ],
      "text/plain": [
       "<IPython.core.display.Javascript object>"
      ]
     },
     "metadata": {},
     "output_type": "display_data"
    }
   ],
   "source": [
    "draw_dag({'A': ['B', 'C'], 'B': [], 'C': ['D', 'E'], 'D': [], 'E': []})"
   ]
  },
  {
   "cell_type": "markdown",
   "metadata": {},
   "source": [
    "## Data Science imports"
   ]
  },
  {
   "cell_type": "code",
   "execution_count": null,
   "metadata": {
    "ExecuteTime": {
     "end_time": "2020-04-13T01:32:26.362472Z",
     "start_time": "2020-04-13T01:32:21.188640Z"
    }
   },
   "outputs": [],
   "source": [
    "import numpy as np\n",
    "import pandas as pd\n",
    "import matplotlib.pyplot as plt\n",
    "import seaborn as sns\n",
    "\n",
    "from sklearn.linear_model import LinearRegression\n",
    "\n",
    "%matplotlib inline"
   ]
  },
  {
   "cell_type": "code",
   "execution_count": null,
   "metadata": {
    "ExecuteTime": {
     "end_time": "2020-04-13T01:32:26.370748Z",
     "start_time": "2020-04-13T01:32:26.363836Z"
    }
   },
   "outputs": [],
   "source": [
    "def simpson(samples, stddev, causal_effect):\n",
    "    Z1 = np.random.normal(scale=stddev, size=samples)\n",
    "    Z3 = np.random.normal(scale=stddev, size=samples) + Z1\n",
    "    Z5 = np.random.normal(scale=stddev, size=samples) + Z3\n",
    "    U  = np.random.normal(scale=stddev, size=samples) + Z1\n",
    "    Z4 = np.random.normal(scale=stddev, size=samples) + Z5 + U\n",
    "    Z2 = np.random.normal(scale=stddev, size=samples) + Z3 + U\n",
    "    X  = np.random.normal(scale=stddev, size=samples) + U\n",
    "    Y  = np.random.normal(scale=stddev, size=samples) + causal_effect*X + 10*Z5\n",
    "    return pd.DataFrame({\n",
    "        'X': X,\n",
    "        'Z1': Z1,\n",
    "        'Z2': Z2,\n",
    "        'Z3': Z3,\n",
    "        'Z4': Z4,\n",
    "        'Z5': Z5,\n",
    "        'Y': Y})"
   ]
  },
  {
   "cell_type": "code",
   "execution_count": null,
   "metadata": {
    "ExecuteTime": {
     "end_time": "2020-04-13T01:32:26.381157Z",
     "start_time": "2020-04-13T01:32:26.372076Z"
    }
   },
   "outputs": [],
   "source": [
    "data = simpson(100, 2.2, 2)\n",
    "features = data.drop('Y', axis=1)\n",
    "target = data.Y"
   ]
  },
  {
   "cell_type": "code",
   "execution_count": null,
   "metadata": {
    "ExecuteTime": {
     "end_time": "2020-04-13T01:32:26.395171Z",
     "start_time": "2020-04-13T01:32:26.382654Z"
    }
   },
   "outputs": [],
   "source": [
    "lr = LinearRegression().fit(features, target)\n",
    "\n",
    "lr.coef_"
   ]
  },
  {
   "cell_type": "code",
   "execution_count": null,
   "metadata": {
    "ExecuteTime": {
     "end_time": "2020-04-13T01:32:26.401197Z",
     "start_time": "2020-04-13T01:32:26.396960Z"
    }
   },
   "outputs": [],
   "source": [
    "def get_coefficients(data, feature_names=None):\n",
    "    if feature_names is None:\n",
    "        features = data.drop('Y', axis=1)\n",
    "        feature_names = features.columns\n",
    "    else:\n",
    "        features = data[feature_names]\n",
    "    lr = LinearRegression().fit(features, data.Y)\n",
    "    coefficients = lr.coef_.reshape(1, -1)\n",
    "    return pd.DataFrame(coefficients, columns=feature_names)"
   ]
  },
  {
   "cell_type": "code",
   "execution_count": null,
   "metadata": {
    "ExecuteTime": {
     "end_time": "2020-04-13T01:32:26.421827Z",
     "start_time": "2020-04-13T01:32:26.402601Z"
    }
   },
   "outputs": [],
   "source": [
    "get_coefficients(data, ['X', 'Z1', 'Z2', 'Z3'])"
   ]
  },
  {
   "cell_type": "markdown",
   "metadata": {},
   "source": [
    "## Salary and experience"
   ]
  },
  {
   "cell_type": "code",
   "execution_count": null,
   "metadata": {
    "ExecuteTime": {
     "end_time": "2020-04-13T01:32:26.429211Z",
     "start_time": "2020-04-13T01:32:26.423205Z"
    }
   },
   "outputs": [],
   "source": [
    "N = 3000\n",
    "\n",
    "education = np.random.choice([0, 1, 2],p=[0.05,0.75,0.2], size=(N))\n",
    "experience = np.random.binomial(25, p=0.8, size=(N))\n",
    "gap_years = np.random.choice([0, 1, 2],p=[0.2,0.7,0.1], size=(N))\n",
    "\n",
    "age = 18 + 4*education + experience + gap_years\n",
    "\n",
    "salary = 3*experience + 2*education\n",
    "\n",
    "df = pd.DataFrame({\n",
    "    'education': education, 'experience': experience, 'gap': gap_years, 'age': age, 'salary': salary\n",
    "})"
   ]
  },
  {
   "cell_type": "code",
   "execution_count": null,
   "metadata": {
    "ExecuteTime": {
     "end_time": "2020-04-13T01:32:26.437642Z",
     "start_time": "2020-04-13T01:32:26.430578Z"
    }
   },
   "outputs": [],
   "source": [
    "df.head()"
   ]
  },
  {
   "cell_type": "code",
   "execution_count": null,
   "metadata": {
    "ExecuteTime": {
     "end_time": "2020-04-13T01:32:26.445866Z",
     "start_time": "2020-04-13T01:32:26.439072Z"
    }
   },
   "outputs": [],
   "source": [
    "LinearRegression().fit(df.drop('salary', axis=1), df.salary).coef_"
   ]
  },
  {
   "cell_type": "code",
   "execution_count": null,
   "metadata": {
    "ExecuteTime": {
     "end_time": "2020-04-13T01:32:31.028053Z",
     "start_time": "2020-04-13T01:32:26.447501Z"
    }
   },
   "outputs": [],
   "source": [
    "sns.pairplot(df)"
   ]
  },
  {
   "cell_type": "code",
   "execution_count": null,
   "metadata": {
    "ExecuteTime": {
     "end_time": "2020-04-13T01:32:31.035647Z",
     "start_time": "2020-04-13T01:32:31.029294Z"
    }
   },
   "outputs": [],
   "source": [
    "features = df[['age', 'experience']]\n",
    "targets = df['salary']\n",
    "\n",
    "lr = LinearRegression().fit(features, targets)\n",
    "lr.coef_, lr.intercept_"
   ]
  },
  {
   "cell_type": "code",
   "execution_count": null,
   "metadata": {
    "ExecuteTime": {
     "end_time": "2020-04-13T01:32:31.039847Z",
     "start_time": "2020-04-13T01:32:31.036932Z"
    }
   },
   "outputs": [],
   "source": [
    "data = [5, 10, 20, 40, 50, 30, 10, 20, 40, 10, 5]"
   ]
  },
  {
   "cell_type": "code",
   "execution_count": null,
   "metadata": {
    "ExecuteTime": {
     "end_time": "2020-04-13T00:38:15.939624Z",
     "start_time": "2020-04-13T00:38:15.937077Z"
    }
   },
   "outputs": [],
   "source": []
  },
  {
   "cell_type": "code",
   "execution_count": null,
   "metadata": {
    "ExecuteTime": {
     "end_time": "2020-04-13T01:32:31.172935Z",
     "start_time": "2020-04-13T01:32:31.041184Z"
    }
   },
   "outputs": [],
   "source": [
    "!ls"
   ]
  },
  {
   "cell_type": "code",
   "execution_count": null,
   "metadata": {
    "ExecuteTime": {
     "end_time": "2020-04-13T01:32:31.178853Z",
     "start_time": "2020-04-13T01:32:31.174346Z"
    }
   },
   "outputs": [],
   "source": [
    "display(Javascript(filename='circles.js'))"
   ]
  },
  {
   "cell_type": "code",
   "execution_count": 12,
   "metadata": {
    "ExecuteTime": {
     "end_time": "2020-04-13T05:49:50.727069Z",
     "start_time": "2020-04-13T05:49:50.648300Z"
    }
   },
   "outputs": [
    {
     "ename": "NameError",
     "evalue": "name 'data' is not defined",
     "output_type": "error",
     "traceback": [
      "\u001b[0;31m---------------------------------------------------------------------------\u001b[0m",
      "\u001b[0;31mNameError\u001b[0m                                 Traceback (most recent call last)",
      "\u001b[0;32m<ipython-input-12-6ed8f8041ee0>\u001b[0m in \u001b[0;36m<module>\u001b[0;34m\u001b[0m\n\u001b[1;32m      5\u001b[0m     });\n\u001b[1;32m      6\u001b[0m })(element);\n\u001b[0;32m----> 7\u001b[0;31m \"\"\" % json.dumps(data)))\n\u001b[0m",
      "\u001b[0;31mNameError\u001b[0m: name 'data' is not defined"
     ]
    }
   ],
   "source": [
    "display(Javascript(\"\"\"\n",
    "(function(element){\n",
    "    require(['circles'], function(circles) {\n",
    "        circles(element.get(0), %s)\n",
    "    });\n",
    "})(element);\n",
    "\"\"\" % json.dumps(data)))"
   ]
  },
  {
   "cell_type": "code",
   "execution_count": 13,
   "metadata": {
    "ExecuteTime": {
     "end_time": "2020-04-13T05:49:54.348236Z",
     "start_time": "2020-04-13T05:49:54.344107Z"
    }
   },
   "outputs": [
    {
     "data": {
      "application/javascript": [
       "(function(element) {\n",
       "    require(['d3'], function(d3) {   \n",
       "        var data = [1, 2, 4, 8, 16, 8, 4, 2, 1]\n",
       "\n",
       "        var svg = d3.select(element.get(0)).append('svg')\n",
       "            .attr('width', 400)\n",
       "            .attr('height', 200);\n",
       "        svg.selectAll('circle')\n",
       "            .data(data)\n",
       "            .enter()\n",
       "            .append('circle')\n",
       "            .attr(\"cx\", function(d, i) {return 40 * (i + 1);})\n",
       "            .attr(\"cy\", function(d, i) {return 100 + 30 * (i % 3 - 1);})\n",
       "            .style(\"fill\", \"#1570a4\")\n",
       "            .transition().duration(2000)\n",
       "            .attr(\"r\", function(d) {return 2*d;})\n",
       "        ;\n",
       "    })\n",
       "})(element);\n"
      ],
      "text/plain": [
       "<IPython.core.display.Javascript object>"
      ]
     },
     "metadata": {},
     "output_type": "display_data"
    }
   ],
   "source": [
    "%%javascript\n",
    "(function(element) {\n",
    "    require(['d3'], function(d3) {   \n",
    "        var data = [1, 2, 4, 8, 16, 8, 4, 2, 1]\n",
    "\n",
    "        var svg = d3.select(element.get(0)).append('svg')\n",
    "            .attr('width', 400)\n",
    "            .attr('height', 200);\n",
    "        svg.selectAll('circle')\n",
    "            .data(data)\n",
    "            .enter()\n",
    "            .append('circle')\n",
    "            .attr(\"cx\", function(d, i) {return 40 * (i + 1);})\n",
    "            .attr(\"cy\", function(d, i) {return 100 + 30 * (i % 3 - 1);})\n",
    "            .style(\"fill\", \"#1570a4\")\n",
    "            .transition().duration(2000)\n",
    "            .attr(\"r\", function(d) {return 2*d;})\n",
    "        ;\n",
    "    })\n",
    "})(element);"
   ]
  },
  {
   "cell_type": "code",
   "execution_count": null,
   "metadata": {
    "ExecuteTime": {
     "end_time": "2020-04-13T01:32:31.199863Z",
     "start_time": "2020-04-13T01:32:31.195154Z"
    }
   },
   "outputs": [],
   "source": [
    "display(Javascript(\"require.config({paths: {d3: 'https://d3js.org/d3.v5.min'}});\"))\n",
    "display(Javascript(filename=\"circles.js\"))"
   ]
  },
  {
   "cell_type": "code",
   "execution_count": null,
   "metadata": {
    "ExecuteTime": {
     "end_time": "2020-04-13T00:38:16.104842Z",
     "start_time": "2020-04-13T00:38:16.101378Z"
    }
   },
   "outputs": [],
   "source": []
  },
  {
   "cell_type": "code",
   "execution_count": null,
   "metadata": {
    "ExecuteTime": {
     "end_time": "2020-04-13T01:32:31.205057Z",
     "start_time": "2020-04-13T01:32:31.201114Z"
    }
   },
   "outputs": [],
   "source": [
    "draw_circles([10, 60, 40, 5, 30, 10], width=500, height=200)"
   ]
  },
  {
   "cell_type": "code",
   "execution_count": null,
   "metadata": {},
   "outputs": [],
   "source": []
  }
 ],
 "metadata": {
  "kernelspec": {
   "display_name": "causal",
   "language": "python",
   "name": "causal"
  },
  "language_info": {
   "codemirror_mode": {
    "name": "ipython",
    "version": 3
   },
   "file_extension": ".py",
   "mimetype": "text/x-python",
   "name": "python",
   "nbconvert_exporter": "python",
   "pygments_lexer": "ipython3",
   "version": "3.8.2"
  },
  "varInspector": {
   "cols": {
    "lenName": 16,
    "lenType": 16,
    "lenVar": 40
   },
   "kernels_config": {
    "python": {
     "delete_cmd_postfix": "",
     "delete_cmd_prefix": "del ",
     "library": "var_list.py",
     "varRefreshCmd": "print(var_dic_list())"
    },
    "r": {
     "delete_cmd_postfix": ") ",
     "delete_cmd_prefix": "rm(",
     "library": "var_list.r",
     "varRefreshCmd": "cat(var_dic_list()) "
    }
   },
   "types_to_exclude": [
    "module",
    "function",
    "builtin_function_or_method",
    "instance",
    "_Feature"
   ],
   "window_display": false
  }
 },
 "nbformat": 4,
 "nbformat_minor": 4
}
